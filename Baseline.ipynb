{
 "cells": [
  {
   "cell_type": "code",
   "execution_count": 1,
   "id": "initial_id",
   "metadata": {
    "ExecuteTime": {
     "end_time": "2023-11-14T20:15:48.177656Z",
     "start_time": "2023-11-14T20:15:48.172642Z"
    }
   },
   "outputs": [
    {
     "data": {
      "text/html": [
       "<style type='text/css'>\n",
       ".datatable table.frame { margin-bottom: 0; }\n",
       ".datatable table.frame thead { border-bottom: none; }\n",
       ".datatable table.frame tr.coltypes td {  color: #FFFFFF;  line-height: 6px;  padding: 0 0.5em;}\n",
       ".datatable .bool    { background: #DDDD99; }\n",
       ".datatable .object  { background: #565656; }\n",
       ".datatable .int     { background: #5D9E5D; }\n",
       ".datatable .float   { background: #4040CC; }\n",
       ".datatable .str     { background: #CC4040; }\n",
       ".datatable .time    { background: #40CC40; }\n",
       ".datatable .row_index {  background: var(--jp-border-color3);  border-right: 1px solid var(--jp-border-color0);  color: var(--jp-ui-font-color3);  font-size: 9px;}\n",
       ".datatable .frame tbody td { text-align: left; }\n",
       ".datatable .frame tr.coltypes .row_index {  background: var(--jp-border-color0);}\n",
       ".datatable th:nth-child(2) { padding-left: 12px; }\n",
       ".datatable .hellipsis {  color: var(--jp-cell-editor-border-color);}\n",
       ".datatable .vellipsis {  background: var(--jp-layout-color0);  color: var(--jp-cell-editor-border-color);}\n",
       ".datatable .na {  color: var(--jp-cell-editor-border-color);  font-size: 80%;}\n",
       ".datatable .sp {  opacity: 0.25;}\n",
       ".datatable .footer { font-size: 9px; }\n",
       ".datatable .frame_dimensions {  background: var(--jp-border-color3);  border-top: 1px solid var(--jp-border-color0);  color: var(--jp-ui-font-color3);  display: inline-block;  opacity: 0.6;  padding: 1px 10px 1px 5px;}\n",
       "</style>\n"
      ],
      "text/plain": [
       "<IPython.core.display.HTML object>"
      ]
     },
     "metadata": {},
     "output_type": "display_data"
    }
   ],
   "source": [
    "import duckdb\n",
    "import pandas as pd\n",
    "import numpy as np\n",
    "from src.model.utils import train_model\n",
    "from src.preprocess.etl import get_dataframe\n",
    "from src.model.inference import predict_month\n",
    "from src.monitoring.adversarial import train_adversarial\n",
    "from src.constants import PATH_DATABASE, MONTHS_BASELINE, MONTHS_INFERENCE, PARAMS\n",
    "\n",
    "\n",
    "import warnings\n",
    "\n",
    "warnings.filterwarnings(\"ignore\")"
   ]
  },
  {
   "cell_type": "code",
   "execution_count": 2,
   "id": "b3e004a2709babbf",
   "metadata": {
    "collapsed": false,
    "jupyter": {
     "outputs_hidden": false
    }
   },
   "outputs": [],
   "source": [
    "%load_ext autoreload\n",
    "%autoreload 2"
   ]
  },
  {
   "cell_type": "code",
   "execution_count": 3,
   "id": "aa1f133145f969e0",
   "metadata": {
    "ExecuteTime": {
     "end_time": "2023-11-14T20:15:48.553829Z",
     "start_time": "2023-11-14T20:15:48.550112Z"
    },
    "collapsed": false,
    "jupyter": {
     "outputs_hidden": false
    }
   },
   "outputs": [],
   "source": [
    "con = duckdb.connect(database=PATH_DATABASE, read_only=True)"
   ]
  },
  {
   "cell_type": "code",
   "execution_count": 4,
   "id": "d3906bbb471b039f",
   "metadata": {
    "ExecuteTime": {
     "end_time": "2023-11-14T20:15:48.853730Z",
     "start_time": "2023-11-14T20:15:48.840919Z"
    },
    "collapsed": false,
    "jupyter": {
     "outputs_hidden": false
    }
   },
   "outputs": [
    {
     "data": {
      "text/plain": [
       "'202007, 202008, 202009, 202010, 202011, 202012, 202101, 202102, 202103, 202104, 202105, 202106, 202107, 202108, 202109'"
      ]
     },
     "execution_count": 4,
     "metadata": {},
     "output_type": "execute_result"
    }
   ],
   "source": [
    "all_months = MONTHS_BASELINE + MONTHS_INFERENCE\n",
    "all_months = [str(month) for month in all_months]\n",
    "where_clause = \", \".join(all_months)\n",
    "where_clause"
   ]
  },
  {
   "cell_type": "code",
   "execution_count": 5,
   "id": "2fb775af5dca372a",
   "metadata": {
    "ExecuteTime": {
     "end_time": "2023-11-14T20:15:53.675943Z",
     "start_time": "2023-11-14T20:15:53.666724Z"
    },
    "collapsed": false,
    "jupyter": {
     "outputs_hidden": false
    }
   },
   "outputs": [],
   "source": [
    "df = con.sql(\n",
    "    f\"\"\"\n",
    "    SELECT\n",
    "        *\n",
    "    FROM competencia_03\n",
    "    WHERE foto_mes IN ({where_clause})\n",
    "    \"\"\"\n",
    ").to_df()"
   ]
  },
  {
   "cell_type": "code",
   "execution_count": 6,
   "id": "153b27978299900f",
   "metadata": {
    "ExecuteTime": {
     "end_time": "2023-11-14T20:15:54.465019Z",
     "start_time": "2023-11-14T20:15:54.456711Z"
    },
    "collapsed": false,
    "jupyter": {
     "outputs_hidden": false
    }
   },
   "outputs": [
    {
     "data": {
      "text/html": [
       "<div>\n",
       "<style scoped>\n",
       "    .dataframe tbody tr th:only-of-type {\n",
       "        vertical-align: middle;\n",
       "    }\n",
       "\n",
       "    .dataframe tbody tr th {\n",
       "        vertical-align: top;\n",
       "    }\n",
       "\n",
       "    .dataframe thead th {\n",
       "        text-align: right;\n",
       "    }\n",
       "</style>\n",
       "<table border=\"1\" class=\"dataframe\">\n",
       "  <thead>\n",
       "    <tr style=\"text-align: right;\">\n",
       "      <th></th>\n",
       "      <th>numero_de_cliente</th>\n",
       "      <th>foto_mes</th>\n",
       "      <th>active_quarter</th>\n",
       "      <th>cliente_vip</th>\n",
       "      <th>internet</th>\n",
       "      <th>cliente_edad</th>\n",
       "      <th>cliente_antiguedad</th>\n",
       "      <th>mrentabilidad</th>\n",
       "      <th>mrentabilidad_annual</th>\n",
       "      <th>mcomisiones</th>\n",
       "      <th>...</th>\n",
       "      <th>Visa_mconsumototal</th>\n",
       "      <th>Visa_cconsumos</th>\n",
       "      <th>Visa_cadelantosefectivo</th>\n",
       "      <th>Visa_mpagominimo</th>\n",
       "      <th>clase_ternaria_202104</th>\n",
       "      <th>clase_ternaria_202105</th>\n",
       "      <th>clase_ternaria_202106</th>\n",
       "      <th>clase_ternaria_202107</th>\n",
       "      <th>clase_ternaria_202108</th>\n",
       "      <th>clase_ternaria_202109</th>\n",
       "    </tr>\n",
       "  </thead>\n",
       "  <tbody>\n",
       "    <tr>\n",
       "      <th>0</th>\n",
       "      <td>70761293</td>\n",
       "      <td>202009</td>\n",
       "      <td>1</td>\n",
       "      <td>0</td>\n",
       "      <td>1</td>\n",
       "      <td>44</td>\n",
       "      <td>26</td>\n",
       "      <td>507.20</td>\n",
       "      <td>25042.65</td>\n",
       "      <td>257.97</td>\n",
       "      <td>...</td>\n",
       "      <td>NaN</td>\n",
       "      <td>NaN</td>\n",
       "      <td>NaN</td>\n",
       "      <td>0.00</td>\n",
       "      <td>CONTINUA</td>\n",
       "      <td>CONTINUA</td>\n",
       "      <td>CONTINUA</td>\n",
       "      <td>CONTINUA</td>\n",
       "      <td>CONTINUA</td>\n",
       "      <td>CONTINUA</td>\n",
       "    </tr>\n",
       "    <tr>\n",
       "      <th>1</th>\n",
       "      <td>70764581</td>\n",
       "      <td>202009</td>\n",
       "      <td>1</td>\n",
       "      <td>0</td>\n",
       "      <td>1</td>\n",
       "      <td>44</td>\n",
       "      <td>170</td>\n",
       "      <td>643.54</td>\n",
       "      <td>-2348.36</td>\n",
       "      <td>610.74</td>\n",
       "      <td>...</td>\n",
       "      <td>5297.83</td>\n",
       "      <td>8.0</td>\n",
       "      <td>0.0</td>\n",
       "      <td>0.00</td>\n",
       "      <td>CONTINUA</td>\n",
       "      <td>CONTINUA</td>\n",
       "      <td>CONTINUA</td>\n",
       "      <td>CONTINUA</td>\n",
       "      <td>CONTINUA</td>\n",
       "      <td>CONTINUA</td>\n",
       "    </tr>\n",
       "    <tr>\n",
       "      <th>2</th>\n",
       "      <td>70764666</td>\n",
       "      <td>202009</td>\n",
       "      <td>1</td>\n",
       "      <td>0</td>\n",
       "      <td>1</td>\n",
       "      <td>44</td>\n",
       "      <td>188</td>\n",
       "      <td>-373.53</td>\n",
       "      <td>18174.30</td>\n",
       "      <td>606.58</td>\n",
       "      <td>...</td>\n",
       "      <td>10670.59</td>\n",
       "      <td>9.0</td>\n",
       "      <td>0.0</td>\n",
       "      <td>1771.23</td>\n",
       "      <td>CONTINUA</td>\n",
       "      <td>CONTINUA</td>\n",
       "      <td>CONTINUA</td>\n",
       "      <td>CONTINUA</td>\n",
       "      <td>CONTINUA</td>\n",
       "      <td>CONTINUA</td>\n",
       "    </tr>\n",
       "    <tr>\n",
       "      <th>3</th>\n",
       "      <td>70765905</td>\n",
       "      <td>202009</td>\n",
       "      <td>1</td>\n",
       "      <td>0</td>\n",
       "      <td>1</td>\n",
       "      <td>43</td>\n",
       "      <td>102</td>\n",
       "      <td>-2445.17</td>\n",
       "      <td>1088.70</td>\n",
       "      <td>306.72</td>\n",
       "      <td>...</td>\n",
       "      <td>15238.34</td>\n",
       "      <td>11.0</td>\n",
       "      <td>0.0</td>\n",
       "      <td>1008.78</td>\n",
       "      <td>CONTINUA</td>\n",
       "      <td>CONTINUA</td>\n",
       "      <td>CONTINUA</td>\n",
       "      <td>CONTINUA</td>\n",
       "      <td>CONTINUA</td>\n",
       "      <td>CONTINUA</td>\n",
       "    </tr>\n",
       "    <tr>\n",
       "      <th>4</th>\n",
       "      <td>70767758</td>\n",
       "      <td>202009</td>\n",
       "      <td>0</td>\n",
       "      <td>0</td>\n",
       "      <td>1</td>\n",
       "      <td>43</td>\n",
       "      <td>119</td>\n",
       "      <td>229.91</td>\n",
       "      <td>6141.71</td>\n",
       "      <td>62.63</td>\n",
       "      <td>...</td>\n",
       "      <td>NaN</td>\n",
       "      <td>NaN</td>\n",
       "      <td>NaN</td>\n",
       "      <td>0.00</td>\n",
       "      <td>CONTINUA</td>\n",
       "      <td>CONTINUA</td>\n",
       "      <td>CONTINUA</td>\n",
       "      <td>CONTINUA</td>\n",
       "      <td>CONTINUA</td>\n",
       "      <td>CONTINUA</td>\n",
       "    </tr>\n",
       "  </tbody>\n",
       "</table>\n",
       "<p>5 rows × 160 columns</p>\n",
       "</div>"
      ],
      "text/plain": [
       "   numero_de_cliente  foto_mes  active_quarter  cliente_vip  internet  \\\n",
       "0           70761293    202009               1            0         1   \n",
       "1           70764581    202009               1            0         1   \n",
       "2           70764666    202009               1            0         1   \n",
       "3           70765905    202009               1            0         1   \n",
       "4           70767758    202009               0            0         1   \n",
       "\n",
       "   cliente_edad  cliente_antiguedad  mrentabilidad  mrentabilidad_annual  \\\n",
       "0            44                  26         507.20              25042.65   \n",
       "1            44                 170         643.54              -2348.36   \n",
       "2            44                 188        -373.53              18174.30   \n",
       "3            43                 102       -2445.17               1088.70   \n",
       "4            43                 119         229.91               6141.71   \n",
       "\n",
       "   mcomisiones  ...  Visa_mconsumototal  Visa_cconsumos  \\\n",
       "0       257.97  ...                 NaN             NaN   \n",
       "1       610.74  ...             5297.83             8.0   \n",
       "2       606.58  ...            10670.59             9.0   \n",
       "3       306.72  ...            15238.34            11.0   \n",
       "4        62.63  ...                 NaN             NaN   \n",
       "\n",
       "   Visa_cadelantosefectivo  Visa_mpagominimo  clase_ternaria_202104  \\\n",
       "0                      NaN              0.00               CONTINUA   \n",
       "1                      0.0              0.00               CONTINUA   \n",
       "2                      0.0           1771.23               CONTINUA   \n",
       "3                      0.0           1008.78               CONTINUA   \n",
       "4                      NaN              0.00               CONTINUA   \n",
       "\n",
       "   clase_ternaria_202105  clase_ternaria_202106  clase_ternaria_202107  \\\n",
       "0               CONTINUA               CONTINUA               CONTINUA   \n",
       "1               CONTINUA               CONTINUA               CONTINUA   \n",
       "2               CONTINUA               CONTINUA               CONTINUA   \n",
       "3               CONTINUA               CONTINUA               CONTINUA   \n",
       "4               CONTINUA               CONTINUA               CONTINUA   \n",
       "\n",
       "   clase_ternaria_202108  clase_ternaria_202109  \n",
       "0               CONTINUA               CONTINUA  \n",
       "1               CONTINUA               CONTINUA  \n",
       "2               CONTINUA               CONTINUA  \n",
       "3               CONTINUA               CONTINUA  \n",
       "4               CONTINUA               CONTINUA  \n",
       "\n",
       "[5 rows x 160 columns]"
      ]
     },
     "execution_count": 6,
     "metadata": {},
     "output_type": "execute_result"
    }
   ],
   "source": [
    "df.head()"
   ]
  },
  {
   "cell_type": "code",
   "execution_count": 7,
   "id": "ddbf2d81-504c-4b81-b78c-d7926d9290b4",
   "metadata": {},
   "outputs": [
    {
     "name": "stdout",
     "output_type": "stream",
     "text": [
      "<class 'pandas.core.frame.DataFrame'>\n",
      "RangeIndex: 2425607 entries, 0 to 2425606\n",
      "Columns: 160 entries, numero_de_cliente to clase_ternaria_202109\n",
      "dtypes: float64(91), int64(63), object(6)\n",
      "memory usage: 2.9+ GB\n"
     ]
    }
   ],
   "source": [
    "df.info()"
   ]
  },
  {
   "cell_type": "code",
   "execution_count": 8,
   "id": "7852b315-e1de-48fc-b4d5-f504dbbbbc75",
   "metadata": {},
   "outputs": [
    {
     "data": {
      "text/plain": [
       "array([202007, 202008, 202009, 202010, 202011, 202012, 202101, 202102,\n",
       "       202103, 202104, 202105, 202106, 202107, 202108, 202109])"
      ]
     },
     "execution_count": 8,
     "metadata": {},
     "output_type": "execute_result"
    }
   ],
   "source": [
    "np.sort(df[\"foto_mes\"].unique())"
   ]
  },
  {
   "cell_type": "code",
   "execution_count": 9,
   "id": "b29fa15c002093a9",
   "metadata": {
    "ExecuteTime": {
     "end_time": "2023-11-14T20:15:54.991120Z",
     "start_time": "2023-11-14T20:15:54.985250Z"
    },
    "collapsed": false,
    "jupyter": {
     "outputs_hidden": false
    }
   },
   "outputs": [
    {
     "data": {
      "text/plain": [
       "['clase_ternaria_202104',\n",
       " 'clase_ternaria_202105',\n",
       " 'clase_ternaria_202106',\n",
       " 'clase_ternaria_202107',\n",
       " 'clase_ternaria_202108',\n",
       " 'clase_ternaria_202109',\n",
       " 'clase_binaria']"
      ]
     },
     "execution_count": 9,
     "metadata": {},
     "output_type": "execute_result"
    }
   ],
   "source": [
    "drop_cols = [f\"clase_ternaria_{i}\" for i in MONTHS_INFERENCE]\n",
    "drop_cols.append(\"clase_binaria\")\n",
    "drop_cols"
   ]
  },
  {
   "cell_type": "code",
   "execution_count": 10,
   "id": "c469b865c2fe079f",
   "metadata": {
    "ExecuteTime": {
     "end_time": "2023-11-14T20:15:55.590833Z",
     "start_time": "2023-11-14T20:15:55.588187Z"
    },
    "collapsed": false,
    "jupyter": {
     "outputs_hidden": false
    }
   },
   "outputs": [
    {
     "data": {
      "text/html": [
       "<div>\n",
       "<style scoped>\n",
       "    .dataframe tbody tr th:only-of-type {\n",
       "        vertical-align: middle;\n",
       "    }\n",
       "\n",
       "    .dataframe tbody tr th {\n",
       "        vertical-align: top;\n",
       "    }\n",
       "\n",
       "    .dataframe thead th {\n",
       "        text-align: right;\n",
       "    }\n",
       "</style>\n",
       "<table border=\"1\" class=\"dataframe\">\n",
       "  <thead>\n",
       "    <tr style=\"text-align: right;\">\n",
       "      <th></th>\n",
       "      <th>numero_de_cliente</th>\n",
       "      <th>foto_mes</th>\n",
       "      <th>clase_ternaria_202109</th>\n",
       "    </tr>\n",
       "  </thead>\n",
       "  <tbody>\n",
       "    <tr>\n",
       "      <th>0</th>\n",
       "      <td>70761293</td>\n",
       "      <td>202009</td>\n",
       "      <td>CONTINUA</td>\n",
       "    </tr>\n",
       "    <tr>\n",
       "      <th>1</th>\n",
       "      <td>70764581</td>\n",
       "      <td>202009</td>\n",
       "      <td>CONTINUA</td>\n",
       "    </tr>\n",
       "    <tr>\n",
       "      <th>2</th>\n",
       "      <td>70764666</td>\n",
       "      <td>202009</td>\n",
       "      <td>CONTINUA</td>\n",
       "    </tr>\n",
       "    <tr>\n",
       "      <th>3</th>\n",
       "      <td>70765905</td>\n",
       "      <td>202009</td>\n",
       "      <td>CONTINUA</td>\n",
       "    </tr>\n",
       "    <tr>\n",
       "      <th>4</th>\n",
       "      <td>70767758</td>\n",
       "      <td>202009</td>\n",
       "      <td>CONTINUA</td>\n",
       "    </tr>\n",
       "    <tr>\n",
       "      <th>...</th>\n",
       "      <td>...</td>\n",
       "      <td>...</td>\n",
       "      <td>...</td>\n",
       "    </tr>\n",
       "    <tr>\n",
       "      <th>2425602</th>\n",
       "      <td>68284360</td>\n",
       "      <td>202010</td>\n",
       "      <td>CONTINUA</td>\n",
       "    </tr>\n",
       "    <tr>\n",
       "      <th>2425603</th>\n",
       "      <td>69736551</td>\n",
       "      <td>202010</td>\n",
       "      <td>CONTINUA</td>\n",
       "    </tr>\n",
       "    <tr>\n",
       "      <th>2425604</th>\n",
       "      <td>69184218</td>\n",
       "      <td>202010</td>\n",
       "      <td>CONTINUA</td>\n",
       "    </tr>\n",
       "    <tr>\n",
       "      <th>2425605</th>\n",
       "      <td>69341118</td>\n",
       "      <td>202010</td>\n",
       "      <td>CONTINUA</td>\n",
       "    </tr>\n",
       "    <tr>\n",
       "      <th>2425606</th>\n",
       "      <td>70018071</td>\n",
       "      <td>202010</td>\n",
       "      <td>CONTINUA</td>\n",
       "    </tr>\n",
       "  </tbody>\n",
       "</table>\n",
       "<p>2095389 rows × 3 columns</p>\n",
       "</div>"
      ],
      "text/plain": [
       "         numero_de_cliente  foto_mes clase_ternaria_202109\n",
       "0                 70761293    202009              CONTINUA\n",
       "1                 70764581    202009              CONTINUA\n",
       "2                 70764666    202009              CONTINUA\n",
       "3                 70765905    202009              CONTINUA\n",
       "4                 70767758    202009              CONTINUA\n",
       "...                    ...       ...                   ...\n",
       "2425602           68284360    202010              CONTINUA\n",
       "2425603           69736551    202010              CONTINUA\n",
       "2425604           69184218    202010              CONTINUA\n",
       "2425605           69341118    202010              CONTINUA\n",
       "2425606           70018071    202010              CONTINUA\n",
       "\n",
       "[2095389 rows x 3 columns]"
      ]
     },
     "execution_count": 10,
     "metadata": {},
     "output_type": "execute_result"
    }
   ],
   "source": [
    "ground_truth = df[[\"numero_de_cliente\",\"foto_mes\", \"clase_ternaria_202109\"]]\n",
    "ground_truth = ground_truth[ground_truth[\"foto_mes\"]<=202107]\n",
    "ground_truth"
   ]
  },
  {
   "cell_type": "code",
   "execution_count": 11,
   "id": "bb83e4a687b3274a",
   "metadata": {
    "ExecuteTime": {
     "end_time": "2023-11-14T20:15:56.439073Z",
     "start_time": "2023-11-14T20:15:56.432604Z"
    },
    "collapsed": false,
    "jupyter": {
     "outputs_hidden": false
    }
   },
   "outputs": [
    {
     "data": {
      "text/html": [
       "<div>\n",
       "<style scoped>\n",
       "    .dataframe tbody tr th:only-of-type {\n",
       "        vertical-align: middle;\n",
       "    }\n",
       "\n",
       "    .dataframe tbody tr th {\n",
       "        vertical-align: top;\n",
       "    }\n",
       "\n",
       "    .dataframe thead th {\n",
       "        text-align: right;\n",
       "    }\n",
       "</style>\n",
       "<table border=\"1\" class=\"dataframe\">\n",
       "  <thead>\n",
       "    <tr style=\"text-align: right;\">\n",
       "      <th></th>\n",
       "      <th>numero_de_cliente</th>\n",
       "      <th>foto_mes</th>\n",
       "      <th>clase_ternaria_202109</th>\n",
       "      <th>ganancia</th>\n",
       "    </tr>\n",
       "  </thead>\n",
       "  <tbody>\n",
       "    <tr>\n",
       "      <th>0</th>\n",
       "      <td>70761293</td>\n",
       "      <td>202009</td>\n",
       "      <td>CONTINUA</td>\n",
       "      <td>-7000</td>\n",
       "    </tr>\n",
       "    <tr>\n",
       "      <th>1</th>\n",
       "      <td>70764581</td>\n",
       "      <td>202009</td>\n",
       "      <td>CONTINUA</td>\n",
       "      <td>-7000</td>\n",
       "    </tr>\n",
       "    <tr>\n",
       "      <th>2</th>\n",
       "      <td>70764666</td>\n",
       "      <td>202009</td>\n",
       "      <td>CONTINUA</td>\n",
       "      <td>-7000</td>\n",
       "    </tr>\n",
       "    <tr>\n",
       "      <th>3</th>\n",
       "      <td>70765905</td>\n",
       "      <td>202009</td>\n",
       "      <td>CONTINUA</td>\n",
       "      <td>-7000</td>\n",
       "    </tr>\n",
       "    <tr>\n",
       "      <th>4</th>\n",
       "      <td>70767758</td>\n",
       "      <td>202009</td>\n",
       "      <td>CONTINUA</td>\n",
       "      <td>-7000</td>\n",
       "    </tr>\n",
       "  </tbody>\n",
       "</table>\n",
       "</div>"
      ],
      "text/plain": [
       "   numero_de_cliente  foto_mes clase_ternaria_202109  ganancia\n",
       "0           70761293    202009              CONTINUA     -7000\n",
       "1           70764581    202009              CONTINUA     -7000\n",
       "2           70764666    202009              CONTINUA     -7000\n",
       "3           70765905    202009              CONTINUA     -7000\n",
       "4           70767758    202009              CONTINUA     -7000"
      ]
     },
     "execution_count": 11,
     "metadata": {},
     "output_type": "execute_result"
    }
   ],
   "source": [
    "ground_truth[\"ganancia\"] = ground_truth[\"clase_ternaria_202109\"].map({\"BAJA+2\":270000, \"BAJA+1\":-7000, \"CONTINUA\":-7000})\n",
    "ground_truth.head()"
   ]
  },
  {
   "cell_type": "code",
   "execution_count": 12,
   "id": "296f1fe2-1589-4219-a870-e33ff25e9339",
   "metadata": {},
   "outputs": [],
   "source": [
    "training_months = sorted(MONTHS_BASELINE)\n",
    "training_months = training_months[0:-1]"
   ]
  },
  {
   "cell_type": "code",
   "execution_count": 13,
   "id": "eb4c7e799799cd02",
   "metadata": {
    "ExecuteTime": {
     "end_time": "2023-11-14T20:15:57.136874Z",
     "start_time": "2023-11-14T20:15:57.133885Z"
    },
    "collapsed": false,
    "jupyter": {
     "outputs_hidden": false
    },
    "scrolled": true
   },
   "outputs": [],
   "source": [
    "# df[\"clase_binaria\"] = df[f\"clase_ternaria_202104\"].map({\"BAJA+2\":1, \"BAJA+1\":1, \"CONTINUA\":0})\n",
    "\n",
    "# df_train = df[df[\"foto_mes\"].isin(training_months)].copy()\n",
    "\n",
    "# print(\"Training months:\", df_train[\"foto_mes\"].unique())\n",
    "\n",
    "# df_train = df_train.reset_index(drop=True)\n",
    "\n",
    "# X_train = df_train.drop(columns=drop_cols, axis=1).copy()\n",
    "# y_train_binaria = df_train[\"clase_binaria\"].copy()\n",
    "\n",
    "# for month in MONTHS_INFERENCE:\n",
    "#     print(\"Pred month:\", month)\n",
    "#     tags_monthly = {\n",
    "#         'stage': 'baseline',\n",
    "#         'last_month': month,\n",
    "#     }\n",
    "#     df_test = df[df[\"foto_mes\"].isin([month])].copy()\n",
    "#     df_test = df_test.reset_index(drop=True)\n",
    "#     X_test = df_test.drop(columns=drop_cols, axis=1).copy()\n",
    "#     y_real_ternaria = df_test[\"clase_ternaria_202109\"].copy().map({\"BAJA+2\":1, \"BAJA+1\":0, \"CONTINUA\":0})\n",
    "#     y_real_binaria = df_test[\"clase_ternaria_202109\"].copy().map({\"BAJA+2\":1, \"BAJA+1\":1, \"CONTINUA\":0})\n",
    "\n",
    "#     tags_adv = {\n",
    "#         'stage': 'adversarial_only_last',\n",
    "#         'last_month': month,\n",
    "#     }\n",
    "#     model = train_adversarial(X_train, X_test, \"adversarial\", tags_adv)\n",
    "    \n",
    "#     if month < 202108:\n",
    "#         model = train_model(X_train, y_train_binaria, X_test, y_real_ternaria, y_real_binaria, \"baseline\", PARAMS, tags_monthly)\n",
    "#     else:\n",
    "#         model = train_model(X_train, y_train_binaria, None, None, None, \"baseline\", PARAMS, tags_monthly)\n",
    "    \n",
    "#     preds = X_test[[\"numero_de_cliente\", \"foto_mes\"]].copy()\n",
    "#     preds[\"prediction\"] = predict_month(model, X_test)\n",
    "#     preds = preds.merge(ground_truth, on=[\"numero_de_cliente\", \"foto_mes\"])\n",
    "    \n",
    "#     preds = preds.sort_values([\"prediction\"], ascending=False)\n",
    "    \n",
    "#     gan_mes = preds[\"prediction\"] * preds[\"ganancia\"]\n",
    "#     print(\"Ganancia\", month, gan_mes.sum())\n",
    "    \n",
    "#     preds.to_csv(f\"~/buckets/b1/exp_colab/datasets/processed/predictions/baseline/preds_{month}.csv\", index=False)"
   ]
  },
  {
   "cell_type": "markdown",
   "id": "59183754-c430-40cb-b9b2-76e5803a32ef",
   "metadata": {},
   "source": [
    "## Sin `foto_mes`"
   ]
  },
  {
   "cell_type": "code",
   "execution_count": 14,
   "id": "b09f4f89-0bdf-40f4-878f-389936ce900e",
   "metadata": {},
   "outputs": [],
   "source": [
    "if True:\n",
    "    drop_cols.append(\"foto_mes\")"
   ]
  },
  {
   "cell_type": "code",
   "execution_count": 16,
   "id": "018590af-2289-42da-8c71-727d94274c2e",
   "metadata": {
    "scrolled": true
   },
   "outputs": [
    {
     "name": "stdout",
     "output_type": "stream",
     "text": [
      "Training months: [202009 202010 202007 202008 202102 202011 202012 202101]\n",
      "Pred month: 202104\n"
     ]
    },
    {
     "name": "stderr",
     "output_type": "stream",
     "text": [
      "/home/jauriberamirez/.local/lib/python3.10/site-packages/sklearn/linear_model/_logistic.py:460: ConvergenceWarning: lbfgs failed to converge (status=1):\n",
      "STOP: TOTAL NO. of ITERATIONS REACHED LIMIT.\n",
      "\n",
      "Increase the number of iterations (max_iter) or scale the data as shown in:\n",
      "    https://scikit-learn.org/stable/modules/preprocessing.html\n",
      "Please also refer to the documentation for alternative solver options:\n",
      "    https://scikit-learn.org/stable/modules/linear_model.html#logistic-regression\n",
      "  n_iter_i = _check_optimize_result(\n",
      "2023/11/16 02:36:40 WARNING mlflow.utils.requirements_utils: Found lz4 version (3.1.3+dfsg) contains a local version label (+dfsg). MLflow logged a pip requirement for this package as 'lz4==3.1.3' without the local version label to make it installable from PyPI. To specify pip requirements containing local version labels, please use `conda_env` or `pip_requirements`.\n",
      "2023/11/16 02:36:40 WARNING mlflow.models.model: Logging model metadata to the tracking server has failed. The model artifacts have been logged successfully under /home/jauriberamirez/DMEyF_Estabilidad_Modelos/mlruns/1/198accb16fb3448d808967187d221dc5/artifacts. Set logging level to DEBUG via `logging.getLogger(\"mlflow\").setLevel(logging.DEBUG)` to see the full traceback.\n",
      "2023/11/16 02:38:10 WARNING mlflow.utils.autologging_utils: Encountered unexpected error during lightgbm autologging: The following failures occurred while performing one or more logging operations: [MlflowException('Failed to perform one or more operations on the run with ID 29d4572d777949f38e387ee4b1319ce9. Failed operations: [MlflowException(\"Duplicate parameter keys have been submitted: [\\'num_boost_round\\']. Please ensure the request contains only one param value per param key.\")]')]\n",
      "2023/11/16 02:38:13 WARNING mlflow.utils.requirements_utils: Found datatable version (1.1.0a0+build.1695691407.jauriberamirez) contains a local version label (+build.1695691407.jauriberamirez). MLflow logged a pip requirement for this package as 'datatable==1.1.0a0' without the local version label to make it installable from PyPI. To specify pip requirements containing local version labels, please use `conda_env` or `pip_requirements`.\n",
      "2023/11/16 02:38:13 WARNING mlflow.utils.requirements_utils: Found lz4 version (3.1.3+dfsg) contains a local version label (+dfsg). MLflow logged a pip requirement for this package as 'lz4==3.1.3' without the local version label to make it installable from PyPI. To specify pip requirements containing local version labels, please use `conda_env` or `pip_requirements`.\n",
      "2023/11/16 02:38:13 WARNING mlflow.models.model: Logging model metadata to the tracking server has failed. The model artifacts have been logged successfully under /home/jauriberamirez/DMEyF_Estabilidad_Modelos/mlruns/3/29d4572d777949f38e387ee4b1319ce9/artifacts. Set logging level to DEBUG via `logging.getLogger(\"mlflow\").setLevel(logging.DEBUG)` to see the full traceback.\n",
      "2023/11/16 02:38:16 WARNING mlflow.utils.requirements_utils: Found datatable version (1.1.0a0+build.1695691407.jauriberamirez) contains a local version label (+build.1695691407.jauriberamirez). MLflow logged a pip requirement for this package as 'datatable==1.1.0a0' without the local version label to make it installable from PyPI. To specify pip requirements containing local version labels, please use `conda_env` or `pip_requirements`.\n",
      "2023/11/16 02:38:16 WARNING mlflow.utils.requirements_utils: Found lz4 version (3.1.3+dfsg) contains a local version label (+dfsg). MLflow logged a pip requirement for this package as 'lz4==3.1.3' without the local version label to make it installable from PyPI. To specify pip requirements containing local version labels, please use `conda_env` or `pip_requirements`.\n",
      "2023/11/16 02:38:16 WARNING mlflow.models.model: Logging model metadata to the tracking server has failed. The model artifacts have been logged successfully under /home/jauriberamirez/DMEyF_Estabilidad_Modelos/mlruns/3/29d4572d777949f38e387ee4b1319ce9/artifacts. Set logging level to DEBUG via `logging.getLogger(\"mlflow\").setLevel(logging.DEBUG)` to see the full traceback.\n",
      "2023/11/16 02:38:22 INFO mlflow.models.evaluation.base: Evaluating the model with the default evaluator.\n",
      "2023/11/16 02:38:22 INFO mlflow.models.evaluation.default_evaluator: Computing model predictions.\n",
      "2023/11/16 02:38:24 INFO mlflow.models.evaluation.default_evaluator: The evaluation dataset is inferred as binary dataset, positive label is 1, negative label is 0.\n",
      "2023/11/16 02:38:24 INFO mlflow.models.evaluation.default_evaluator: Testing metrics on first row...\n",
      "2023/11/16 02:38:30 INFO mlflow.models.evaluation.base: Evaluating the model with the default evaluator.\n",
      "2023/11/16 02:38:30 INFO mlflow.models.evaluation.default_evaluator: Computing model predictions.\n",
      "2023/11/16 02:38:32 INFO mlflow.models.evaluation.default_evaluator: The evaluation dataset is inferred as binary dataset, positive label is 1, negative label is 0.\n",
      "2023/11/16 02:38:32 INFO mlflow.models.evaluation.default_evaluator: Testing metrics on first row...\n"
     ]
    },
    {
     "name": "stdout",
     "output_type": "stream",
     "text": [
      "Ganancia 202104 6244336.8123177625\n",
      "Pred month: 202105\n"
     ]
    },
    {
     "name": "stderr",
     "output_type": "stream",
     "text": [
      "/home/jauriberamirez/.local/lib/python3.10/site-packages/sklearn/linear_model/_logistic.py:460: ConvergenceWarning: lbfgs failed to converge (status=1):\n",
      "STOP: TOTAL NO. of ITERATIONS REACHED LIMIT.\n",
      "\n",
      "Increase the number of iterations (max_iter) or scale the data as shown in:\n",
      "    https://scikit-learn.org/stable/modules/preprocessing.html\n",
      "Please also refer to the documentation for alternative solver options:\n",
      "    https://scikit-learn.org/stable/modules/linear_model.html#logistic-regression\n",
      "  n_iter_i = _check_optimize_result(\n",
      "2023/11/16 02:39:59 WARNING mlflow.utils.requirements_utils: Found lz4 version (3.1.3+dfsg) contains a local version label (+dfsg). MLflow logged a pip requirement for this package as 'lz4==3.1.3' without the local version label to make it installable from PyPI. To specify pip requirements containing local version labels, please use `conda_env` or `pip_requirements`.\n",
      "2023/11/16 02:39:59 WARNING mlflow.models.model: Logging model metadata to the tracking server has failed. The model artifacts have been logged successfully under /home/jauriberamirez/DMEyF_Estabilidad_Modelos/mlruns/1/7ade124ec6494d13bc5815b29ff33fa3/artifacts. Set logging level to DEBUG via `logging.getLogger(\"mlflow\").setLevel(logging.DEBUG)` to see the full traceback.\n",
      "2023/11/16 02:41:36 WARNING mlflow.utils.autologging_utils: Encountered unexpected error during lightgbm autologging: The following failures occurred while performing one or more logging operations: [MlflowException('Failed to perform one or more operations on the run with ID 91589fe183a242efa4d59569964ea47b. Failed operations: [MlflowException(\"Duplicate parameter keys have been submitted: [\\'num_boost_round\\']. Please ensure the request contains only one param value per param key.\")]')]\n",
      "2023/11/16 02:41:38 WARNING mlflow.utils.requirements_utils: Found datatable version (1.1.0a0+build.1695691407.jauriberamirez) contains a local version label (+build.1695691407.jauriberamirez). MLflow logged a pip requirement for this package as 'datatable==1.1.0a0' without the local version label to make it installable from PyPI. To specify pip requirements containing local version labels, please use `conda_env` or `pip_requirements`.\n",
      "2023/11/16 02:41:38 WARNING mlflow.utils.requirements_utils: Found lz4 version (3.1.3+dfsg) contains a local version label (+dfsg). MLflow logged a pip requirement for this package as 'lz4==3.1.3' without the local version label to make it installable from PyPI. To specify pip requirements containing local version labels, please use `conda_env` or `pip_requirements`.\n",
      "2023/11/16 02:41:39 WARNING mlflow.models.model: Logging model metadata to the tracking server has failed. The model artifacts have been logged successfully under /home/jauriberamirez/DMEyF_Estabilidad_Modelos/mlruns/3/91589fe183a242efa4d59569964ea47b/artifacts. Set logging level to DEBUG via `logging.getLogger(\"mlflow\").setLevel(logging.DEBUG)` to see the full traceback.\n",
      "2023/11/16 02:41:42 WARNING mlflow.utils.requirements_utils: Found datatable version (1.1.0a0+build.1695691407.jauriberamirez) contains a local version label (+build.1695691407.jauriberamirez). MLflow logged a pip requirement for this package as 'datatable==1.1.0a0' without the local version label to make it installable from PyPI. To specify pip requirements containing local version labels, please use `conda_env` or `pip_requirements`.\n",
      "2023/11/16 02:41:42 WARNING mlflow.utils.requirements_utils: Found lz4 version (3.1.3+dfsg) contains a local version label (+dfsg). MLflow logged a pip requirement for this package as 'lz4==3.1.3' without the local version label to make it installable from PyPI. To specify pip requirements containing local version labels, please use `conda_env` or `pip_requirements`.\n",
      "2023/11/16 02:41:42 WARNING mlflow.models.model: Logging model metadata to the tracking server has failed. The model artifacts have been logged successfully under /home/jauriberamirez/DMEyF_Estabilidad_Modelos/mlruns/3/91589fe183a242efa4d59569964ea47b/artifacts. Set logging level to DEBUG via `logging.getLogger(\"mlflow\").setLevel(logging.DEBUG)` to see the full traceback.\n",
      "2023/11/16 02:41:48 INFO mlflow.models.evaluation.base: Evaluating the model with the default evaluator.\n",
      "2023/11/16 02:41:48 INFO mlflow.models.evaluation.default_evaluator: Computing model predictions.\n",
      "2023/11/16 02:41:49 INFO mlflow.models.evaluation.default_evaluator: The evaluation dataset is inferred as binary dataset, positive label is 1, negative label is 0.\n",
      "2023/11/16 02:41:50 INFO mlflow.models.evaluation.default_evaluator: Testing metrics on first row...\n",
      "2023/11/16 02:41:56 INFO mlflow.models.evaluation.base: Evaluating the model with the default evaluator.\n",
      "2023/11/16 02:41:56 INFO mlflow.models.evaluation.default_evaluator: Computing model predictions.\n",
      "2023/11/16 02:41:57 INFO mlflow.models.evaluation.default_evaluator: The evaluation dataset is inferred as binary dataset, positive label is 1, negative label is 0.\n",
      "2023/11/16 02:41:58 INFO mlflow.models.evaluation.default_evaluator: Testing metrics on first row...\n"
     ]
    },
    {
     "name": "stdout",
     "output_type": "stream",
     "text": [
      "Ganancia 202105 -54223336.64267073\n",
      "Pred month: 202106\n"
     ]
    },
    {
     "name": "stderr",
     "output_type": "stream",
     "text": [
      "2023/11/16 02:43:23 WARNING mlflow.utils.requirements_utils: Found lz4 version (3.1.3+dfsg) contains a local version label (+dfsg). MLflow logged a pip requirement for this package as 'lz4==3.1.3' without the local version label to make it installable from PyPI. To specify pip requirements containing local version labels, please use `conda_env` or `pip_requirements`.\n",
      "2023/11/16 02:43:24 WARNING mlflow.models.model: Logging model metadata to the tracking server has failed. The model artifacts have been logged successfully under /home/jauriberamirez/DMEyF_Estabilidad_Modelos/mlruns/1/e65c1ec755b6410289ed08ce963f8ec4/artifacts. Set logging level to DEBUG via `logging.getLogger(\"mlflow\").setLevel(logging.DEBUG)` to see the full traceback.\n",
      "2023/11/16 02:44:51 WARNING mlflow.utils.autologging_utils: Encountered unexpected error during lightgbm autologging: The following failures occurred while performing one or more logging operations: [MlflowException('Failed to perform one or more operations on the run with ID 198e9b7af23a47a5bc7b42950e44e651. Failed operations: [MlflowException(\"Duplicate parameter keys have been submitted: [\\'num_boost_round\\']. Please ensure the request contains only one param value per param key.\")]')]\n",
      "2023/11/16 02:44:54 WARNING mlflow.utils.requirements_utils: Found datatable version (1.1.0a0+build.1695691407.jauriberamirez) contains a local version label (+build.1695691407.jauriberamirez). MLflow logged a pip requirement for this package as 'datatable==1.1.0a0' without the local version label to make it installable from PyPI. To specify pip requirements containing local version labels, please use `conda_env` or `pip_requirements`.\n",
      "2023/11/16 02:44:54 WARNING mlflow.utils.requirements_utils: Found lz4 version (3.1.3+dfsg) contains a local version label (+dfsg). MLflow logged a pip requirement for this package as 'lz4==3.1.3' without the local version label to make it installable from PyPI. To specify pip requirements containing local version labels, please use `conda_env` or `pip_requirements`.\n",
      "2023/11/16 02:44:54 WARNING mlflow.models.model: Logging model metadata to the tracking server has failed. The model artifacts have been logged successfully under /home/jauriberamirez/DMEyF_Estabilidad_Modelos/mlruns/3/198e9b7af23a47a5bc7b42950e44e651/artifacts. Set logging level to DEBUG via `logging.getLogger(\"mlflow\").setLevel(logging.DEBUG)` to see the full traceback.\n",
      "2023/11/16 02:44:57 WARNING mlflow.utils.requirements_utils: Found datatable version (1.1.0a0+build.1695691407.jauriberamirez) contains a local version label (+build.1695691407.jauriberamirez). MLflow logged a pip requirement for this package as 'datatable==1.1.0a0' without the local version label to make it installable from PyPI. To specify pip requirements containing local version labels, please use `conda_env` or `pip_requirements`.\n",
      "2023/11/16 02:44:57 WARNING mlflow.utils.requirements_utils: Found lz4 version (3.1.3+dfsg) contains a local version label (+dfsg). MLflow logged a pip requirement for this package as 'lz4==3.1.3' without the local version label to make it installable from PyPI. To specify pip requirements containing local version labels, please use `conda_env` or `pip_requirements`.\n",
      "2023/11/16 02:44:57 WARNING mlflow.models.model: Logging model metadata to the tracking server has failed. The model artifacts have been logged successfully under /home/jauriberamirez/DMEyF_Estabilidad_Modelos/mlruns/3/198e9b7af23a47a5bc7b42950e44e651/artifacts. Set logging level to DEBUG via `logging.getLogger(\"mlflow\").setLevel(logging.DEBUG)` to see the full traceback.\n",
      "2023/11/16 02:45:04 INFO mlflow.models.evaluation.base: Evaluating the model with the default evaluator.\n",
      "2023/11/16 02:45:04 INFO mlflow.models.evaluation.default_evaluator: Computing model predictions.\n",
      "2023/11/16 02:45:05 INFO mlflow.models.evaluation.default_evaluator: The evaluation dataset is inferred as binary dataset, positive label is 1, negative label is 0.\n",
      "2023/11/16 02:45:05 INFO mlflow.models.evaluation.default_evaluator: Testing metrics on first row...\n",
      "2023/11/16 02:45:12 INFO mlflow.models.evaluation.base: Evaluating the model with the default evaluator.\n",
      "2023/11/16 02:45:12 INFO mlflow.models.evaluation.default_evaluator: Computing model predictions.\n",
      "2023/11/16 02:45:13 INFO mlflow.models.evaluation.default_evaluator: The evaluation dataset is inferred as binary dataset, positive label is 1, negative label is 0.\n",
      "2023/11/16 02:45:13 INFO mlflow.models.evaluation.default_evaluator: Testing metrics on first row...\n"
     ]
    },
    {
     "name": "stdout",
     "output_type": "stream",
     "text": [
      "Ganancia 202106 -25977515.195275493\n",
      "Pred month: 202107\n"
     ]
    },
    {
     "name": "stderr",
     "output_type": "stream",
     "text": [
      "/home/jauriberamirez/.local/lib/python3.10/site-packages/sklearn/linear_model/_logistic.py:460: ConvergenceWarning: lbfgs failed to converge (status=1):\n",
      "STOP: TOTAL NO. of ITERATIONS REACHED LIMIT.\n",
      "\n",
      "Increase the number of iterations (max_iter) or scale the data as shown in:\n",
      "    https://scikit-learn.org/stable/modules/preprocessing.html\n",
      "Please also refer to the documentation for alternative solver options:\n",
      "    https://scikit-learn.org/stable/modules/linear_model.html#logistic-regression\n",
      "  n_iter_i = _check_optimize_result(\n",
      "2023/11/16 02:46:39 WARNING mlflow.utils.requirements_utils: Found lz4 version (3.1.3+dfsg) contains a local version label (+dfsg). MLflow logged a pip requirement for this package as 'lz4==3.1.3' without the local version label to make it installable from PyPI. To specify pip requirements containing local version labels, please use `conda_env` or `pip_requirements`.\n",
      "2023/11/16 02:46:39 WARNING mlflow.models.model: Logging model metadata to the tracking server has failed. The model artifacts have been logged successfully under /home/jauriberamirez/DMEyF_Estabilidad_Modelos/mlruns/1/cad51b088ca24d67a17c57207ccd8358/artifacts. Set logging level to DEBUG via `logging.getLogger(\"mlflow\").setLevel(logging.DEBUG)` to see the full traceback.\n",
      "2023/11/16 02:48:10 WARNING mlflow.utils.autologging_utils: Encountered unexpected error during lightgbm autologging: The following failures occurred while performing one or more logging operations: [MlflowException('Failed to perform one or more operations on the run with ID 58285c12a6124ea68b3f6d78c67b6615. Failed operations: [MlflowException(\"Duplicate parameter keys have been submitted: [\\'num_boost_round\\']. Please ensure the request contains only one param value per param key.\")]')]\n",
      "2023/11/16 02:48:12 WARNING mlflow.utils.requirements_utils: Found datatable version (1.1.0a0+build.1695691407.jauriberamirez) contains a local version label (+build.1695691407.jauriberamirez). MLflow logged a pip requirement for this package as 'datatable==1.1.0a0' without the local version label to make it installable from PyPI. To specify pip requirements containing local version labels, please use `conda_env` or `pip_requirements`.\n",
      "2023/11/16 02:48:12 WARNING mlflow.utils.requirements_utils: Found lz4 version (3.1.3+dfsg) contains a local version label (+dfsg). MLflow logged a pip requirement for this package as 'lz4==3.1.3' without the local version label to make it installable from PyPI. To specify pip requirements containing local version labels, please use `conda_env` or `pip_requirements`.\n",
      "2023/11/16 02:48:12 WARNING mlflow.models.model: Logging model metadata to the tracking server has failed. The model artifacts have been logged successfully under /home/jauriberamirez/DMEyF_Estabilidad_Modelos/mlruns/3/58285c12a6124ea68b3f6d78c67b6615/artifacts. Set logging level to DEBUG via `logging.getLogger(\"mlflow\").setLevel(logging.DEBUG)` to see the full traceback.\n",
      "2023/11/16 02:48:15 WARNING mlflow.utils.requirements_utils: Found datatable version (1.1.0a0+build.1695691407.jauriberamirez) contains a local version label (+build.1695691407.jauriberamirez). MLflow logged a pip requirement for this package as 'datatable==1.1.0a0' without the local version label to make it installable from PyPI. To specify pip requirements containing local version labels, please use `conda_env` or `pip_requirements`.\n",
      "2023/11/16 02:48:15 WARNING mlflow.utils.requirements_utils: Found lz4 version (3.1.3+dfsg) contains a local version label (+dfsg). MLflow logged a pip requirement for this package as 'lz4==3.1.3' without the local version label to make it installable from PyPI. To specify pip requirements containing local version labels, please use `conda_env` or `pip_requirements`.\n",
      "2023/11/16 02:48:16 WARNING mlflow.models.model: Logging model metadata to the tracking server has failed. The model artifacts have been logged successfully under /home/jauriberamirez/DMEyF_Estabilidad_Modelos/mlruns/3/58285c12a6124ea68b3f6d78c67b6615/artifacts. Set logging level to DEBUG via `logging.getLogger(\"mlflow\").setLevel(logging.DEBUG)` to see the full traceback.\n",
      "2023/11/16 02:48:22 INFO mlflow.models.evaluation.base: Evaluating the model with the default evaluator.\n",
      "2023/11/16 02:48:22 INFO mlflow.models.evaluation.default_evaluator: Computing model predictions.\n",
      "2023/11/16 02:48:23 INFO mlflow.models.evaluation.default_evaluator: The evaluation dataset is inferred as binary dataset, positive label is 1, negative label is 0.\n",
      "2023/11/16 02:48:23 INFO mlflow.models.evaluation.default_evaluator: Testing metrics on first row...\n",
      "2023/11/16 02:48:30 INFO mlflow.models.evaluation.base: Evaluating the model with the default evaluator.\n",
      "2023/11/16 02:48:30 INFO mlflow.models.evaluation.default_evaluator: Computing model predictions.\n",
      "2023/11/16 02:48:31 INFO mlflow.models.evaluation.default_evaluator: The evaluation dataset is inferred as binary dataset, positive label is 1, negative label is 0.\n",
      "2023/11/16 02:48:32 INFO mlflow.models.evaluation.default_evaluator: Testing metrics on first row...\n"
     ]
    },
    {
     "name": "stdout",
     "output_type": "stream",
     "text": [
      "Ganancia 202107 14550665.211737614\n",
      "Pred month: 202108\n"
     ]
    },
    {
     "name": "stderr",
     "output_type": "stream",
     "text": [
      "2023/11/16 02:49:57 WARNING mlflow.utils.requirements_utils: Found lz4 version (3.1.3+dfsg) contains a local version label (+dfsg). MLflow logged a pip requirement for this package as 'lz4==3.1.3' without the local version label to make it installable from PyPI. To specify pip requirements containing local version labels, please use `conda_env` or `pip_requirements`.\n",
      "2023/11/16 02:49:58 WARNING mlflow.models.model: Logging model metadata to the tracking server has failed. The model artifacts have been logged successfully under /home/jauriberamirez/DMEyF_Estabilidad_Modelos/mlruns/1/abfb13f50339488987ff3477e6566e04/artifacts. Set logging level to DEBUG via `logging.getLogger(\"mlflow\").setLevel(logging.DEBUG)` to see the full traceback.\n",
      "2023/11/16 02:51:25 WARNING mlflow.utils.autologging_utils: Encountered unexpected error during lightgbm autologging: The following failures occurred while performing one or more logging operations: [MlflowException('Failed to perform one or more operations on the run with ID 208bdfd87de84a1c8a90d2cfc5313510. Failed operations: [MlflowException(\"Duplicate parameter keys have been submitted: [\\'num_boost_round\\']. Please ensure the request contains only one param value per param key.\")]')]\n",
      "2023/11/16 02:51:28 WARNING mlflow.utils.requirements_utils: Found datatable version (1.1.0a0+build.1695691407.jauriberamirez) contains a local version label (+build.1695691407.jauriberamirez). MLflow logged a pip requirement for this package as 'datatable==1.1.0a0' without the local version label to make it installable from PyPI. To specify pip requirements containing local version labels, please use `conda_env` or `pip_requirements`.\n",
      "2023/11/16 02:51:28 WARNING mlflow.utils.requirements_utils: Found lz4 version (3.1.3+dfsg) contains a local version label (+dfsg). MLflow logged a pip requirement for this package as 'lz4==3.1.3' without the local version label to make it installable from PyPI. To specify pip requirements containing local version labels, please use `conda_env` or `pip_requirements`.\n",
      "2023/11/16 02:51:28 WARNING mlflow.models.model: Logging model metadata to the tracking server has failed. The model artifacts have been logged successfully under /home/jauriberamirez/DMEyF_Estabilidad_Modelos/mlruns/3/208bdfd87de84a1c8a90d2cfc5313510/artifacts. Set logging level to DEBUG via `logging.getLogger(\"mlflow\").setLevel(logging.DEBUG)` to see the full traceback.\n",
      "2023/11/16 02:51:31 WARNING mlflow.utils.requirements_utils: Found datatable version (1.1.0a0+build.1695691407.jauriberamirez) contains a local version label (+build.1695691407.jauriberamirez). MLflow logged a pip requirement for this package as 'datatable==1.1.0a0' without the local version label to make it installable from PyPI. To specify pip requirements containing local version labels, please use `conda_env` or `pip_requirements`.\n",
      "2023/11/16 02:51:31 WARNING mlflow.utils.requirements_utils: Found lz4 version (3.1.3+dfsg) contains a local version label (+dfsg). MLflow logged a pip requirement for this package as 'lz4==3.1.3' without the local version label to make it installable from PyPI. To specify pip requirements containing local version labels, please use `conda_env` or `pip_requirements`.\n",
      "2023/11/16 02:51:32 WARNING mlflow.models.model: Logging model metadata to the tracking server has failed. The model artifacts have been logged successfully under /home/jauriberamirez/DMEyF_Estabilidad_Modelos/mlruns/3/208bdfd87de84a1c8a90d2cfc5313510/artifacts. Set logging level to DEBUG via `logging.getLogger(\"mlflow\").setLevel(logging.DEBUG)` to see the full traceback.\n"
     ]
    },
    {
     "name": "stdout",
     "output_type": "stream",
     "text": [
      "Ganancia 202108 0.0\n",
      "Pred month: 202109\n"
     ]
    },
    {
     "name": "stderr",
     "output_type": "stream",
     "text": [
      "/home/jauriberamirez/.local/lib/python3.10/site-packages/sklearn/linear_model/_logistic.py:460: ConvergenceWarning: lbfgs failed to converge (status=1):\n",
      "STOP: TOTAL NO. of ITERATIONS REACHED LIMIT.\n",
      "\n",
      "Increase the number of iterations (max_iter) or scale the data as shown in:\n",
      "    https://scikit-learn.org/stable/modules/preprocessing.html\n",
      "Please also refer to the documentation for alternative solver options:\n",
      "    https://scikit-learn.org/stable/modules/linear_model.html#logistic-regression\n",
      "  n_iter_i = _check_optimize_result(\n",
      "2023/11/16 02:52:57 WARNING mlflow.utils.requirements_utils: Found lz4 version (3.1.3+dfsg) contains a local version label (+dfsg). MLflow logged a pip requirement for this package as 'lz4==3.1.3' without the local version label to make it installable from PyPI. To specify pip requirements containing local version labels, please use `conda_env` or `pip_requirements`.\n",
      "2023/11/16 02:52:57 WARNING mlflow.models.model: Logging model metadata to the tracking server has failed. The model artifacts have been logged successfully under /home/jauriberamirez/DMEyF_Estabilidad_Modelos/mlruns/1/517ea3f6414a4ebeb627229c7d7f6786/artifacts. Set logging level to DEBUG via `logging.getLogger(\"mlflow\").setLevel(logging.DEBUG)` to see the full traceback.\n",
      "2023/11/16 02:54:27 WARNING mlflow.utils.autologging_utils: Encountered unexpected error during lightgbm autologging: The following failures occurred while performing one or more logging operations: [MlflowException('Failed to perform one or more operations on the run with ID c304b54bd4cd4c7c9dcfbe47a8e8f32d. Failed operations: [MlflowException(\"Duplicate parameter keys have been submitted: [\\'num_boost_round\\']. Please ensure the request contains only one param value per param key.\")]')]\n",
      "2023/11/16 02:54:29 WARNING mlflow.utils.requirements_utils: Found datatable version (1.1.0a0+build.1695691407.jauriberamirez) contains a local version label (+build.1695691407.jauriberamirez). MLflow logged a pip requirement for this package as 'datatable==1.1.0a0' without the local version label to make it installable from PyPI. To specify pip requirements containing local version labels, please use `conda_env` or `pip_requirements`.\n",
      "2023/11/16 02:54:29 WARNING mlflow.utils.requirements_utils: Found lz4 version (3.1.3+dfsg) contains a local version label (+dfsg). MLflow logged a pip requirement for this package as 'lz4==3.1.3' without the local version label to make it installable from PyPI. To specify pip requirements containing local version labels, please use `conda_env` or `pip_requirements`.\n",
      "2023/11/16 02:54:30 WARNING mlflow.models.model: Logging model metadata to the tracking server has failed. The model artifacts have been logged successfully under /home/jauriberamirez/DMEyF_Estabilidad_Modelos/mlruns/3/c304b54bd4cd4c7c9dcfbe47a8e8f32d/artifacts. Set logging level to DEBUG via `logging.getLogger(\"mlflow\").setLevel(logging.DEBUG)` to see the full traceback.\n",
      "2023/11/16 02:54:33 WARNING mlflow.utils.requirements_utils: Found datatable version (1.1.0a0+build.1695691407.jauriberamirez) contains a local version label (+build.1695691407.jauriberamirez). MLflow logged a pip requirement for this package as 'datatable==1.1.0a0' without the local version label to make it installable from PyPI. To specify pip requirements containing local version labels, please use `conda_env` or `pip_requirements`.\n",
      "2023/11/16 02:54:33 WARNING mlflow.utils.requirements_utils: Found lz4 version (3.1.3+dfsg) contains a local version label (+dfsg). MLflow logged a pip requirement for this package as 'lz4==3.1.3' without the local version label to make it installable from PyPI. To specify pip requirements containing local version labels, please use `conda_env` or `pip_requirements`.\n",
      "2023/11/16 02:54:33 WARNING mlflow.models.model: Logging model metadata to the tracking server has failed. The model artifacts have been logged successfully under /home/jauriberamirez/DMEyF_Estabilidad_Modelos/mlruns/3/c304b54bd4cd4c7c9dcfbe47a8e8f32d/artifacts. Set logging level to DEBUG via `logging.getLogger(\"mlflow\").setLevel(logging.DEBUG)` to see the full traceback.\n"
     ]
    },
    {
     "name": "stdout",
     "output_type": "stream",
     "text": [
      "Ganancia 202109 0.0\n"
     ]
    },
    {
     "data": {
      "text/plain": [
       "<Figure size 1050x700 with 0 Axes>"
      ]
     },
     "metadata": {},
     "output_type": "display_data"
    }
   ],
   "source": [
    "df[\"clase_binaria\"] = df[f\"clase_ternaria_202104\"].map({\"BAJA+2\":1, \"BAJA+1\":1, \"CONTINUA\":0})\n",
    "\n",
    "df_train = df[df[\"foto_mes\"].isin(training_months)].copy()\n",
    "\n",
    "print(\"Training months:\", df_train[\"foto_mes\"].unique())\n",
    "\n",
    "df_train = df_train.reset_index(drop=True)\n",
    "\n",
    "X_train = df_train.drop(columns=drop_cols, axis=1).copy()\n",
    "y_train_binaria = df_train[\"clase_binaria\"].copy()\n",
    "\n",
    "for month in MONTHS_INFERENCE:\n",
    "    print(\"Pred month:\", month)\n",
    "    tags_monthly = {\n",
    "        'stage': 'baseline_sin_foto_mes',\n",
    "        'last_month': month,\n",
    "    }\n",
    "    df_test = df[df[\"foto_mes\"].isin([month])].copy()\n",
    "    df_test = df_test.reset_index(drop=True)\n",
    "    X_test = df_test.drop(columns=drop_cols, axis=1).copy()\n",
    "    y_real_ternaria = df_test[\"clase_ternaria_202109\"].copy().map({\"BAJA+2\":1, \"BAJA+1\":0, \"CONTINUA\":0})\n",
    "    y_real_binaria = df_test[\"clase_ternaria_202109\"].copy().map({\"BAJA+2\":1, \"BAJA+1\":1, \"CONTINUA\":0})\n",
    "\n",
    "    tags_adv = {\n",
    "        'stage': 'adversarial_only_last_sin_foto_mes',\n",
    "        'last_month': month,\n",
    "    }\n",
    "    model = train_adversarial(X_train, X_test, \"adversarial\", tags_adv)\n",
    "    \n",
    "    if month < 202108:\n",
    "        model = train_model(X_train, y_train_binaria, X_test, y_real_ternaria, y_real_binaria, \"baseline\", PARAMS, tags_monthly)\n",
    "    else:\n",
    "        model = train_model(X_train, y_train_binaria, None, None, None, \"baseline\", PARAMS, tags_monthly)\n",
    "\n",
    "    preds = X_test.copy()\n",
    "    preds[\"foto_mes\"] = month\n",
    "    preds = preds[[\"numero_de_cliente\", \"foto_mes\"]]\n",
    "    preds[\"prediction\"] = predict_month(model, X_test)\n",
    "    preds = preds.merge(ground_truth, on=[\"numero_de_cliente\", \"foto_mes\"])\n",
    "    \n",
    "    preds = preds.sort_values([\"prediction\"], ascending=False)\n",
    "    \n",
    "    gan_mes = preds[\"prediction\"] * preds[\"ganancia\"]\n",
    "    print(\"Ganancia\", month, gan_mes.sum())\n",
    "    \n",
    "    preds.to_csv(f\"~/buckets/b1/exp_colab/datasets/processed/predictions/baseline/preds_{month}_sin_foto_mes.csv\", index=False)"
   ]
  },
  {
   "cell_type": "code",
   "execution_count": null,
   "id": "305f01bc-7ce9-4d2e-a682-d6dc8e3a84e8",
   "metadata": {},
   "outputs": [],
   "source": []
  }
 ],
 "metadata": {
  "kernelspec": {
   "display_name": "Python 3 (ipykernel)",
   "language": "python",
   "name": "python3"
  },
  "language_info": {
   "codemirror_mode": {
    "name": "ipython",
    "version": 3
   },
   "file_extension": ".py",
   "mimetype": "text/x-python",
   "name": "python",
   "nbconvert_exporter": "python",
   "pygments_lexer": "ipython3",
   "version": "3.10.12"
  }
 },
 "nbformat": 4,
 "nbformat_minor": 5
}
