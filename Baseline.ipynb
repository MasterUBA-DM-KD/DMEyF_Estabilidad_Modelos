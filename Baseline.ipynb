{
 "cells": [
  {
   "cell_type": "code",
   "execution_count": 1,
   "id": "initial_id",
   "metadata": {
    "ExecuteTime": {
     "end_time": "2023-11-14T20:15:48.177656Z",
     "start_time": "2023-11-14T20:15:48.172642Z"
    }
   },
   "outputs": [
    {
     "name": "stderr",
     "output_type": "stream",
     "text": [
      "/usr/lib/python3/dist-packages/scipy/__init__.py:146: UserWarning: A NumPy version >=1.17.3 and <1.25.0 is required for this version of SciPy (detected version 1.25.0\n",
      "  warnings.warn(f\"A NumPy version >={np_minversion} and <{np_maxversion}\"\n"
     ]
    },
    {
     "data": {
      "text/html": [
       "<style type='text/css'>\n",
       ".datatable table.frame { margin-bottom: 0; }\n",
       ".datatable table.frame thead { border-bottom: none; }\n",
       ".datatable table.frame tr.coltypes td {  color: #FFFFFF;  line-height: 6px;  padding: 0 0.5em;}\n",
       ".datatable .bool    { background: #DDDD99; }\n",
       ".datatable .object  { background: #565656; }\n",
       ".datatable .int     { background: #5D9E5D; }\n",
       ".datatable .float   { background: #4040CC; }\n",
       ".datatable .str     { background: #CC4040; }\n",
       ".datatable .time    { background: #40CC40; }\n",
       ".datatable .row_index {  background: var(--jp-border-color3);  border-right: 1px solid var(--jp-border-color0);  color: var(--jp-ui-font-color3);  font-size: 9px;}\n",
       ".datatable .frame tbody td { text-align: left; }\n",
       ".datatable .frame tr.coltypes .row_index {  background: var(--jp-border-color0);}\n",
       ".datatable th:nth-child(2) { padding-left: 12px; }\n",
       ".datatable .hellipsis {  color: var(--jp-cell-editor-border-color);}\n",
       ".datatable .vellipsis {  background: var(--jp-layout-color0);  color: var(--jp-cell-editor-border-color);}\n",
       ".datatable .na {  color: var(--jp-cell-editor-border-color);  font-size: 80%;}\n",
       ".datatable .sp {  opacity: 0.25;}\n",
       ".datatable .footer { font-size: 9px; }\n",
       ".datatable .frame_dimensions {  background: var(--jp-border-color3);  border-top: 1px solid var(--jp-border-color0);  color: var(--jp-ui-font-color3);  display: inline-block;  opacity: 0.6;  padding: 1px 10px 1px 5px;}\n",
       "</style>\n"
      ],
      "text/plain": [
       "<IPython.core.display.HTML object>"
      ]
     },
     "metadata": {},
     "output_type": "display_data"
    }
   ],
   "source": [
    "import duckdb\n",
    "import pandas as pd\n",
    "import numpy as np\n",
    "from src.model.utils import train_model\n",
    "from src.preprocess.etl import get_dataframe\n",
    "from src.model.inference import predict_month\n",
    "from src.constants import PATH_DATABASE, MONTHS_BASELINE, MONTHS_INFERENCE, PARAMS\n",
    "\n",
    "\n",
    "import warnings\n",
    "\n",
    "warnings.filterwarnings(\"ignore\")"
   ]
  },
  {
   "cell_type": "code",
   "execution_count": 2,
   "id": "b3e004a2709babbf",
   "metadata": {
    "collapsed": false
   },
   "outputs": [],
   "source": [
    "%load_ext autoreload\n",
    "%autoreload 2"
   ]
  },
  {
   "cell_type": "code",
   "execution_count": 3,
   "id": "aa1f133145f969e0",
   "metadata": {
    "ExecuteTime": {
     "end_time": "2023-11-14T20:15:48.553829Z",
     "start_time": "2023-11-14T20:15:48.550112Z"
    },
    "collapsed": false
   },
   "outputs": [],
   "source": [
    "con = duckdb.connect(database=PATH_DATABASE, read_only=True)"
   ]
  },
  {
   "cell_type": "code",
   "execution_count": 4,
   "id": "d3906bbb471b039f",
   "metadata": {
    "ExecuteTime": {
     "end_time": "2023-11-14T20:15:48.853730Z",
     "start_time": "2023-11-14T20:15:48.840919Z"
    },
    "collapsed": false
   },
   "outputs": [
    {
     "data": {
      "text/plain": [
       "'202007, 202008, 202009, 202010, 202011, 202012, 202101, 202102, 202103, 202104, 202105, 202106, 202107, 202108, 202109'"
      ]
     },
     "execution_count": 4,
     "metadata": {},
     "output_type": "execute_result"
    }
   ],
   "source": [
    "all_months = MONTHS_BASELINE + MONTHS_INFERENCE\n",
    "all_months = [str(month) for month in all_months]\n",
    "where_clause = \", \".join(all_months)\n",
    "where_clause"
   ]
  },
  {
   "cell_type": "code",
   "execution_count": 5,
   "id": "2fb775af5dca372a",
   "metadata": {
    "ExecuteTime": {
     "end_time": "2023-11-14T20:15:53.675943Z",
     "start_time": "2023-11-14T20:15:53.666724Z"
    },
    "collapsed": false
   },
   "outputs": [],
   "source": [
    "df = con.sql(\n",
    "    f\"\"\"\n",
    "    SELECT\n",
    "        *\n",
    "    FROM competencia_03\n",
    "    WHERE foto_mes IN ({where_clause})\n",
    "    \"\"\"\n",
    ").to_df()"
   ]
  },
  {
   "cell_type": "code",
   "execution_count": 6,
   "id": "153b27978299900f",
   "metadata": {
    "ExecuteTime": {
     "end_time": "2023-11-14T20:15:54.465019Z",
     "start_time": "2023-11-14T20:15:54.456711Z"
    },
    "collapsed": false
   },
   "outputs": [
    {
     "data": {
      "text/html": [
       "<div>\n",
       "<style scoped>\n",
       "    .dataframe tbody tr th:only-of-type {\n",
       "        vertical-align: middle;\n",
       "    }\n",
       "\n",
       "    .dataframe tbody tr th {\n",
       "        vertical-align: top;\n",
       "    }\n",
       "\n",
       "    .dataframe thead th {\n",
       "        text-align: right;\n",
       "    }\n",
       "</style>\n",
       "<table border=\"1\" class=\"dataframe\">\n",
       "  <thead>\n",
       "    <tr style=\"text-align: right;\">\n",
       "      <th></th>\n",
       "      <th>numero_de_cliente</th>\n",
       "      <th>foto_mes</th>\n",
       "      <th>active_quarter</th>\n",
       "      <th>cliente_vip</th>\n",
       "      <th>internet</th>\n",
       "      <th>cliente_edad</th>\n",
       "      <th>cliente_antiguedad</th>\n",
       "      <th>mrentabilidad</th>\n",
       "      <th>mrentabilidad_annual</th>\n",
       "      <th>mcomisiones</th>\n",
       "      <th>...</th>\n",
       "      <th>Visa_mconsumototal</th>\n",
       "      <th>Visa_cconsumos</th>\n",
       "      <th>Visa_cadelantosefectivo</th>\n",
       "      <th>Visa_mpagominimo</th>\n",
       "      <th>clase_ternaria_202104</th>\n",
       "      <th>clase_ternaria_202105</th>\n",
       "      <th>clase_ternaria_202106</th>\n",
       "      <th>clase_ternaria_202107</th>\n",
       "      <th>clase_ternaria_202108</th>\n",
       "      <th>clase_ternaria_202109</th>\n",
       "    </tr>\n",
       "  </thead>\n",
       "  <tbody>\n",
       "    <tr>\n",
       "      <th>0</th>\n",
       "      <td>142625636</td>\n",
       "      <td>202010</td>\n",
       "      <td>1</td>\n",
       "      <td>0</td>\n",
       "      <td>0</td>\n",
       "      <td>47</td>\n",
       "      <td>47</td>\n",
       "      <td>252.69</td>\n",
       "      <td>-9620.93</td>\n",
       "      <td>848.93</td>\n",
       "      <td>...</td>\n",
       "      <td>122798.76</td>\n",
       "      <td>15.0</td>\n",
       "      <td>0.0</td>\n",
       "      <td>35588.82</td>\n",
       "      <td>CONTINUA</td>\n",
       "      <td>CONTINUA</td>\n",
       "      <td>CONTINUA</td>\n",
       "      <td>CONTINUA</td>\n",
       "      <td>CONTINUA</td>\n",
       "      <td>CONTINUA</td>\n",
       "    </tr>\n",
       "    <tr>\n",
       "      <th>1</th>\n",
       "      <td>142625782</td>\n",
       "      <td>202010</td>\n",
       "      <td>1</td>\n",
       "      <td>0</td>\n",
       "      <td>0</td>\n",
       "      <td>39</td>\n",
       "      <td>47</td>\n",
       "      <td>414.63</td>\n",
       "      <td>9078.79</td>\n",
       "      <td>703.87</td>\n",
       "      <td>...</td>\n",
       "      <td>12469.69</td>\n",
       "      <td>3.0</td>\n",
       "      <td>0.0</td>\n",
       "      <td>1642.20</td>\n",
       "      <td>CONTINUA</td>\n",
       "      <td>CONTINUA</td>\n",
       "      <td>CONTINUA</td>\n",
       "      <td>CONTINUA</td>\n",
       "      <td>CONTINUA</td>\n",
       "      <td>CONTINUA</td>\n",
       "    </tr>\n",
       "    <tr>\n",
       "      <th>2</th>\n",
       "      <td>142628454</td>\n",
       "      <td>202010</td>\n",
       "      <td>1</td>\n",
       "      <td>0</td>\n",
       "      <td>0</td>\n",
       "      <td>30</td>\n",
       "      <td>47</td>\n",
       "      <td>-203.57</td>\n",
       "      <td>-6326.79</td>\n",
       "      <td>215.09</td>\n",
       "      <td>...</td>\n",
       "      <td>77609.86</td>\n",
       "      <td>17.0</td>\n",
       "      <td>0.0</td>\n",
       "      <td>48386.25</td>\n",
       "      <td>CONTINUA</td>\n",
       "      <td>CONTINUA</td>\n",
       "      <td>CONTINUA</td>\n",
       "      <td>CONTINUA</td>\n",
       "      <td>CONTINUA</td>\n",
       "      <td>CONTINUA</td>\n",
       "    </tr>\n",
       "    <tr>\n",
       "      <th>3</th>\n",
       "      <td>142628779</td>\n",
       "      <td>202010</td>\n",
       "      <td>1</td>\n",
       "      <td>0</td>\n",
       "      <td>0</td>\n",
       "      <td>38</td>\n",
       "      <td>47</td>\n",
       "      <td>2520.37</td>\n",
       "      <td>34297.42</td>\n",
       "      <td>460.78</td>\n",
       "      <td>...</td>\n",
       "      <td>1299.29</td>\n",
       "      <td>2.0</td>\n",
       "      <td>0.0</td>\n",
       "      <td>7131.84</td>\n",
       "      <td>CONTINUA</td>\n",
       "      <td>CONTINUA</td>\n",
       "      <td>CONTINUA</td>\n",
       "      <td>CONTINUA</td>\n",
       "      <td>CONTINUA</td>\n",
       "      <td>CONTINUA</td>\n",
       "    </tr>\n",
       "    <tr>\n",
       "      <th>4</th>\n",
       "      <td>142631486</td>\n",
       "      <td>202010</td>\n",
       "      <td>1</td>\n",
       "      <td>0</td>\n",
       "      <td>0</td>\n",
       "      <td>33</td>\n",
       "      <td>47</td>\n",
       "      <td>-208.88</td>\n",
       "      <td>-11204.17</td>\n",
       "      <td>-503.20</td>\n",
       "      <td>...</td>\n",
       "      <td>9100.74</td>\n",
       "      <td>17.0</td>\n",
       "      <td>0.0</td>\n",
       "      <td>2463.30</td>\n",
       "      <td>CONTINUA</td>\n",
       "      <td>CONTINUA</td>\n",
       "      <td>CONTINUA</td>\n",
       "      <td>CONTINUA</td>\n",
       "      <td>CONTINUA</td>\n",
       "      <td>CONTINUA</td>\n",
       "    </tr>\n",
       "  </tbody>\n",
       "</table>\n",
       "<p>5 rows × 160 columns</p>\n",
       "</div>"
      ],
      "text/plain": [
       "   numero_de_cliente  foto_mes  active_quarter  cliente_vip  internet  \\\n",
       "0          142625636    202010               1            0         0   \n",
       "1          142625782    202010               1            0         0   \n",
       "2          142628454    202010               1            0         0   \n",
       "3          142628779    202010               1            0         0   \n",
       "4          142631486    202010               1            0         0   \n",
       "\n",
       "   cliente_edad  cliente_antiguedad  mrentabilidad  mrentabilidad_annual  \\\n",
       "0            47                  47         252.69              -9620.93   \n",
       "1            39                  47         414.63               9078.79   \n",
       "2            30                  47        -203.57              -6326.79   \n",
       "3            38                  47        2520.37              34297.42   \n",
       "4            33                  47        -208.88             -11204.17   \n",
       "\n",
       "   mcomisiones  ...  Visa_mconsumototal  Visa_cconsumos  \\\n",
       "0       848.93  ...           122798.76            15.0   \n",
       "1       703.87  ...            12469.69             3.0   \n",
       "2       215.09  ...            77609.86            17.0   \n",
       "3       460.78  ...             1299.29             2.0   \n",
       "4      -503.20  ...             9100.74            17.0   \n",
       "\n",
       "   Visa_cadelantosefectivo  Visa_mpagominimo  clase_ternaria_202104  \\\n",
       "0                      0.0          35588.82               CONTINUA   \n",
       "1                      0.0           1642.20               CONTINUA   \n",
       "2                      0.0          48386.25               CONTINUA   \n",
       "3                      0.0           7131.84               CONTINUA   \n",
       "4                      0.0           2463.30               CONTINUA   \n",
       "\n",
       "   clase_ternaria_202105  clase_ternaria_202106  clase_ternaria_202107  \\\n",
       "0               CONTINUA               CONTINUA               CONTINUA   \n",
       "1               CONTINUA               CONTINUA               CONTINUA   \n",
       "2               CONTINUA               CONTINUA               CONTINUA   \n",
       "3               CONTINUA               CONTINUA               CONTINUA   \n",
       "4               CONTINUA               CONTINUA               CONTINUA   \n",
       "\n",
       "   clase_ternaria_202108  clase_ternaria_202109  \n",
       "0               CONTINUA               CONTINUA  \n",
       "1               CONTINUA               CONTINUA  \n",
       "2               CONTINUA               CONTINUA  \n",
       "3               CONTINUA               CONTINUA  \n",
       "4               CONTINUA               CONTINUA  \n",
       "\n",
       "[5 rows x 160 columns]"
      ]
     },
     "execution_count": 6,
     "metadata": {},
     "output_type": "execute_result"
    }
   ],
   "source": [
    "df.head()"
   ]
  },
  {
   "cell_type": "code",
   "execution_count": 7,
   "id": "7852b315-e1de-48fc-b4d5-f504dbbbbc75",
   "metadata": {},
   "outputs": [
    {
     "data": {
      "text/plain": [
       "array([202007, 202008, 202009, 202010, 202011, 202012, 202101, 202102,\n",
       "       202103, 202104, 202105, 202106, 202107, 202108, 202109])"
      ]
     },
     "execution_count": 7,
     "metadata": {},
     "output_type": "execute_result"
    }
   ],
   "source": [
    "np.sort(df[\"foto_mes\"].unique())"
   ]
  },
  {
   "cell_type": "code",
   "execution_count": 8,
   "id": "b29fa15c002093a9",
   "metadata": {
    "ExecuteTime": {
     "end_time": "2023-11-14T20:15:54.991120Z",
     "start_time": "2023-11-14T20:15:54.985250Z"
    },
    "collapsed": false
   },
   "outputs": [
    {
     "data": {
      "text/plain": [
       "['clase_ternaria_202104',\n",
       " 'clase_ternaria_202105',\n",
       " 'clase_ternaria_202106',\n",
       " 'clase_ternaria_202107',\n",
       " 'clase_ternaria_202108',\n",
       " 'clase_ternaria_202109',\n",
       " 'clase_binaria']"
      ]
     },
     "execution_count": 8,
     "metadata": {},
     "output_type": "execute_result"
    }
   ],
   "source": [
    "drop_cols = [f\"clase_ternaria_{i}\" for i in MONTHS_INFERENCE]\n",
    "drop_cols.append(\"clase_binaria\")\n",
    "drop_cols"
   ]
  },
  {
   "cell_type": "code",
   "execution_count": 9,
   "id": "c469b865c2fe079f",
   "metadata": {
    "ExecuteTime": {
     "end_time": "2023-11-14T20:15:55.590833Z",
     "start_time": "2023-11-14T20:15:55.588187Z"
    },
    "collapsed": false
   },
   "outputs": [
    {
     "data": {
      "text/html": [
       "<div>\n",
       "<style scoped>\n",
       "    .dataframe tbody tr th:only-of-type {\n",
       "        vertical-align: middle;\n",
       "    }\n",
       "\n",
       "    .dataframe tbody tr th {\n",
       "        vertical-align: top;\n",
       "    }\n",
       "\n",
       "    .dataframe thead th {\n",
       "        text-align: right;\n",
       "    }\n",
       "</style>\n",
       "<table border=\"1\" class=\"dataframe\">\n",
       "  <thead>\n",
       "    <tr style=\"text-align: right;\">\n",
       "      <th></th>\n",
       "      <th>numero_de_cliente</th>\n",
       "      <th>foto_mes</th>\n",
       "      <th>clase_ternaria_202109</th>\n",
       "    </tr>\n",
       "  </thead>\n",
       "  <tbody>\n",
       "    <tr>\n",
       "      <th>0</th>\n",
       "      <td>142625636</td>\n",
       "      <td>202010</td>\n",
       "      <td>CONTINUA</td>\n",
       "    </tr>\n",
       "    <tr>\n",
       "      <th>1</th>\n",
       "      <td>142625782</td>\n",
       "      <td>202010</td>\n",
       "      <td>CONTINUA</td>\n",
       "    </tr>\n",
       "    <tr>\n",
       "      <th>2</th>\n",
       "      <td>142628454</td>\n",
       "      <td>202010</td>\n",
       "      <td>CONTINUA</td>\n",
       "    </tr>\n",
       "    <tr>\n",
       "      <th>3</th>\n",
       "      <td>142628779</td>\n",
       "      <td>202010</td>\n",
       "      <td>CONTINUA</td>\n",
       "    </tr>\n",
       "    <tr>\n",
       "      <th>4</th>\n",
       "      <td>142631486</td>\n",
       "      <td>202010</td>\n",
       "      <td>CONTINUA</td>\n",
       "    </tr>\n",
       "    <tr>\n",
       "      <th>...</th>\n",
       "      <td>...</td>\n",
       "      <td>...</td>\n",
       "      <td>...</td>\n",
       "    </tr>\n",
       "    <tr>\n",
       "      <th>2425602</th>\n",
       "      <td>80867796</td>\n",
       "      <td>202106</td>\n",
       "      <td>CONTINUA</td>\n",
       "    </tr>\n",
       "    <tr>\n",
       "      <th>2425603</th>\n",
       "      <td>80868026</td>\n",
       "      <td>202106</td>\n",
       "      <td>CONTINUA</td>\n",
       "    </tr>\n",
       "    <tr>\n",
       "      <th>2425604</th>\n",
       "      <td>80868240</td>\n",
       "      <td>202106</td>\n",
       "      <td>CONTINUA</td>\n",
       "    </tr>\n",
       "    <tr>\n",
       "      <th>2425605</th>\n",
       "      <td>80869734</td>\n",
       "      <td>202106</td>\n",
       "      <td>CONTINUA</td>\n",
       "    </tr>\n",
       "    <tr>\n",
       "      <th>2425606</th>\n",
       "      <td>80870443</td>\n",
       "      <td>202106</td>\n",
       "      <td>CONTINUA</td>\n",
       "    </tr>\n",
       "  </tbody>\n",
       "</table>\n",
       "<p>2095389 rows × 3 columns</p>\n",
       "</div>"
      ],
      "text/plain": [
       "         numero_de_cliente  foto_mes clase_ternaria_202109\n",
       "0                142625636    202010              CONTINUA\n",
       "1                142625782    202010              CONTINUA\n",
       "2                142628454    202010              CONTINUA\n",
       "3                142628779    202010              CONTINUA\n",
       "4                142631486    202010              CONTINUA\n",
       "...                    ...       ...                   ...\n",
       "2425602           80867796    202106              CONTINUA\n",
       "2425603           80868026    202106              CONTINUA\n",
       "2425604           80868240    202106              CONTINUA\n",
       "2425605           80869734    202106              CONTINUA\n",
       "2425606           80870443    202106              CONTINUA\n",
       "\n",
       "[2095389 rows x 3 columns]"
      ]
     },
     "execution_count": 9,
     "metadata": {},
     "output_type": "execute_result"
    }
   ],
   "source": [
    "ground_truth = df[[\"numero_de_cliente\",\"foto_mes\", \"clase_ternaria_202109\"]]\n",
    "ground_truth = ground_truth[ground_truth[\"foto_mes\"]<=202107]\n",
    "ground_truth"
   ]
  },
  {
   "cell_type": "code",
   "execution_count": 10,
   "id": "bb83e4a687b3274a",
   "metadata": {
    "ExecuteTime": {
     "end_time": "2023-11-14T20:15:56.439073Z",
     "start_time": "2023-11-14T20:15:56.432604Z"
    },
    "collapsed": false
   },
   "outputs": [
    {
     "data": {
      "text/html": [
       "<div>\n",
       "<style scoped>\n",
       "    .dataframe tbody tr th:only-of-type {\n",
       "        vertical-align: middle;\n",
       "    }\n",
       "\n",
       "    .dataframe tbody tr th {\n",
       "        vertical-align: top;\n",
       "    }\n",
       "\n",
       "    .dataframe thead th {\n",
       "        text-align: right;\n",
       "    }\n",
       "</style>\n",
       "<table border=\"1\" class=\"dataframe\">\n",
       "  <thead>\n",
       "    <tr style=\"text-align: right;\">\n",
       "      <th></th>\n",
       "      <th>numero_de_cliente</th>\n",
       "      <th>foto_mes</th>\n",
       "      <th>clase_ternaria_202109</th>\n",
       "      <th>ganancia</th>\n",
       "    </tr>\n",
       "  </thead>\n",
       "  <tbody>\n",
       "    <tr>\n",
       "      <th>0</th>\n",
       "      <td>142625636</td>\n",
       "      <td>202010</td>\n",
       "      <td>CONTINUA</td>\n",
       "      <td>-7000</td>\n",
       "    </tr>\n",
       "    <tr>\n",
       "      <th>1</th>\n",
       "      <td>142625782</td>\n",
       "      <td>202010</td>\n",
       "      <td>CONTINUA</td>\n",
       "      <td>-7000</td>\n",
       "    </tr>\n",
       "    <tr>\n",
       "      <th>2</th>\n",
       "      <td>142628454</td>\n",
       "      <td>202010</td>\n",
       "      <td>CONTINUA</td>\n",
       "      <td>-7000</td>\n",
       "    </tr>\n",
       "    <tr>\n",
       "      <th>3</th>\n",
       "      <td>142628779</td>\n",
       "      <td>202010</td>\n",
       "      <td>CONTINUA</td>\n",
       "      <td>-7000</td>\n",
       "    </tr>\n",
       "    <tr>\n",
       "      <th>4</th>\n",
       "      <td>142631486</td>\n",
       "      <td>202010</td>\n",
       "      <td>CONTINUA</td>\n",
       "      <td>-7000</td>\n",
       "    </tr>\n",
       "  </tbody>\n",
       "</table>\n",
       "</div>"
      ],
      "text/plain": [
       "   numero_de_cliente  foto_mes clase_ternaria_202109  ganancia\n",
       "0          142625636    202010              CONTINUA     -7000\n",
       "1          142625782    202010              CONTINUA     -7000\n",
       "2          142628454    202010              CONTINUA     -7000\n",
       "3          142628779    202010              CONTINUA     -7000\n",
       "4          142631486    202010              CONTINUA     -7000"
      ]
     },
     "execution_count": 10,
     "metadata": {},
     "output_type": "execute_result"
    }
   ],
   "source": [
    "ground_truth[\"ganancia\"] = ground_truth[\"clase_ternaria_202109\"].map({\"BAJA+2\":270000, \"BAJA+1\":-7000, \"CONTINUA\":-7000})\n",
    "ground_truth.head()"
   ]
  },
  {
   "cell_type": "code",
   "execution_count": 11,
   "id": "296f1fe2-1589-4219-a870-e33ff25e9339",
   "metadata": {},
   "outputs": [],
   "source": [
    "training_months = sorted(MONTHS_BASELINE)\n",
    "training_months = training_months[0:-1]"
   ]
  },
  {
   "cell_type": "code",
   "execution_count": 12,
   "id": "eb4c7e799799cd02",
   "metadata": {
    "ExecuteTime": {
     "end_time": "2023-11-14T20:15:57.136874Z",
     "start_time": "2023-11-14T20:15:57.133885Z"
    },
    "collapsed": false
   },
   "outputs": [
    {
     "name": "stdout",
     "output_type": "stream",
     "text": [
      "Training months: [202010 202011 202101 202102 202012 202007 202009 202008]\n",
      "Pred month: 202104\n"
     ]
    },
    {
     "name": "stderr",
     "output_type": "stream",
     "text": [
      "2023/11/15 21:50:21 WARNING mlflow.utils.autologging_utils: Encountered unexpected error during lightgbm autologging: The following failures occurred while performing one or more logging operations: [MlflowException('Failed to perform one or more operations on the run with ID 5f8bb175c477450ea36fa7e9be7deac9. Failed operations: [MlflowException(\"Duplicate parameter keys have been submitted: [\\'num_boost_round\\']. Please ensure the request contains only one param value per param key.\")]')]\n",
      "2023/11/15 21:50:25 WARNING mlflow.utils.requirements_utils: Found datatable version (1.1.0a0+build.1695691407.jauriberamirez) contains a local version label (+build.1695691407.jauriberamirez). MLflow logged a pip requirement for this package as 'datatable==1.1.0a0' without the local version label to make it installable from PyPI. To specify pip requirements containing local version labels, please use `conda_env` or `pip_requirements`.\n",
      "2023/11/15 21:50:25 WARNING mlflow.models.model: Logging model metadata to the tracking server has failed. The model artifacts have been logged successfully under /home/jauriberamirez/DMEyF_Estabilidad_Modelos/mlruns/3/5f8bb175c477450ea36fa7e9be7deac9/artifacts. Set logging level to DEBUG via `logging.getLogger(\"mlflow\").setLevel(logging.DEBUG)` to see the full traceback.\n",
      "2023/11/15 21:50:28 WARNING mlflow.utils.requirements_utils: Found datatable version (1.1.0a0+build.1695691407.jauriberamirez) contains a local version label (+build.1695691407.jauriberamirez). MLflow logged a pip requirement for this package as 'datatable==1.1.0a0' without the local version label to make it installable from PyPI. To specify pip requirements containing local version labels, please use `conda_env` or `pip_requirements`.\n",
      "2023/11/15 21:50:28 WARNING mlflow.models.model: Logging model metadata to the tracking server has failed. The model artifacts have been logged successfully under /home/jauriberamirez/DMEyF_Estabilidad_Modelos/mlruns/3/5f8bb175c477450ea36fa7e9be7deac9/artifacts. Set logging level to DEBUG via `logging.getLogger(\"mlflow\").setLevel(logging.DEBUG)` to see the full traceback.\n",
      "2023/11/15 21:50:35 INFO mlflow.models.evaluation.base: Evaluating the model with the default evaluator.\n",
      "2023/11/15 21:50:35 INFO mlflow.models.evaluation.default_evaluator: Computing model predictions.\n",
      "2023/11/15 21:50:36 INFO mlflow.models.evaluation.default_evaluator: The evaluation dataset is inferred as binary dataset, positive label is 1, negative label is 0.\n",
      "2023/11/15 21:50:36 INFO mlflow.models.evaluation.default_evaluator: Testing metrics on first row...\n",
      "2023/11/15 21:50:43 INFO mlflow.models.evaluation.base: Evaluating the model with the default evaluator.\n",
      "2023/11/15 21:50:43 INFO mlflow.models.evaluation.default_evaluator: Computing model predictions.\n",
      "2023/11/15 21:50:44 INFO mlflow.models.evaluation.default_evaluator: The evaluation dataset is inferred as binary dataset, positive label is 1, negative label is 0.\n",
      "2023/11/15 21:50:45 INFO mlflow.models.evaluation.default_evaluator: Testing metrics on first row...\n"
     ]
    },
    {
     "name": "stdout",
     "output_type": "stream",
     "text": [
      "Ganancia 202104 -19717176.126806542\n",
      "Pred month: 202105\n"
     ]
    },
    {
     "name": "stderr",
     "output_type": "stream",
     "text": [
      "2023/11/15 21:52:17 WARNING mlflow.utils.autologging_utils: Encountered unexpected error during lightgbm autologging: The following failures occurred while performing one or more logging operations: [MlflowException('Failed to perform one or more operations on the run with ID 3d23e810b1e44b5f81034d328f5d2dca. Failed operations: [MlflowException(\"Duplicate parameter keys have been submitted: [\\'num_boost_round\\']. Please ensure the request contains only one param value per param key.\")]')]\n",
      "2023/11/15 21:52:19 WARNING mlflow.utils.requirements_utils: Found datatable version (1.1.0a0+build.1695691407.jauriberamirez) contains a local version label (+build.1695691407.jauriberamirez). MLflow logged a pip requirement for this package as 'datatable==1.1.0a0' without the local version label to make it installable from PyPI. To specify pip requirements containing local version labels, please use `conda_env` or `pip_requirements`.\n",
      "2023/11/15 21:52:19 WARNING mlflow.models.model: Logging model metadata to the tracking server has failed. The model artifacts have been logged successfully under /home/jauriberamirez/DMEyF_Estabilidad_Modelos/mlruns/3/3d23e810b1e44b5f81034d328f5d2dca/artifacts. Set logging level to DEBUG via `logging.getLogger(\"mlflow\").setLevel(logging.DEBUG)` to see the full traceback.\n",
      "2023/11/15 21:52:22 WARNING mlflow.utils.requirements_utils: Found datatable version (1.1.0a0+build.1695691407.jauriberamirez) contains a local version label (+build.1695691407.jauriberamirez). MLflow logged a pip requirement for this package as 'datatable==1.1.0a0' without the local version label to make it installable from PyPI. To specify pip requirements containing local version labels, please use `conda_env` or `pip_requirements`.\n",
      "2023/11/15 21:52:23 WARNING mlflow.models.model: Logging model metadata to the tracking server has failed. The model artifacts have been logged successfully under /home/jauriberamirez/DMEyF_Estabilidad_Modelos/mlruns/3/3d23e810b1e44b5f81034d328f5d2dca/artifacts. Set logging level to DEBUG via `logging.getLogger(\"mlflow\").setLevel(logging.DEBUG)` to see the full traceback.\n",
      "2023/11/15 21:52:29 INFO mlflow.models.evaluation.base: Evaluating the model with the default evaluator.\n",
      "2023/11/15 21:52:29 INFO mlflow.models.evaluation.default_evaluator: Computing model predictions.\n",
      "2023/11/15 21:52:30 INFO mlflow.models.evaluation.default_evaluator: The evaluation dataset is inferred as binary dataset, positive label is 1, negative label is 0.\n",
      "2023/11/15 21:52:31 INFO mlflow.models.evaluation.default_evaluator: Testing metrics on first row...\n",
      "2023/11/15 21:52:37 INFO mlflow.models.evaluation.base: Evaluating the model with the default evaluator.\n",
      "2023/11/15 21:52:38 INFO mlflow.models.evaluation.default_evaluator: Computing model predictions.\n",
      "2023/11/15 21:52:39 INFO mlflow.models.evaluation.default_evaluator: The evaluation dataset is inferred as binary dataset, positive label is 1, negative label is 0.\n",
      "2023/11/15 21:52:39 INFO mlflow.models.evaluation.default_evaluator: Testing metrics on first row...\n"
     ]
    },
    {
     "name": "stdout",
     "output_type": "stream",
     "text": [
      "Ganancia 202105 -86448886.31952368\n",
      "Pred month: 202106\n"
     ]
    },
    {
     "name": "stderr",
     "output_type": "stream",
     "text": [
      "2023/11/15 21:54:09 WARNING mlflow.utils.autologging_utils: Encountered unexpected error during lightgbm autologging: The following failures occurred while performing one or more logging operations: [MlflowException('Failed to perform one or more operations on the run with ID 6462551aebd3435985a0dd293e27917f. Failed operations: [MlflowException(\"Duplicate parameter keys have been submitted: [\\'num_boost_round\\']. Please ensure the request contains only one param value per param key.\")]')]\n",
      "2023/11/15 21:54:12 WARNING mlflow.utils.requirements_utils: Found datatable version (1.1.0a0+build.1695691407.jauriberamirez) contains a local version label (+build.1695691407.jauriberamirez). MLflow logged a pip requirement for this package as 'datatable==1.1.0a0' without the local version label to make it installable from PyPI. To specify pip requirements containing local version labels, please use `conda_env` or `pip_requirements`.\n",
      "2023/11/15 21:54:12 WARNING mlflow.models.model: Logging model metadata to the tracking server has failed. The model artifacts have been logged successfully under /home/jauriberamirez/DMEyF_Estabilidad_Modelos/mlruns/3/6462551aebd3435985a0dd293e27917f/artifacts. Set logging level to DEBUG via `logging.getLogger(\"mlflow\").setLevel(logging.DEBUG)` to see the full traceback.\n",
      "2023/11/15 21:54:15 WARNING mlflow.utils.requirements_utils: Found datatable version (1.1.0a0+build.1695691407.jauriberamirez) contains a local version label (+build.1695691407.jauriberamirez). MLflow logged a pip requirement for this package as 'datatable==1.1.0a0' without the local version label to make it installable from PyPI. To specify pip requirements containing local version labels, please use `conda_env` or `pip_requirements`.\n",
      "2023/11/15 21:54:15 WARNING mlflow.models.model: Logging model metadata to the tracking server has failed. The model artifacts have been logged successfully under /home/jauriberamirez/DMEyF_Estabilidad_Modelos/mlruns/3/6462551aebd3435985a0dd293e27917f/artifacts. Set logging level to DEBUG via `logging.getLogger(\"mlflow\").setLevel(logging.DEBUG)` to see the full traceback.\n",
      "2023/11/15 21:54:21 INFO mlflow.models.evaluation.base: Evaluating the model with the default evaluator.\n",
      "2023/11/15 21:54:22 INFO mlflow.models.evaluation.default_evaluator: Computing model predictions.\n",
      "2023/11/15 21:54:23 INFO mlflow.models.evaluation.default_evaluator: The evaluation dataset is inferred as binary dataset, positive label is 1, negative label is 0.\n",
      "2023/11/15 21:54:23 INFO mlflow.models.evaluation.default_evaluator: Testing metrics on first row...\n",
      "2023/11/15 21:54:30 INFO mlflow.models.evaluation.base: Evaluating the model with the default evaluator.\n",
      "2023/11/15 21:54:30 INFO mlflow.models.evaluation.default_evaluator: Computing model predictions.\n",
      "2023/11/15 21:54:32 INFO mlflow.models.evaluation.default_evaluator: The evaluation dataset is inferred as binary dataset, positive label is 1, negative label is 0.\n",
      "2023/11/15 21:54:32 INFO mlflow.models.evaluation.default_evaluator: Testing metrics on first row...\n"
     ]
    },
    {
     "name": "stdout",
     "output_type": "stream",
     "text": [
      "Ganancia 202106 -46078446.61384146\n",
      "Pred month: 202107\n"
     ]
    },
    {
     "name": "stderr",
     "output_type": "stream",
     "text": [
      "2023/11/15 21:56:04 WARNING mlflow.utils.autologging_utils: Encountered unexpected error during lightgbm autologging: The following failures occurred while performing one or more logging operations: [MlflowException('Failed to perform one or more operations on the run with ID 5ac0e9e1a3b44fefa8ec45dcef8181ae. Failed operations: [MlflowException(\"Duplicate parameter keys have been submitted: [\\'num_boost_round\\']. Please ensure the request contains only one param value per param key.\")]')]\n",
      "2023/11/15 21:56:06 WARNING mlflow.utils.requirements_utils: Found datatable version (1.1.0a0+build.1695691407.jauriberamirez) contains a local version label (+build.1695691407.jauriberamirez). MLflow logged a pip requirement for this package as 'datatable==1.1.0a0' without the local version label to make it installable from PyPI. To specify pip requirements containing local version labels, please use `conda_env` or `pip_requirements`.\n",
      "2023/11/15 21:56:07 WARNING mlflow.models.model: Logging model metadata to the tracking server has failed. The model artifacts have been logged successfully under /home/jauriberamirez/DMEyF_Estabilidad_Modelos/mlruns/3/5ac0e9e1a3b44fefa8ec45dcef8181ae/artifacts. Set logging level to DEBUG via `logging.getLogger(\"mlflow\").setLevel(logging.DEBUG)` to see the full traceback.\n",
      "2023/11/15 21:56:10 WARNING mlflow.utils.requirements_utils: Found datatable version (1.1.0a0+build.1695691407.jauriberamirez) contains a local version label (+build.1695691407.jauriberamirez). MLflow logged a pip requirement for this package as 'datatable==1.1.0a0' without the local version label to make it installable from PyPI. To specify pip requirements containing local version labels, please use `conda_env` or `pip_requirements`.\n",
      "2023/11/15 21:56:10 WARNING mlflow.models.model: Logging model metadata to the tracking server has failed. The model artifacts have been logged successfully under /home/jauriberamirez/DMEyF_Estabilidad_Modelos/mlruns/3/5ac0e9e1a3b44fefa8ec45dcef8181ae/artifacts. Set logging level to DEBUG via `logging.getLogger(\"mlflow\").setLevel(logging.DEBUG)` to see the full traceback.\n",
      "2023/11/15 21:56:16 INFO mlflow.models.evaluation.base: Evaluating the model with the default evaluator.\n",
      "2023/11/15 21:56:16 INFO mlflow.models.evaluation.default_evaluator: Computing model predictions.\n",
      "2023/11/15 21:56:18 INFO mlflow.models.evaluation.default_evaluator: The evaluation dataset is inferred as binary dataset, positive label is 1, negative label is 0.\n",
      "2023/11/15 21:56:18 INFO mlflow.models.evaluation.default_evaluator: Testing metrics on first row...\n",
      "2023/11/15 21:56:25 INFO mlflow.models.evaluation.base: Evaluating the model with the default evaluator.\n",
      "2023/11/15 21:56:25 INFO mlflow.models.evaluation.default_evaluator: Computing model predictions.\n",
      "2023/11/15 21:56:26 INFO mlflow.models.evaluation.default_evaluator: The evaluation dataset is inferred as binary dataset, positive label is 1, negative label is 0.\n",
      "2023/11/15 21:56:27 INFO mlflow.models.evaluation.default_evaluator: Testing metrics on first row...\n"
     ]
    },
    {
     "name": "stdout",
     "output_type": "stream",
     "text": [
      "Ganancia 202107 385674.7992496299\n",
      "Pred month: 202108\n"
     ]
    },
    {
     "name": "stderr",
     "output_type": "stream",
     "text": [
      "2023/11/15 21:58:03 WARNING mlflow.utils.autologging_utils: Encountered unexpected error during lightgbm autologging: The following failures occurred while performing one or more logging operations: [MlflowException('Failed to perform one or more operations on the run with ID cbb9e44db88c4498ac35e0a20f2aae87. Failed operations: [MlflowException(\"Duplicate parameter keys have been submitted: [\\'num_boost_round\\']. Please ensure the request contains only one param value per param key.\")]')]\n",
      "2023/11/15 21:58:05 WARNING mlflow.utils.requirements_utils: Found datatable version (1.1.0a0+build.1695691407.jauriberamirez) contains a local version label (+build.1695691407.jauriberamirez). MLflow logged a pip requirement for this package as 'datatable==1.1.0a0' without the local version label to make it installable from PyPI. To specify pip requirements containing local version labels, please use `conda_env` or `pip_requirements`.\n",
      "2023/11/15 21:58:05 WARNING mlflow.models.model: Logging model metadata to the tracking server has failed. The model artifacts have been logged successfully under /home/jauriberamirez/DMEyF_Estabilidad_Modelos/mlruns/3/cbb9e44db88c4498ac35e0a20f2aae87/artifacts. Set logging level to DEBUG via `logging.getLogger(\"mlflow\").setLevel(logging.DEBUG)` to see the full traceback.\n",
      "2023/11/15 21:58:08 WARNING mlflow.utils.requirements_utils: Found datatable version (1.1.0a0+build.1695691407.jauriberamirez) contains a local version label (+build.1695691407.jauriberamirez). MLflow logged a pip requirement for this package as 'datatable==1.1.0a0' without the local version label to make it installable from PyPI. To specify pip requirements containing local version labels, please use `conda_env` or `pip_requirements`.\n",
      "2023/11/15 21:58:09 WARNING mlflow.models.model: Logging model metadata to the tracking server has failed. The model artifacts have been logged successfully under /home/jauriberamirez/DMEyF_Estabilidad_Modelos/mlruns/3/cbb9e44db88c4498ac35e0a20f2aae87/artifacts. Set logging level to DEBUG via `logging.getLogger(\"mlflow\").setLevel(logging.DEBUG)` to see the full traceback.\n"
     ]
    },
    {
     "name": "stdout",
     "output_type": "stream",
     "text": [
      "Ganancia 202108 0.0\n",
      "Pred month: 202109\n"
     ]
    },
    {
     "name": "stderr",
     "output_type": "stream",
     "text": [
      "2023/11/15 21:59:37 WARNING mlflow.utils.autologging_utils: Encountered unexpected error during lightgbm autologging: The following failures occurred while performing one or more logging operations: [MlflowException('Failed to perform one or more operations on the run with ID d591780178b2408cb92ea64841fbaf7d. Failed operations: [MlflowException(\"Duplicate parameter keys have been submitted: [\\'num_boost_round\\']. Please ensure the request contains only one param value per param key.\")]')]\n",
      "2023/11/15 21:59:40 WARNING mlflow.utils.requirements_utils: Found datatable version (1.1.0a0+build.1695691407.jauriberamirez) contains a local version label (+build.1695691407.jauriberamirez). MLflow logged a pip requirement for this package as 'datatable==1.1.0a0' without the local version label to make it installable from PyPI. To specify pip requirements containing local version labels, please use `conda_env` or `pip_requirements`.\n",
      "2023/11/15 21:59:40 WARNING mlflow.models.model: Logging model metadata to the tracking server has failed. The model artifacts have been logged successfully under /home/jauriberamirez/DMEyF_Estabilidad_Modelos/mlruns/3/d591780178b2408cb92ea64841fbaf7d/artifacts. Set logging level to DEBUG via `logging.getLogger(\"mlflow\").setLevel(logging.DEBUG)` to see the full traceback.\n",
      "2023/11/15 21:59:43 WARNING mlflow.utils.requirements_utils: Found datatable version (1.1.0a0+build.1695691407.jauriberamirez) contains a local version label (+build.1695691407.jauriberamirez). MLflow logged a pip requirement for this package as 'datatable==1.1.0a0' without the local version label to make it installable from PyPI. To specify pip requirements containing local version labels, please use `conda_env` or `pip_requirements`.\n",
      "2023/11/15 21:59:43 WARNING mlflow.models.model: Logging model metadata to the tracking server has failed. The model artifacts have been logged successfully under /home/jauriberamirez/DMEyF_Estabilidad_Modelos/mlruns/3/d591780178b2408cb92ea64841fbaf7d/artifacts. Set logging level to DEBUG via `logging.getLogger(\"mlflow\").setLevel(logging.DEBUG)` to see the full traceback.\n"
     ]
    },
    {
     "name": "stdout",
     "output_type": "stream",
     "text": [
      "Ganancia 202109 0.0\n"
     ]
    },
    {
     "data": {
      "text/plain": [
       "<Figure size 1050x700 with 0 Axes>"
      ]
     },
     "metadata": {},
     "output_type": "display_data"
    }
   ],
   "source": [
    "df[\"clase_binaria\"] = df[f\"clase_ternaria_202104\"].map({\"BAJA+2\":1, \"BAJA+1\":1, \"CONTINUA\":0})\n",
    "\n",
    "df_train = df[df[\"foto_mes\"].isin(training_months)].copy()\n",
    "\n",
    "print(\"Training months:\", df_train[\"foto_mes\"].unique())\n",
    "\n",
    "df_train = df_train.reset_index(drop=True)\n",
    "\n",
    "X_train = df_train.drop(columns=drop_cols, axis=1).copy()\n",
    "y_train_binaria = df_train[\"clase_binaria\"].copy()\n",
    "\n",
    "for month in MONTHS_INFERENCE:\n",
    "    print(\"Pred month:\", month)\n",
    "    tags_monthly = {\n",
    "        'stage': 'baseline',\n",
    "        'last_month': month,\n",
    "    }\n",
    "    df_test = df[df[\"foto_mes\"].isin([month])].copy()\n",
    "    df_test = df_test.reset_index(drop=True)\n",
    "    X_test = df_test.drop(columns=drop_cols, axis=1).copy()\n",
    "    y_real_ternaria = df_test[\"clase_ternaria_202109\"].copy().map({\"BAJA+2\":1, \"BAJA+1\":0, \"CONTINUA\":0})\n",
    "    y_real_binaria = df_test[\"clase_ternaria_202109\"].copy().map({\"BAJA+2\":1, \"BAJA+1\":1, \"CONTINUA\":0})\n",
    "    if month < 202108:\n",
    "        model = train_model(X_train, y_train_binaria, X_test, y_real_ternaria, y_real_binaria, \"baseline\", PARAMS, tags_monthly)\n",
    "    else:\n",
    "        model = train_model(X_train, y_train_binaria, None, None, None, \"baseline\", PARAMS, tags_monthly)\n",
    "    \n",
    "    preds = X_test[[\"numero_de_cliente\", \"foto_mes\"]].copy()\n",
    "    preds[\"prediction\"] = predict_month(model, X_test)\n",
    "    preds = preds.merge(ground_truth, on=[\"numero_de_cliente\", \"foto_mes\"])\n",
    "    \n",
    "    preds = preds.sort_values([\"prediction\"], ascending=False)\n",
    "    \n",
    "    gan_mes = preds[\"prediction\"] * preds[\"ganancia\"]\n",
    "    print(\"Ganancia\", month, gan_mes.sum())\n",
    "    \n",
    "    preds.to_csv(f\"~/buckets/b1/exp_colab/datasets/processed/predictions/baseline/preds_{month}.csv\", index=False)"
   ]
  },
  {
   "cell_type": "code",
   "execution_count": null,
   "id": "b09f4f89-0bdf-40f4-878f-389936ce900e",
   "metadata": {},
   "outputs": [],
   "source": []
  }
 ],
 "metadata": {
  "kernelspec": {
   "display_name": "Python 3 (ipykernel)",
   "language": "python",
   "name": "python3"
  },
  "language_info": {
   "codemirror_mode": {
    "name": "ipython",
    "version": 3
   },
   "file_extension": ".py",
   "mimetype": "text/x-python",
   "name": "python",
   "nbconvert_exporter": "python",
   "pygments_lexer": "ipython3",
   "version": "3.10.12"
  }
 },
 "nbformat": 4,
 "nbformat_minor": 5
}
