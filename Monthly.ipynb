{
 "cells": [
  {
   "cell_type": "code",
   "execution_count": 1,
   "id": "initial_id",
   "metadata": {
    "ExecuteTime": {
     "end_time": "2023-11-14T20:15:48.177656Z",
     "start_time": "2023-11-14T20:15:48.172642Z"
    }
   },
   "outputs": [
    {
     "data": {
      "text/html": [
       "<style type='text/css'>\n",
       ".datatable table.frame { margin-bottom: 0; }\n",
       ".datatable table.frame thead { border-bottom: none; }\n",
       ".datatable table.frame tr.coltypes td {  color: #FFFFFF;  line-height: 6px;  padding: 0 0.5em;}\n",
       ".datatable .bool    { background: #DDDD99; }\n",
       ".datatable .object  { background: #565656; }\n",
       ".datatable .int     { background: #5D9E5D; }\n",
       ".datatable .float   { background: #4040CC; }\n",
       ".datatable .str     { background: #CC4040; }\n",
       ".datatable .time    { background: #40CC40; }\n",
       ".datatable .row_index {  background: var(--jp-border-color3);  border-right: 1px solid var(--jp-border-color0);  color: var(--jp-ui-font-color3);  font-size: 9px;}\n",
       ".datatable .frame tbody td { text-align: left; }\n",
       ".datatable .frame tr.coltypes .row_index {  background: var(--jp-border-color0);}\n",
       ".datatable th:nth-child(2) { padding-left: 12px; }\n",
       ".datatable .hellipsis {  color: var(--jp-cell-editor-border-color);}\n",
       ".datatable .vellipsis {  background: var(--jp-layout-color0);  color: var(--jp-cell-editor-border-color);}\n",
       ".datatable .na {  color: var(--jp-cell-editor-border-color);  font-size: 80%;}\n",
       ".datatable .sp {  opacity: 0.25;}\n",
       ".datatable .footer { font-size: 9px; }\n",
       ".datatable .frame_dimensions {  background: var(--jp-border-color3);  border-top: 1px solid var(--jp-border-color0);  color: var(--jp-ui-font-color3);  display: inline-block;  opacity: 0.6;  padding: 1px 10px 1px 5px;}\n",
       "</style>\n"
      ],
      "text/plain": [
       "<IPython.core.display.HTML object>"
      ]
     },
     "metadata": {},
     "output_type": "display_data"
    }
   ],
   "source": [
    "import duckdb\n",
    "import pandas as pd\n",
    "import numpy as np\n",
    "from src.model.utils import train_model\n",
    "from src.preprocess.etl import get_dataframe\n",
    "from src.model.inference import predict_month\n",
    "from src.constants import PATH_DATABASE, MONTHS_BASELINE, MONTHS_INFERENCE, PARAMS, PATH_FINAL\n",
    "\n",
    "\n",
    "import warnings\n",
    "\n",
    "warnings.filterwarnings(\"ignore\")"
   ]
  },
  {
   "cell_type": "code",
   "execution_count": 2,
   "id": "b3e004a2709babbf",
   "metadata": {
    "collapsed": false
   },
   "outputs": [],
   "source": [
    "%load_ext autoreload\n",
    "%autoreload 2"
   ]
  },
  {
   "cell_type": "code",
   "execution_count": 3,
   "id": "aa1f133145f969e0",
   "metadata": {
    "ExecuteTime": {
     "end_time": "2023-11-14T20:15:48.553829Z",
     "start_time": "2023-11-14T20:15:48.550112Z"
    },
    "collapsed": false
   },
   "outputs": [],
   "source": [
    "con = duckdb.connect(database=PATH_DATABASE, read_only=True)"
   ]
  },
  {
   "cell_type": "code",
   "execution_count": 4,
   "id": "d3906bbb471b039f",
   "metadata": {
    "ExecuteTime": {
     "end_time": "2023-11-14T20:15:48.853730Z",
     "start_time": "2023-11-14T20:15:48.840919Z"
    },
    "collapsed": false
   },
   "outputs": [
    {
     "data": {
      "text/plain": [
       "'202007, 202008, 202009, 202010, 202011, 202012, 202101, 202102, 202103, 202104, 202105, 202106, 202107, 202108, 202109'"
      ]
     },
     "execution_count": 4,
     "metadata": {},
     "output_type": "execute_result"
    }
   ],
   "source": [
    "all_months = MONTHS_BASELINE + MONTHS_INFERENCE\n",
    "all_months = [str(month) for month in all_months]\n",
    "where_clause = \", \".join(all_months)\n",
    "where_clause"
   ]
  },
  {
   "cell_type": "code",
   "execution_count": 5,
   "id": "2fb775af5dca372a",
   "metadata": {
    "ExecuteTime": {
     "end_time": "2023-11-14T20:15:53.675943Z",
     "start_time": "2023-11-14T20:15:53.666724Z"
    },
    "collapsed": false
   },
   "outputs": [],
   "source": [
    "df = con.sql(\n",
    "    f\"\"\"\n",
    "    SELECT\n",
    "        *\n",
    "    FROM read_parquet('{PATH_FINAL}')\n",
    "    WHERE foto_mes IN ({where_clause})\n",
    "    \"\"\"\n",
    ").to_df()"
   ]
  },
  {
   "cell_type": "code",
   "execution_count": 6,
   "id": "153b27978299900f",
   "metadata": {
    "ExecuteTime": {
     "end_time": "2023-11-14T20:15:54.465019Z",
     "start_time": "2023-11-14T20:15:54.456711Z"
    },
    "collapsed": false
   },
   "outputs": [
    {
     "data": {
      "text/html": [
       "<div>\n",
       "<style scoped>\n",
       "    .dataframe tbody tr th:only-of-type {\n",
       "        vertical-align: middle;\n",
       "    }\n",
       "\n",
       "    .dataframe tbody tr th {\n",
       "        vertical-align: top;\n",
       "    }\n",
       "\n",
       "    .dataframe thead th {\n",
       "        text-align: right;\n",
       "    }\n",
       "</style>\n",
       "<table border=\"1\" class=\"dataframe\">\n",
       "  <thead>\n",
       "    <tr style=\"text-align: right;\">\n",
       "      <th></th>\n",
       "      <th>numero_de_cliente</th>\n",
       "      <th>foto_mes</th>\n",
       "      <th>active_quarter</th>\n",
       "      <th>cliente_vip</th>\n",
       "      <th>internet</th>\n",
       "      <th>cliente_edad</th>\n",
       "      <th>cliente_antiguedad</th>\n",
       "      <th>mrentabilidad</th>\n",
       "      <th>mrentabilidad_annual</th>\n",
       "      <th>mcomisiones</th>\n",
       "      <th>...</th>\n",
       "      <th>Visa_mconsumototal</th>\n",
       "      <th>Visa_cconsumos</th>\n",
       "      <th>Visa_cadelantosefectivo</th>\n",
       "      <th>Visa_mpagominimo</th>\n",
       "      <th>clase_ternaria_202104</th>\n",
       "      <th>clase_ternaria_202105</th>\n",
       "      <th>clase_ternaria_202106</th>\n",
       "      <th>clase_ternaria_202107</th>\n",
       "      <th>clase_ternaria_202108</th>\n",
       "      <th>clase_ternaria_202109</th>\n",
       "    </tr>\n",
       "  </thead>\n",
       "  <tbody>\n",
       "    <tr>\n",
       "      <th>0</th>\n",
       "      <td>86787796</td>\n",
       "      <td>202109</td>\n",
       "      <td>1</td>\n",
       "      <td>0</td>\n",
       "      <td>0</td>\n",
       "      <td>62</td>\n",
       "      <td>170</td>\n",
       "      <td>398.33</td>\n",
       "      <td>13229.56</td>\n",
       "      <td>453.73</td>\n",
       "      <td>...</td>\n",
       "      <td>9944.15</td>\n",
       "      <td>5.0</td>\n",
       "      <td>0.0</td>\n",
       "      <td>950.13</td>\n",
       "      <td>None</td>\n",
       "      <td>None</td>\n",
       "      <td>None</td>\n",
       "      <td>None</td>\n",
       "      <td>None</td>\n",
       "      <td>BAJA+1</td>\n",
       "    </tr>\n",
       "    <tr>\n",
       "      <th>1</th>\n",
       "      <td>86788155</td>\n",
       "      <td>202109</td>\n",
       "      <td>1</td>\n",
       "      <td>0</td>\n",
       "      <td>0</td>\n",
       "      <td>40</td>\n",
       "      <td>170</td>\n",
       "      <td>1889.50</td>\n",
       "      <td>10379.18</td>\n",
       "      <td>2001.33</td>\n",
       "      <td>...</td>\n",
       "      <td>5177.03</td>\n",
       "      <td>3.0</td>\n",
       "      <td>0.0</td>\n",
       "      <td>598.23</td>\n",
       "      <td>None</td>\n",
       "      <td>None</td>\n",
       "      <td>None</td>\n",
       "      <td>None</td>\n",
       "      <td>None</td>\n",
       "      <td>BAJA+1</td>\n",
       "    </tr>\n",
       "    <tr>\n",
       "      <th>2</th>\n",
       "      <td>86790136</td>\n",
       "      <td>202109</td>\n",
       "      <td>1</td>\n",
       "      <td>0</td>\n",
       "      <td>0</td>\n",
       "      <td>61</td>\n",
       "      <td>170</td>\n",
       "      <td>965.88</td>\n",
       "      <td>7587.93</td>\n",
       "      <td>1396.01</td>\n",
       "      <td>...</td>\n",
       "      <td>11131.17</td>\n",
       "      <td>10.0</td>\n",
       "      <td>0.0</td>\n",
       "      <td>1853.34</td>\n",
       "      <td>None</td>\n",
       "      <td>None</td>\n",
       "      <td>None</td>\n",
       "      <td>None</td>\n",
       "      <td>None</td>\n",
       "      <td>BAJA+1</td>\n",
       "    </tr>\n",
       "    <tr>\n",
       "      <th>3</th>\n",
       "      <td>86791400</td>\n",
       "      <td>202109</td>\n",
       "      <td>1</td>\n",
       "      <td>0</td>\n",
       "      <td>0</td>\n",
       "      <td>35</td>\n",
       "      <td>170</td>\n",
       "      <td>5114.99</td>\n",
       "      <td>82662.36</td>\n",
       "      <td>1044.59</td>\n",
       "      <td>...</td>\n",
       "      <td>26033.78</td>\n",
       "      <td>8.0</td>\n",
       "      <td>0.0</td>\n",
       "      <td>4316.64</td>\n",
       "      <td>None</td>\n",
       "      <td>None</td>\n",
       "      <td>None</td>\n",
       "      <td>None</td>\n",
       "      <td>None</td>\n",
       "      <td>BAJA+1</td>\n",
       "    </tr>\n",
       "    <tr>\n",
       "      <th>4</th>\n",
       "      <td>86791878</td>\n",
       "      <td>202109</td>\n",
       "      <td>1</td>\n",
       "      <td>0</td>\n",
       "      <td>0</td>\n",
       "      <td>42</td>\n",
       "      <td>170</td>\n",
       "      <td>-6128.26</td>\n",
       "      <td>-125656.61</td>\n",
       "      <td>3352.77</td>\n",
       "      <td>...</td>\n",
       "      <td>81208.53</td>\n",
       "      <td>4.0</td>\n",
       "      <td>0.0</td>\n",
       "      <td>18709.35</td>\n",
       "      <td>None</td>\n",
       "      <td>None</td>\n",
       "      <td>None</td>\n",
       "      <td>None</td>\n",
       "      <td>None</td>\n",
       "      <td>BAJA+1</td>\n",
       "    </tr>\n",
       "  </tbody>\n",
       "</table>\n",
       "<p>5 rows × 160 columns</p>\n",
       "</div>"
      ],
      "text/plain": [
       "   numero_de_cliente  foto_mes  active_quarter  cliente_vip  internet  \\\n",
       "0           86787796    202109               1            0         0   \n",
       "1           86788155    202109               1            0         0   \n",
       "2           86790136    202109               1            0         0   \n",
       "3           86791400    202109               1            0         0   \n",
       "4           86791878    202109               1            0         0   \n",
       "\n",
       "   cliente_edad  cliente_antiguedad  mrentabilidad  mrentabilidad_annual  \\\n",
       "0            62                 170         398.33              13229.56   \n",
       "1            40                 170        1889.50              10379.18   \n",
       "2            61                 170         965.88               7587.93   \n",
       "3            35                 170        5114.99              82662.36   \n",
       "4            42                 170       -6128.26            -125656.61   \n",
       "\n",
       "   mcomisiones  ...  Visa_mconsumototal  Visa_cconsumos  \\\n",
       "0       453.73  ...             9944.15             5.0   \n",
       "1      2001.33  ...             5177.03             3.0   \n",
       "2      1396.01  ...            11131.17            10.0   \n",
       "3      1044.59  ...            26033.78             8.0   \n",
       "4      3352.77  ...            81208.53             4.0   \n",
       "\n",
       "   Visa_cadelantosefectivo  Visa_mpagominimo  clase_ternaria_202104  \\\n",
       "0                      0.0            950.13                   None   \n",
       "1                      0.0            598.23                   None   \n",
       "2                      0.0           1853.34                   None   \n",
       "3                      0.0           4316.64                   None   \n",
       "4                      0.0          18709.35                   None   \n",
       "\n",
       "   clase_ternaria_202105  clase_ternaria_202106  clase_ternaria_202107  \\\n",
       "0                   None                   None                   None   \n",
       "1                   None                   None                   None   \n",
       "2                   None                   None                   None   \n",
       "3                   None                   None                   None   \n",
       "4                   None                   None                   None   \n",
       "\n",
       "   clase_ternaria_202108  clase_ternaria_202109  \n",
       "0                   None                 BAJA+1  \n",
       "1                   None                 BAJA+1  \n",
       "2                   None                 BAJA+1  \n",
       "3                   None                 BAJA+1  \n",
       "4                   None                 BAJA+1  \n",
       "\n",
       "[5 rows x 160 columns]"
      ]
     },
     "execution_count": 6,
     "metadata": {},
     "output_type": "execute_result"
    }
   ],
   "source": [
    "df.head()"
   ]
  },
  {
   "cell_type": "code",
   "execution_count": 7,
   "id": "7852b315-e1de-48fc-b4d5-f504dbbbbc75",
   "metadata": {},
   "outputs": [
    {
     "data": {
      "text/plain": [
       "array([202007, 202008, 202009, 202010, 202011, 202012, 202101, 202102,\n",
       "       202103, 202104, 202105, 202106, 202107, 202108, 202109])"
      ]
     },
     "execution_count": 7,
     "metadata": {},
     "output_type": "execute_result"
    }
   ],
   "source": [
    "np.sort(df[\"foto_mes\"].unique())"
   ]
  },
  {
   "cell_type": "code",
   "execution_count": 8,
   "id": "b29fa15c002093a9",
   "metadata": {
    "ExecuteTime": {
     "end_time": "2023-11-14T20:15:54.991120Z",
     "start_time": "2023-11-14T20:15:54.985250Z"
    },
    "collapsed": false
   },
   "outputs": [
    {
     "data": {
      "text/plain": [
       "['clase_ternaria_202104',\n",
       " 'clase_ternaria_202105',\n",
       " 'clase_ternaria_202106',\n",
       " 'clase_ternaria_202107',\n",
       " 'clase_ternaria_202108',\n",
       " 'clase_ternaria_202109',\n",
       " 'clase_binaria']"
      ]
     },
     "execution_count": 8,
     "metadata": {},
     "output_type": "execute_result"
    }
   ],
   "source": [
    "drop_cols = [f\"clase_ternaria_{i}\" for i in MONTHS_INFERENCE]\n",
    "drop_cols.append(\"clase_binaria\")\n",
    "drop_cols"
   ]
  },
  {
   "cell_type": "code",
   "execution_count": 9,
   "id": "c469b865c2fe079f",
   "metadata": {
    "ExecuteTime": {
     "end_time": "2023-11-14T20:15:55.590833Z",
     "start_time": "2023-11-14T20:15:55.588187Z"
    },
    "collapsed": false
   },
   "outputs": [
    {
     "data": {
      "text/html": [
       "<div>\n",
       "<style scoped>\n",
       "    .dataframe tbody tr th:only-of-type {\n",
       "        vertical-align: middle;\n",
       "    }\n",
       "\n",
       "    .dataframe tbody tr th {\n",
       "        vertical-align: top;\n",
       "    }\n",
       "\n",
       "    .dataframe thead th {\n",
       "        text-align: right;\n",
       "    }\n",
       "</style>\n",
       "<table border=\"1\" class=\"dataframe\">\n",
       "  <thead>\n",
       "    <tr style=\"text-align: right;\">\n",
       "      <th></th>\n",
       "      <th>numero_de_cliente</th>\n",
       "      <th>foto_mes</th>\n",
       "      <th>clase_ternaria_202109</th>\n",
       "    </tr>\n",
       "  </thead>\n",
       "  <tbody>\n",
       "    <tr>\n",
       "      <th>46435</th>\n",
       "      <td>73139652</td>\n",
       "      <td>202105</td>\n",
       "      <td>CONTINUA</td>\n",
       "    </tr>\n",
       "    <tr>\n",
       "      <th>46436</th>\n",
       "      <td>73569089</td>\n",
       "      <td>202105</td>\n",
       "      <td>CONTINUA</td>\n",
       "    </tr>\n",
       "    <tr>\n",
       "      <th>46437</th>\n",
       "      <td>73785768</td>\n",
       "      <td>202105</td>\n",
       "      <td>CONTINUA</td>\n",
       "    </tr>\n",
       "    <tr>\n",
       "      <th>46438</th>\n",
       "      <td>73804974</td>\n",
       "      <td>202105</td>\n",
       "      <td>CONTINUA</td>\n",
       "    </tr>\n",
       "    <tr>\n",
       "      <th>46439</th>\n",
       "      <td>73918262</td>\n",
       "      <td>202105</td>\n",
       "      <td>CONTINUA</td>\n",
       "    </tr>\n",
       "    <tr>\n",
       "      <th>...</th>\n",
       "      <td>...</td>\n",
       "      <td>...</td>\n",
       "      <td>...</td>\n",
       "    </tr>\n",
       "    <tr>\n",
       "      <th>2425602</th>\n",
       "      <td>83503713</td>\n",
       "      <td>202104</td>\n",
       "      <td>CONTINUA</td>\n",
       "    </tr>\n",
       "    <tr>\n",
       "      <th>2425603</th>\n",
       "      <td>83505182</td>\n",
       "      <td>202104</td>\n",
       "      <td>CONTINUA</td>\n",
       "    </tr>\n",
       "    <tr>\n",
       "      <th>2425604</th>\n",
       "      <td>83505370</td>\n",
       "      <td>202104</td>\n",
       "      <td>CONTINUA</td>\n",
       "    </tr>\n",
       "    <tr>\n",
       "      <th>2425605</th>\n",
       "      <td>83506856</td>\n",
       "      <td>202104</td>\n",
       "      <td>CONTINUA</td>\n",
       "    </tr>\n",
       "    <tr>\n",
       "      <th>2425606</th>\n",
       "      <td>83508068</td>\n",
       "      <td>202104</td>\n",
       "      <td>CONTINUA</td>\n",
       "    </tr>\n",
       "  </tbody>\n",
       "</table>\n",
       "<p>2095389 rows × 3 columns</p>\n",
       "</div>"
      ],
      "text/plain": [
       "         numero_de_cliente  foto_mes clase_ternaria_202109\n",
       "46435             73139652    202105              CONTINUA\n",
       "46436             73569089    202105              CONTINUA\n",
       "46437             73785768    202105              CONTINUA\n",
       "46438             73804974    202105              CONTINUA\n",
       "46439             73918262    202105              CONTINUA\n",
       "...                    ...       ...                   ...\n",
       "2425602           83503713    202104              CONTINUA\n",
       "2425603           83505182    202104              CONTINUA\n",
       "2425604           83505370    202104              CONTINUA\n",
       "2425605           83506856    202104              CONTINUA\n",
       "2425606           83508068    202104              CONTINUA\n",
       "\n",
       "[2095389 rows x 3 columns]"
      ]
     },
     "execution_count": 9,
     "metadata": {},
     "output_type": "execute_result"
    }
   ],
   "source": [
    "ground_truth = df[[\"numero_de_cliente\",\"foto_mes\", \"clase_ternaria_202109\"]]\n",
    "ground_truth = ground_truth[ground_truth[\"foto_mes\"]]\n",
    "ground_truth"
   ]
  },
  {
   "cell_type": "code",
   "execution_count": 10,
   "id": "bb83e4a687b3274a",
   "metadata": {
    "ExecuteTime": {
     "end_time": "2023-11-14T20:15:56.439073Z",
     "start_time": "2023-11-14T20:15:56.432604Z"
    },
    "collapsed": false
   },
   "outputs": [
    {
     "data": {
      "text/html": [
       "<div>\n",
       "<style scoped>\n",
       "    .dataframe tbody tr th:only-of-type {\n",
       "        vertical-align: middle;\n",
       "    }\n",
       "\n",
       "    .dataframe tbody tr th {\n",
       "        vertical-align: top;\n",
       "    }\n",
       "\n",
       "    .dataframe thead th {\n",
       "        text-align: right;\n",
       "    }\n",
       "</style>\n",
       "<table border=\"1\" class=\"dataframe\">\n",
       "  <thead>\n",
       "    <tr style=\"text-align: right;\">\n",
       "      <th></th>\n",
       "      <th>numero_de_cliente</th>\n",
       "      <th>foto_mes</th>\n",
       "      <th>clase_ternaria_202109</th>\n",
       "      <th>ganancia</th>\n",
       "    </tr>\n",
       "  </thead>\n",
       "  <tbody>\n",
       "    <tr>\n",
       "      <th>46435</th>\n",
       "      <td>73139652</td>\n",
       "      <td>202105</td>\n",
       "      <td>CONTINUA</td>\n",
       "      <td>-7000</td>\n",
       "    </tr>\n",
       "    <tr>\n",
       "      <th>46436</th>\n",
       "      <td>73569089</td>\n",
       "      <td>202105</td>\n",
       "      <td>CONTINUA</td>\n",
       "      <td>-7000</td>\n",
       "    </tr>\n",
       "    <tr>\n",
       "      <th>46437</th>\n",
       "      <td>73785768</td>\n",
       "      <td>202105</td>\n",
       "      <td>CONTINUA</td>\n",
       "      <td>-7000</td>\n",
       "    </tr>\n",
       "    <tr>\n",
       "      <th>46438</th>\n",
       "      <td>73804974</td>\n",
       "      <td>202105</td>\n",
       "      <td>CONTINUA</td>\n",
       "      <td>-7000</td>\n",
       "    </tr>\n",
       "    <tr>\n",
       "      <th>46439</th>\n",
       "      <td>73918262</td>\n",
       "      <td>202105</td>\n",
       "      <td>CONTINUA</td>\n",
       "      <td>-7000</td>\n",
       "    </tr>\n",
       "  </tbody>\n",
       "</table>\n",
       "</div>"
      ],
      "text/plain": [
       "       numero_de_cliente  foto_mes clase_ternaria_202109  ganancia\n",
       "46435           73139652    202105              CONTINUA     -7000\n",
       "46436           73569089    202105              CONTINUA     -7000\n",
       "46437           73785768    202105              CONTINUA     -7000\n",
       "46438           73804974    202105              CONTINUA     -7000\n",
       "46439           73918262    202105              CONTINUA     -7000"
      ]
     },
     "execution_count": 10,
     "metadata": {},
     "output_type": "execute_result"
    }
   ],
   "source": [
    "ground_truth[\"ganancia\"] = ground_truth[\"clase_ternaria_202109\"].map({\"BAJA+2\":270000, \"BAJA+1\":-7000, \"CONTINUA\":-7000})\n",
    "ground_truth.head()"
   ]
  },
  {
   "cell_type": "code",
   "execution_count": 11,
   "id": "eb4c7e799799cd02",
   "metadata": {
    "ExecuteTime": {
     "end_time": "2023-11-14T20:15:57.136874Z",
     "start_time": "2023-11-14T20:15:57.133885Z"
    },
    "collapsed": false,
    "scrolled": true
   },
   "outputs": [
    {
     "name": "stdout",
     "output_type": "stream",
     "text": [
      "Pred month: 202104\n",
      "Training months: [202010 202007 202011 202012 202102 202009 202008 202101]\n"
     ]
    },
    {
     "name": "stderr",
     "output_type": "stream",
     "text": [
      "2023/11/16 03:01:27 WARNING mlflow.utils.autologging_utils: Encountered unexpected error during lightgbm autologging: The following failures occurred while performing one or more logging operations: [MlflowException('Failed to perform one or more operations on the run with ID 93db84b771fb4760b737dfdd7d8dcc01. Failed operations: [MlflowException(\"Duplicate parameter keys have been submitted: [\\'num_boost_round\\']. Please ensure the request contains only one param value per param key.\")]')]\n",
      "2023/11/16 03:01:31 WARNING mlflow.utils.requirements_utils: Found datatable version (1.1.0a0+build.1695691407.jauriberamirez) contains a local version label (+build.1695691407.jauriberamirez). MLflow logged a pip requirement for this package as 'datatable==1.1.0a0' without the local version label to make it installable from PyPI. To specify pip requirements containing local version labels, please use `conda_env` or `pip_requirements`.\n",
      "2023/11/16 03:01:31 WARNING mlflow.utils.requirements_utils: Found lz4 version (3.1.3+dfsg) contains a local version label (+dfsg). MLflow logged a pip requirement for this package as 'lz4==3.1.3' without the local version label to make it installable from PyPI. To specify pip requirements containing local version labels, please use `conda_env` or `pip_requirements`.\n",
      "2023/11/16 03:01:31 WARNING mlflow.models.model: Logging model metadata to the tracking server has failed. The model artifacts have been logged successfully under /home/jauriberamirez/DMEyF_Estabilidad_Modelos/mlruns/2/93db84b771fb4760b737dfdd7d8dcc01/artifacts. Set logging level to DEBUG via `logging.getLogger(\"mlflow\").setLevel(logging.DEBUG)` to see the full traceback.\n",
      "2023/11/16 03:01:34 WARNING mlflow.utils.requirements_utils: Found datatable version (1.1.0a0+build.1695691407.jauriberamirez) contains a local version label (+build.1695691407.jauriberamirez). MLflow logged a pip requirement for this package as 'datatable==1.1.0a0' without the local version label to make it installable from PyPI. To specify pip requirements containing local version labels, please use `conda_env` or `pip_requirements`.\n",
      "2023/11/16 03:01:34 WARNING mlflow.utils.requirements_utils: Found lz4 version (3.1.3+dfsg) contains a local version label (+dfsg). MLflow logged a pip requirement for this package as 'lz4==3.1.3' without the local version label to make it installable from PyPI. To specify pip requirements containing local version labels, please use `conda_env` or `pip_requirements`.\n",
      "2023/11/16 03:01:35 WARNING mlflow.models.model: Logging model metadata to the tracking server has failed. The model artifacts have been logged successfully under /home/jauriberamirez/DMEyF_Estabilidad_Modelos/mlruns/2/93db84b771fb4760b737dfdd7d8dcc01/artifacts. Set logging level to DEBUG via `logging.getLogger(\"mlflow\").setLevel(logging.DEBUG)` to see the full traceback.\n",
      "2023/11/16 03:01:41 INFO mlflow.models.evaluation.base: Evaluating the model with the default evaluator.\n",
      "2023/11/16 03:01:41 INFO mlflow.models.evaluation.default_evaluator: Computing model predictions.\n",
      "2023/11/16 03:01:43 INFO mlflow.models.evaluation.default_evaluator: The evaluation dataset is inferred as binary dataset, positive label is 1, negative label is 0.\n",
      "2023/11/16 03:01:43 INFO mlflow.models.evaluation.default_evaluator: Testing metrics on first row...\n",
      "2023/11/16 03:01:50 INFO mlflow.models.evaluation.base: Evaluating the model with the default evaluator.\n",
      "2023/11/16 03:01:50 INFO mlflow.models.evaluation.default_evaluator: Computing model predictions.\n",
      "2023/11/16 03:01:51 INFO mlflow.models.evaluation.default_evaluator: The evaluation dataset is inferred as binary dataset, positive label is 1, negative label is 0.\n",
      "2023/11/16 03:01:51 INFO mlflow.models.evaluation.default_evaluator: Testing metrics on first row...\n"
     ]
    },
    {
     "name": "stdout",
     "output_type": "stream",
     "text": [
      "Ganancia 202104 -26682829.987446956\n",
      "Pred month: 202105\n",
      "Training months: [202010 202103 202007 202011 202012 202102 202009 202008 202101]\n"
     ]
    },
    {
     "name": "stderr",
     "output_type": "stream",
     "text": [
      "2023/11/16 03:04:04 WARNING mlflow.utils.autologging_utils: Encountered unexpected error during lightgbm autologging: The following failures occurred while performing one or more logging operations: [MlflowException('Failed to perform one or more operations on the run with ID 399017c1f39443e38f8a1d19b71cc379. Failed operations: [MlflowException(\"Duplicate parameter keys have been submitted: [\\'num_boost_round\\']. Please ensure the request contains only one param value per param key.\")]')]\n",
      "2023/11/16 03:04:07 WARNING mlflow.utils.requirements_utils: Found datatable version (1.1.0a0+build.1695691407.jauriberamirez) contains a local version label (+build.1695691407.jauriberamirez). MLflow logged a pip requirement for this package as 'datatable==1.1.0a0' without the local version label to make it installable from PyPI. To specify pip requirements containing local version labels, please use `conda_env` or `pip_requirements`.\n",
      "2023/11/16 03:04:07 WARNING mlflow.utils.requirements_utils: Found lz4 version (3.1.3+dfsg) contains a local version label (+dfsg). MLflow logged a pip requirement for this package as 'lz4==3.1.3' without the local version label to make it installable from PyPI. To specify pip requirements containing local version labels, please use `conda_env` or `pip_requirements`.\n",
      "2023/11/16 03:04:07 WARNING mlflow.models.model: Logging model metadata to the tracking server has failed. The model artifacts have been logged successfully under /home/jauriberamirez/DMEyF_Estabilidad_Modelos/mlruns/2/399017c1f39443e38f8a1d19b71cc379/artifacts. Set logging level to DEBUG via `logging.getLogger(\"mlflow\").setLevel(logging.DEBUG)` to see the full traceback.\n",
      "2023/11/16 03:04:10 WARNING mlflow.utils.requirements_utils: Found datatable version (1.1.0a0+build.1695691407.jauriberamirez) contains a local version label (+build.1695691407.jauriberamirez). MLflow logged a pip requirement for this package as 'datatable==1.1.0a0' without the local version label to make it installable from PyPI. To specify pip requirements containing local version labels, please use `conda_env` or `pip_requirements`.\n",
      "2023/11/16 03:04:10 WARNING mlflow.utils.requirements_utils: Found lz4 version (3.1.3+dfsg) contains a local version label (+dfsg). MLflow logged a pip requirement for this package as 'lz4==3.1.3' without the local version label to make it installable from PyPI. To specify pip requirements containing local version labels, please use `conda_env` or `pip_requirements`.\n",
      "2023/11/16 03:04:10 WARNING mlflow.models.model: Logging model metadata to the tracking server has failed. The model artifacts have been logged successfully under /home/jauriberamirez/DMEyF_Estabilidad_Modelos/mlruns/2/399017c1f39443e38f8a1d19b71cc379/artifacts. Set logging level to DEBUG via `logging.getLogger(\"mlflow\").setLevel(logging.DEBUG)` to see the full traceback.\n",
      "2023/11/16 03:04:17 INFO mlflow.models.evaluation.base: Evaluating the model with the default evaluator.\n",
      "2023/11/16 03:04:17 INFO mlflow.models.evaluation.default_evaluator: Computing model predictions.\n",
      "2023/11/16 03:04:19 INFO mlflow.models.evaluation.default_evaluator: The evaluation dataset is inferred as binary dataset, positive label is 1, negative label is 0.\n",
      "2023/11/16 03:04:19 INFO mlflow.models.evaluation.default_evaluator: Testing metrics on first row...\n",
      "2023/11/16 03:04:26 INFO mlflow.models.evaluation.base: Evaluating the model with the default evaluator.\n",
      "2023/11/16 03:04:26 INFO mlflow.models.evaluation.default_evaluator: Computing model predictions.\n",
      "2023/11/16 03:04:27 INFO mlflow.models.evaluation.default_evaluator: The evaluation dataset is inferred as binary dataset, positive label is 1, negative label is 0.\n",
      "2023/11/16 03:04:28 INFO mlflow.models.evaluation.default_evaluator: Testing metrics on first row...\n"
     ]
    },
    {
     "name": "stdout",
     "output_type": "stream",
     "text": [
      "Ganancia 202105 -68116833.9529853\n",
      "Pred month: 202106\n",
      "Training months: [202104 202010 202103 202007 202011 202012 202102 202009 202008 202101]\n"
     ]
    },
    {
     "name": "stderr",
     "output_type": "stream",
     "text": [
      "2023/11/16 03:07:02 WARNING mlflow.utils.autologging_utils: Encountered unexpected error during lightgbm autologging: The following failures occurred while performing one or more logging operations: [MlflowException('Failed to perform one or more operations on the run with ID 81536b63ea864a74997d11a7178f7b78. Failed operations: [MlflowException(\"Duplicate parameter keys have been submitted: [\\'num_boost_round\\']. Please ensure the request contains only one param value per param key.\")]')]\n",
      "2023/11/16 03:07:05 WARNING mlflow.utils.requirements_utils: Found datatable version (1.1.0a0+build.1695691407.jauriberamirez) contains a local version label (+build.1695691407.jauriberamirez). MLflow logged a pip requirement for this package as 'datatable==1.1.0a0' without the local version label to make it installable from PyPI. To specify pip requirements containing local version labels, please use `conda_env` or `pip_requirements`.\n",
      "2023/11/16 03:07:05 WARNING mlflow.utils.requirements_utils: Found lz4 version (3.1.3+dfsg) contains a local version label (+dfsg). MLflow logged a pip requirement for this package as 'lz4==3.1.3' without the local version label to make it installable from PyPI. To specify pip requirements containing local version labels, please use `conda_env` or `pip_requirements`.\n",
      "2023/11/16 03:07:05 WARNING mlflow.models.model: Logging model metadata to the tracking server has failed. The model artifacts have been logged successfully under /home/jauriberamirez/DMEyF_Estabilidad_Modelos/mlruns/2/81536b63ea864a74997d11a7178f7b78/artifacts. Set logging level to DEBUG via `logging.getLogger(\"mlflow\").setLevel(logging.DEBUG)` to see the full traceback.\n",
      "2023/11/16 03:07:09 WARNING mlflow.utils.requirements_utils: Found datatable version (1.1.0a0+build.1695691407.jauriberamirez) contains a local version label (+build.1695691407.jauriberamirez). MLflow logged a pip requirement for this package as 'datatable==1.1.0a0' without the local version label to make it installable from PyPI. To specify pip requirements containing local version labels, please use `conda_env` or `pip_requirements`.\n",
      "2023/11/16 03:07:09 WARNING mlflow.utils.requirements_utils: Found lz4 version (3.1.3+dfsg) contains a local version label (+dfsg). MLflow logged a pip requirement for this package as 'lz4==3.1.3' without the local version label to make it installable from PyPI. To specify pip requirements containing local version labels, please use `conda_env` or `pip_requirements`.\n",
      "2023/11/16 03:07:09 WARNING mlflow.models.model: Logging model metadata to the tracking server has failed. The model artifacts have been logged successfully under /home/jauriberamirez/DMEyF_Estabilidad_Modelos/mlruns/2/81536b63ea864a74997d11a7178f7b78/artifacts. Set logging level to DEBUG via `logging.getLogger(\"mlflow\").setLevel(logging.DEBUG)` to see the full traceback.\n",
      "2023/11/16 03:07:15 INFO mlflow.models.evaluation.base: Evaluating the model with the default evaluator.\n",
      "2023/11/16 03:07:16 INFO mlflow.models.evaluation.default_evaluator: Computing model predictions.\n",
      "2023/11/16 03:07:17 INFO mlflow.models.evaluation.default_evaluator: The evaluation dataset is inferred as binary dataset, positive label is 1, negative label is 0.\n",
      "2023/11/16 03:07:17 INFO mlflow.models.evaluation.default_evaluator: Testing metrics on first row...\n",
      "2023/11/16 03:07:24 INFO mlflow.models.evaluation.base: Evaluating the model with the default evaluator.\n",
      "2023/11/16 03:07:24 INFO mlflow.models.evaluation.default_evaluator: Computing model predictions.\n",
      "2023/11/16 03:07:26 INFO mlflow.models.evaluation.default_evaluator: The evaluation dataset is inferred as binary dataset, positive label is 1, negative label is 0.\n",
      "2023/11/16 03:07:26 INFO mlflow.models.evaluation.default_evaluator: Testing metrics on first row...\n"
     ]
    },
    {
     "name": "stdout",
     "output_type": "stream",
     "text": [
      "Ganancia 202106 -33036604.44739762\n",
      "Pred month: 202107\n",
      "Training months: [202105 202104 202010 202103 202007 202011 202012 202102 202009 202008\n",
      " 202101]\n"
     ]
    },
    {
     "name": "stderr",
     "output_type": "stream",
     "text": [
      "2023/11/16 03:10:12 WARNING mlflow.utils.autologging_utils: Encountered unexpected error during lightgbm autologging: The following failures occurred while performing one or more logging operations: [MlflowException('Failed to perform one or more operations on the run with ID a82d4ebfc775417a9f633fbd7a4f3ffe. Failed operations: [MlflowException(\"Duplicate parameter keys have been submitted: [\\'num_boost_round\\']. Please ensure the request contains only one param value per param key.\")]')]\n",
      "2023/11/16 03:10:15 WARNING mlflow.utils.requirements_utils: Found datatable version (1.1.0a0+build.1695691407.jauriberamirez) contains a local version label (+build.1695691407.jauriberamirez). MLflow logged a pip requirement for this package as 'datatable==1.1.0a0' without the local version label to make it installable from PyPI. To specify pip requirements containing local version labels, please use `conda_env` or `pip_requirements`.\n",
      "2023/11/16 03:10:15 WARNING mlflow.utils.requirements_utils: Found lz4 version (3.1.3+dfsg) contains a local version label (+dfsg). MLflow logged a pip requirement for this package as 'lz4==3.1.3' without the local version label to make it installable from PyPI. To specify pip requirements containing local version labels, please use `conda_env` or `pip_requirements`.\n",
      "2023/11/16 03:10:15 WARNING mlflow.models.model: Logging model metadata to the tracking server has failed. The model artifacts have been logged successfully under /home/jauriberamirez/DMEyF_Estabilidad_Modelos/mlruns/2/a82d4ebfc775417a9f633fbd7a4f3ffe/artifacts. Set logging level to DEBUG via `logging.getLogger(\"mlflow\").setLevel(logging.DEBUG)` to see the full traceback.\n",
      "2023/11/16 03:10:18 WARNING mlflow.utils.requirements_utils: Found datatable version (1.1.0a0+build.1695691407.jauriberamirez) contains a local version label (+build.1695691407.jauriberamirez). MLflow logged a pip requirement for this package as 'datatable==1.1.0a0' without the local version label to make it installable from PyPI. To specify pip requirements containing local version labels, please use `conda_env` or `pip_requirements`.\n",
      "2023/11/16 03:10:18 WARNING mlflow.utils.requirements_utils: Found lz4 version (3.1.3+dfsg) contains a local version label (+dfsg). MLflow logged a pip requirement for this package as 'lz4==3.1.3' without the local version label to make it installable from PyPI. To specify pip requirements containing local version labels, please use `conda_env` or `pip_requirements`.\n",
      "2023/11/16 03:10:19 WARNING mlflow.models.model: Logging model metadata to the tracking server has failed. The model artifacts have been logged successfully under /home/jauriberamirez/DMEyF_Estabilidad_Modelos/mlruns/2/a82d4ebfc775417a9f633fbd7a4f3ffe/artifacts. Set logging level to DEBUG via `logging.getLogger(\"mlflow\").setLevel(logging.DEBUG)` to see the full traceback.\n",
      "2023/11/16 03:10:25 INFO mlflow.models.evaluation.base: Evaluating the model with the default evaluator.\n",
      "2023/11/16 03:10:25 INFO mlflow.models.evaluation.default_evaluator: Computing model predictions.\n",
      "2023/11/16 03:10:27 INFO mlflow.models.evaluation.default_evaluator: The evaluation dataset is inferred as binary dataset, positive label is 1, negative label is 0.\n",
      "2023/11/16 03:10:27 INFO mlflow.models.evaluation.default_evaluator: Testing metrics on first row...\n",
      "2023/11/16 03:10:34 INFO mlflow.models.evaluation.base: Evaluating the model with the default evaluator.\n",
      "2023/11/16 03:10:34 INFO mlflow.models.evaluation.default_evaluator: Computing model predictions.\n",
      "2023/11/16 03:10:36 INFO mlflow.models.evaluation.default_evaluator: The evaluation dataset is inferred as binary dataset, positive label is 1, negative label is 0.\n",
      "2023/11/16 03:10:36 INFO mlflow.models.evaluation.default_evaluator: Testing metrics on first row...\n"
     ]
    },
    {
     "name": "stdout",
     "output_type": "stream",
     "text": [
      "Ganancia 202107 8358806.407094183\n",
      "Pred month: 202108\n",
      "Training months: [202105 202104 202010 202103 202007 202011 202012 202106 202102 202009\n",
      " 202008 202101]\n"
     ]
    },
    {
     "name": "stderr",
     "output_type": "stream",
     "text": [
      "2023/11/16 03:13:47 WARNING mlflow.utils.autologging_utils: Encountered unexpected error during lightgbm autologging: The following failures occurred while performing one or more logging operations: [MlflowException('Failed to perform one or more operations on the run with ID 382b5bb9d5cf419782f3b3aaec554096. Failed operations: [MlflowException(\"Duplicate parameter keys have been submitted: [\\'num_boost_round\\']. Please ensure the request contains only one param value per param key.\")]')]\n",
      "2023/11/16 03:13:49 WARNING mlflow.utils.requirements_utils: Found datatable version (1.1.0a0+build.1695691407.jauriberamirez) contains a local version label (+build.1695691407.jauriberamirez). MLflow logged a pip requirement for this package as 'datatable==1.1.0a0' without the local version label to make it installable from PyPI. To specify pip requirements containing local version labels, please use `conda_env` or `pip_requirements`.\n",
      "2023/11/16 03:13:49 WARNING mlflow.utils.requirements_utils: Found lz4 version (3.1.3+dfsg) contains a local version label (+dfsg). MLflow logged a pip requirement for this package as 'lz4==3.1.3' without the local version label to make it installable from PyPI. To specify pip requirements containing local version labels, please use `conda_env` or `pip_requirements`.\n",
      "2023/11/16 03:13:50 WARNING mlflow.models.model: Logging model metadata to the tracking server has failed. The model artifacts have been logged successfully under /home/jauriberamirez/DMEyF_Estabilidad_Modelos/mlruns/2/382b5bb9d5cf419782f3b3aaec554096/artifacts. Set logging level to DEBUG via `logging.getLogger(\"mlflow\").setLevel(logging.DEBUG)` to see the full traceback.\n",
      "2023/11/16 03:13:53 WARNING mlflow.utils.requirements_utils: Found datatable version (1.1.0a0+build.1695691407.jauriberamirez) contains a local version label (+build.1695691407.jauriberamirez). MLflow logged a pip requirement for this package as 'datatable==1.1.0a0' without the local version label to make it installable from PyPI. To specify pip requirements containing local version labels, please use `conda_env` or `pip_requirements`.\n",
      "2023/11/16 03:13:53 WARNING mlflow.utils.requirements_utils: Found lz4 version (3.1.3+dfsg) contains a local version label (+dfsg). MLflow logged a pip requirement for this package as 'lz4==3.1.3' without the local version label to make it installable from PyPI. To specify pip requirements containing local version labels, please use `conda_env` or `pip_requirements`.\n",
      "2023/11/16 03:13:53 WARNING mlflow.models.model: Logging model metadata to the tracking server has failed. The model artifacts have been logged successfully under /home/jauriberamirez/DMEyF_Estabilidad_Modelos/mlruns/2/382b5bb9d5cf419782f3b3aaec554096/artifacts. Set logging level to DEBUG via `logging.getLogger(\"mlflow\").setLevel(logging.DEBUG)` to see the full traceback.\n"
     ]
    },
    {
     "name": "stdout",
     "output_type": "stream",
     "text": [
      "Ganancia 202108 0.0\n",
      "Pred month: 202109\n",
      "Training months: [202105 202104 202010 202103 202007 202011 202012 202106 202102 202107\n",
      " 202009 202008 202101]\n"
     ]
    },
    {
     "name": "stderr",
     "output_type": "stream",
     "text": [
      "2023/11/16 03:17:13 WARNING mlflow.utils.autologging_utils: Encountered unexpected error during lightgbm autologging: The following failures occurred while performing one or more logging operations: [MlflowException('Failed to perform one or more operations on the run with ID fcefdafc1dbb466f90953e43e9c5e86f. Failed operations: [MlflowException(\"Duplicate parameter keys have been submitted: [\\'num_boost_round\\']. Please ensure the request contains only one param value per param key.\")]')]\n",
      "2023/11/16 03:17:16 WARNING mlflow.utils.requirements_utils: Found datatable version (1.1.0a0+build.1695691407.jauriberamirez) contains a local version label (+build.1695691407.jauriberamirez). MLflow logged a pip requirement for this package as 'datatable==1.1.0a0' without the local version label to make it installable from PyPI. To specify pip requirements containing local version labels, please use `conda_env` or `pip_requirements`.\n",
      "2023/11/16 03:17:16 WARNING mlflow.utils.requirements_utils: Found lz4 version (3.1.3+dfsg) contains a local version label (+dfsg). MLflow logged a pip requirement for this package as 'lz4==3.1.3' without the local version label to make it installable from PyPI. To specify pip requirements containing local version labels, please use `conda_env` or `pip_requirements`.\n",
      "2023/11/16 03:17:16 WARNING mlflow.models.model: Logging model metadata to the tracking server has failed. The model artifacts have been logged successfully under /home/jauriberamirez/DMEyF_Estabilidad_Modelos/mlruns/2/fcefdafc1dbb466f90953e43e9c5e86f/artifacts. Set logging level to DEBUG via `logging.getLogger(\"mlflow\").setLevel(logging.DEBUG)` to see the full traceback.\n",
      "2023/11/16 03:17:20 WARNING mlflow.utils.requirements_utils: Found datatable version (1.1.0a0+build.1695691407.jauriberamirez) contains a local version label (+build.1695691407.jauriberamirez). MLflow logged a pip requirement for this package as 'datatable==1.1.0a0' without the local version label to make it installable from PyPI. To specify pip requirements containing local version labels, please use `conda_env` or `pip_requirements`.\n",
      "2023/11/16 03:17:20 WARNING mlflow.utils.requirements_utils: Found lz4 version (3.1.3+dfsg) contains a local version label (+dfsg). MLflow logged a pip requirement for this package as 'lz4==3.1.3' without the local version label to make it installable from PyPI. To specify pip requirements containing local version labels, please use `conda_env` or `pip_requirements`.\n",
      "2023/11/16 03:17:20 WARNING mlflow.models.model: Logging model metadata to the tracking server has failed. The model artifacts have been logged successfully under /home/jauriberamirez/DMEyF_Estabilidad_Modelos/mlruns/2/fcefdafc1dbb466f90953e43e9c5e86f/artifacts. Set logging level to DEBUG via `logging.getLogger(\"mlflow\").setLevel(logging.DEBUG)` to see the full traceback.\n"
     ]
    },
    {
     "name": "stdout",
     "output_type": "stream",
     "text": [
      "Ganancia 202109 0.0\n"
     ]
    },
    {
     "data": {
      "text/plain": [
       "<Figure size 1050x700 with 0 Axes>"
      ]
     },
     "metadata": {},
     "output_type": "display_data"
    }
   ],
   "source": [
    "for month in MONTHS_INFERENCE:\n",
    "    print(\"Pred month:\", month)\n",
    "    tags_monthly = {\n",
    "        'stage': 'monthly',\n",
    "        'last_month': month,\n",
    "    }\n",
    "\n",
    "    \n",
    "    df[\"clase_binaria\"] = df[f\"clase_ternaria_{month}\"].map({\"BAJA+2\":1, \"BAJA+1\":1, \"CONTINUA\":0})\n",
    "    \n",
    "    df_test = df[df[\"foto_mes\"].isin([month])].copy()\n",
    "    df_train = df[df[\"foto_mes\"] <= int(month - 2)].copy()\n",
    "\n",
    "    print(\"Training months:\", df_train[\"foto_mes\"].unique())\n",
    "    \n",
    "    df_test = df_test.reset_index(drop=True)\n",
    "    df_train = df_train.reset_index(drop=True)\n",
    "    \n",
    "    X_train = df_train.drop(columns=drop_cols, axis=1).copy()\n",
    "    X_test = df_test.drop(columns=drop_cols, axis=1).copy()\n",
    "    \n",
    "    y_train_binaria = df_train[\"clase_binaria\"].copy()\n",
    "    \n",
    "    y_real_ternaria = df_test[\"clase_ternaria_202109\"].copy().map({\"BAJA+2\":1, \"BAJA+1\":0, \"CONTINUA\":0})\n",
    "    y_real_binaria = df_test[\"clase_ternaria_202109\"].copy().map({\"BAJA+2\":1, \"BAJA+1\":1, \"CONTINUA\":0})\n",
    "\n",
    "    if month < 202108:\n",
    "        model = train_model(X_train, y_train_binaria, X_test, y_real_ternaria, y_real_binaria, \"monthly\", PARAMS, tags_monthly)\n",
    "    else:\n",
    "        model = train_model(X_train, y_train_binaria, None, None, None, \"monthly\", PARAMS, tags_monthly)\n",
    "\n",
    "    preds = X_test[[\"numero_de_cliente\", \"foto_mes\"]].copy()\n",
    "    preds[\"prediction\"] = predict_month(model, X_test)\n",
    "    preds = preds.merge(ground_truth, on=[\"numero_de_cliente\", \"foto_mes\"])\n",
    "\n",
    "    preds = preds.sort_values([\"prediction\"], ascending=False)\n",
    "    \n",
    "    gan_mes = preds[\"prediction\"] * preds[\"ganancia\"]\n",
    "    print(\"Ganancia\", month, gan_mes.sum())\n",
    "    \n",
    "    preds.to_csv(f\"~/buckets/b1/exp_colab/datasets/processed/predictions/monthly/preds_{month}.csv\", index=False)"
   ]
  },
  {
   "cell_type": "markdown",
   "id": "d373fbe1-f0df-4fde-b32c-bf5d1b861d9f",
   "metadata": {},
   "source": [
    "## Sin `foto_mes`"
   ]
  },
  {
   "cell_type": "code",
   "execution_count": 12,
   "id": "d9f1533f-88d9-40ab-ab6e-adf81f1b09a7",
   "metadata": {},
   "outputs": [],
   "source": [
    "if True:\n",
    "    drop_cols.append(\"foto_mes\")"
   ]
  },
  {
   "cell_type": "code",
   "execution_count": 13,
   "id": "151b621c-0d3b-4465-843b-1f583e225f79",
   "metadata": {
    "scrolled": true
   },
   "outputs": [
    {
     "name": "stdout",
     "output_type": "stream",
     "text": [
      "Pred month: 202104\n",
      "Training months: [202010 202007 202011 202012 202102 202009 202008 202101]\n"
     ]
    },
    {
     "name": "stderr",
     "output_type": "stream",
     "text": [
      "2023/11/16 03:19:02 WARNING mlflow.utils.autologging_utils: Encountered unexpected error during lightgbm autologging: The following failures occurred while performing one or more logging operations: [MlflowException('Failed to perform one or more operations on the run with ID 89596203ff7f4a0f8eea47007c367e15. Failed operations: [MlflowException(\"Duplicate parameter keys have been submitted: [\\'num_boost_round\\']. Please ensure the request contains only one param value per param key.\")]')]\n",
      "2023/11/16 03:19:04 WARNING mlflow.utils.requirements_utils: Found datatable version (1.1.0a0+build.1695691407.jauriberamirez) contains a local version label (+build.1695691407.jauriberamirez). MLflow logged a pip requirement for this package as 'datatable==1.1.0a0' without the local version label to make it installable from PyPI. To specify pip requirements containing local version labels, please use `conda_env` or `pip_requirements`.\n",
      "2023/11/16 03:19:04 WARNING mlflow.utils.requirements_utils: Found lz4 version (3.1.3+dfsg) contains a local version label (+dfsg). MLflow logged a pip requirement for this package as 'lz4==3.1.3' without the local version label to make it installable from PyPI. To specify pip requirements containing local version labels, please use `conda_env` or `pip_requirements`.\n",
      "2023/11/16 03:19:05 WARNING mlflow.models.model: Logging model metadata to the tracking server has failed. The model artifacts have been logged successfully under /home/jauriberamirez/DMEyF_Estabilidad_Modelos/mlruns/2/89596203ff7f4a0f8eea47007c367e15/artifacts. Set logging level to DEBUG via `logging.getLogger(\"mlflow\").setLevel(logging.DEBUG)` to see the full traceback.\n",
      "2023/11/16 03:19:08 WARNING mlflow.utils.requirements_utils: Found datatable version (1.1.0a0+build.1695691407.jauriberamirez) contains a local version label (+build.1695691407.jauriberamirez). MLflow logged a pip requirement for this package as 'datatable==1.1.0a0' without the local version label to make it installable from PyPI. To specify pip requirements containing local version labels, please use `conda_env` or `pip_requirements`.\n",
      "2023/11/16 03:19:08 WARNING mlflow.utils.requirements_utils: Found lz4 version (3.1.3+dfsg) contains a local version label (+dfsg). MLflow logged a pip requirement for this package as 'lz4==3.1.3' without the local version label to make it installable from PyPI. To specify pip requirements containing local version labels, please use `conda_env` or `pip_requirements`.\n",
      "2023/11/16 03:19:08 WARNING mlflow.models.model: Logging model metadata to the tracking server has failed. The model artifacts have been logged successfully under /home/jauriberamirez/DMEyF_Estabilidad_Modelos/mlruns/2/89596203ff7f4a0f8eea47007c367e15/artifacts. Set logging level to DEBUG via `logging.getLogger(\"mlflow\").setLevel(logging.DEBUG)` to see the full traceback.\n",
      "2023/11/16 03:19:15 INFO mlflow.models.evaluation.base: Evaluating the model with the default evaluator.\n",
      "2023/11/16 03:19:15 INFO mlflow.models.evaluation.default_evaluator: Computing model predictions.\n",
      "2023/11/16 03:19:16 INFO mlflow.models.evaluation.default_evaluator: The evaluation dataset is inferred as binary dataset, positive label is 1, negative label is 0.\n",
      "2023/11/16 03:19:16 INFO mlflow.models.evaluation.default_evaluator: Testing metrics on first row...\n",
      "2023/11/16 03:19:23 INFO mlflow.models.evaluation.base: Evaluating the model with the default evaluator.\n",
      "2023/11/16 03:19:23 INFO mlflow.models.evaluation.default_evaluator: Computing model predictions.\n",
      "2023/11/16 03:19:25 INFO mlflow.models.evaluation.default_evaluator: The evaluation dataset is inferred as binary dataset, positive label is 1, negative label is 0.\n",
      "2023/11/16 03:19:25 INFO mlflow.models.evaluation.default_evaluator: Testing metrics on first row...\n"
     ]
    },
    {
     "name": "stdout",
     "output_type": "stream",
     "text": [
      "Ganancia 202104 3839658.91075169\n",
      "Pred month: 202105\n",
      "Training months: [202010 202103 202007 202011 202012 202102 202009 202008 202101]\n"
     ]
    },
    {
     "name": "stderr",
     "output_type": "stream",
     "text": [
      "2023/11/16 03:21:34 WARNING mlflow.utils.autologging_utils: Encountered unexpected error during lightgbm autologging: The following failures occurred while performing one or more logging operations: [MlflowException('Failed to perform one or more operations on the run with ID 1448e036d9d7432da20d133306ace540. Failed operations: [MlflowException(\"Duplicate parameter keys have been submitted: [\\'num_boost_round\\']. Please ensure the request contains only one param value per param key.\")]')]\n",
      "2023/11/16 03:21:37 WARNING mlflow.utils.requirements_utils: Found datatable version (1.1.0a0+build.1695691407.jauriberamirez) contains a local version label (+build.1695691407.jauriberamirez). MLflow logged a pip requirement for this package as 'datatable==1.1.0a0' without the local version label to make it installable from PyPI. To specify pip requirements containing local version labels, please use `conda_env` or `pip_requirements`.\n",
      "2023/11/16 03:21:37 WARNING mlflow.utils.requirements_utils: Found lz4 version (3.1.3+dfsg) contains a local version label (+dfsg). MLflow logged a pip requirement for this package as 'lz4==3.1.3' without the local version label to make it installable from PyPI. To specify pip requirements containing local version labels, please use `conda_env` or `pip_requirements`.\n",
      "2023/11/16 03:21:37 WARNING mlflow.models.model: Logging model metadata to the tracking server has failed. The model artifacts have been logged successfully under /home/jauriberamirez/DMEyF_Estabilidad_Modelos/mlruns/2/1448e036d9d7432da20d133306ace540/artifacts. Set logging level to DEBUG via `logging.getLogger(\"mlflow\").setLevel(logging.DEBUG)` to see the full traceback.\n",
      "2023/11/16 03:21:41 WARNING mlflow.utils.requirements_utils: Found datatable version (1.1.0a0+build.1695691407.jauriberamirez) contains a local version label (+build.1695691407.jauriberamirez). MLflow logged a pip requirement for this package as 'datatable==1.1.0a0' without the local version label to make it installable from PyPI. To specify pip requirements containing local version labels, please use `conda_env` or `pip_requirements`.\n",
      "2023/11/16 03:21:41 WARNING mlflow.utils.requirements_utils: Found lz4 version (3.1.3+dfsg) contains a local version label (+dfsg). MLflow logged a pip requirement for this package as 'lz4==3.1.3' without the local version label to make it installable from PyPI. To specify pip requirements containing local version labels, please use `conda_env` or `pip_requirements`.\n",
      "2023/11/16 03:21:41 WARNING mlflow.models.model: Logging model metadata to the tracking server has failed. The model artifacts have been logged successfully under /home/jauriberamirez/DMEyF_Estabilidad_Modelos/mlruns/2/1448e036d9d7432da20d133306ace540/artifacts. Set logging level to DEBUG via `logging.getLogger(\"mlflow\").setLevel(logging.DEBUG)` to see the full traceback.\n",
      "2023/11/16 03:21:47 INFO mlflow.models.evaluation.base: Evaluating the model with the default evaluator.\n",
      "2023/11/16 03:21:48 INFO mlflow.models.evaluation.default_evaluator: Computing model predictions.\n",
      "2023/11/16 03:21:49 INFO mlflow.models.evaluation.default_evaluator: The evaluation dataset is inferred as binary dataset, positive label is 1, negative label is 0.\n",
      "2023/11/16 03:21:49 INFO mlflow.models.evaluation.default_evaluator: Testing metrics on first row...\n",
      "2023/11/16 03:21:56 INFO mlflow.models.evaluation.base: Evaluating the model with the default evaluator.\n",
      "2023/11/16 03:21:56 INFO mlflow.models.evaluation.default_evaluator: Computing model predictions.\n",
      "2023/11/16 03:21:58 INFO mlflow.models.evaluation.default_evaluator: The evaluation dataset is inferred as binary dataset, positive label is 1, negative label is 0.\n",
      "2023/11/16 03:21:58 INFO mlflow.models.evaluation.default_evaluator: Testing metrics on first row...\n"
     ]
    },
    {
     "name": "stdout",
     "output_type": "stream",
     "text": [
      "Ganancia 202105 -53408418.306852356\n",
      "Pred month: 202106\n",
      "Training months: [202104 202010 202103 202007 202011 202012 202102 202009 202008 202101]\n"
     ]
    },
    {
     "name": "stderr",
     "output_type": "stream",
     "text": [
      "2023/11/16 03:24:35 WARNING mlflow.utils.autologging_utils: Encountered unexpected error during lightgbm autologging: The following failures occurred while performing one or more logging operations: [MlflowException('Failed to perform one or more operations on the run with ID 7cf49b94abfc494e90bd3598899d6e36. Failed operations: [MlflowException(\"Duplicate parameter keys have been submitted: [\\'num_boost_round\\']. Please ensure the request contains only one param value per param key.\")]')]\n",
      "2023/11/16 03:24:38 WARNING mlflow.utils.requirements_utils: Found datatable version (1.1.0a0+build.1695691407.jauriberamirez) contains a local version label (+build.1695691407.jauriberamirez). MLflow logged a pip requirement for this package as 'datatable==1.1.0a0' without the local version label to make it installable from PyPI. To specify pip requirements containing local version labels, please use `conda_env` or `pip_requirements`.\n",
      "2023/11/16 03:24:38 WARNING mlflow.utils.requirements_utils: Found lz4 version (3.1.3+dfsg) contains a local version label (+dfsg). MLflow logged a pip requirement for this package as 'lz4==3.1.3' without the local version label to make it installable from PyPI. To specify pip requirements containing local version labels, please use `conda_env` or `pip_requirements`.\n",
      "2023/11/16 03:24:38 WARNING mlflow.models.model: Logging model metadata to the tracking server has failed. The model artifacts have been logged successfully under /home/jauriberamirez/DMEyF_Estabilidad_Modelos/mlruns/2/7cf49b94abfc494e90bd3598899d6e36/artifacts. Set logging level to DEBUG via `logging.getLogger(\"mlflow\").setLevel(logging.DEBUG)` to see the full traceback.\n",
      "2023/11/16 03:24:42 WARNING mlflow.utils.requirements_utils: Found datatable version (1.1.0a0+build.1695691407.jauriberamirez) contains a local version label (+build.1695691407.jauriberamirez). MLflow logged a pip requirement for this package as 'datatable==1.1.0a0' without the local version label to make it installable from PyPI. To specify pip requirements containing local version labels, please use `conda_env` or `pip_requirements`.\n",
      "2023/11/16 03:24:42 WARNING mlflow.utils.requirements_utils: Found lz4 version (3.1.3+dfsg) contains a local version label (+dfsg). MLflow logged a pip requirement for this package as 'lz4==3.1.3' without the local version label to make it installable from PyPI. To specify pip requirements containing local version labels, please use `conda_env` or `pip_requirements`.\n",
      "2023/11/16 03:24:42 WARNING mlflow.models.model: Logging model metadata to the tracking server has failed. The model artifacts have been logged successfully under /home/jauriberamirez/DMEyF_Estabilidad_Modelos/mlruns/2/7cf49b94abfc494e90bd3598899d6e36/artifacts. Set logging level to DEBUG via `logging.getLogger(\"mlflow\").setLevel(logging.DEBUG)` to see the full traceback.\n",
      "2023/11/16 03:24:49 INFO mlflow.models.evaluation.base: Evaluating the model with the default evaluator.\n",
      "2023/11/16 03:24:49 INFO mlflow.models.evaluation.default_evaluator: Computing model predictions.\n",
      "2023/11/16 03:24:50 INFO mlflow.models.evaluation.default_evaluator: The evaluation dataset is inferred as binary dataset, positive label is 1, negative label is 0.\n",
      "2023/11/16 03:24:50 INFO mlflow.models.evaluation.default_evaluator: Testing metrics on first row...\n",
      "2023/11/16 03:24:58 INFO mlflow.models.evaluation.base: Evaluating the model with the default evaluator.\n",
      "2023/11/16 03:24:58 INFO mlflow.models.evaluation.default_evaluator: Computing model predictions.\n",
      "2023/11/16 03:25:00 INFO mlflow.models.evaluation.default_evaluator: The evaluation dataset is inferred as binary dataset, positive label is 1, negative label is 0.\n",
      "2023/11/16 03:25:00 INFO mlflow.models.evaluation.default_evaluator: Testing metrics on first row...\n"
     ]
    },
    {
     "name": "stdout",
     "output_type": "stream",
     "text": [
      "Ganancia 202106 -23667872.512992013\n",
      "Pred month: 202107\n",
      "Training months: [202105 202104 202010 202103 202007 202011 202012 202102 202009 202008\n",
      " 202101]\n"
     ]
    },
    {
     "name": "stderr",
     "output_type": "stream",
     "text": [
      "2023/11/16 03:27:55 WARNING mlflow.utils.autologging_utils: Encountered unexpected error during lightgbm autologging: The following failures occurred while performing one or more logging operations: [MlflowException('Failed to perform one or more operations on the run with ID 170731a7a0d249ac8dae6b8e330e58f6. Failed operations: [MlflowException(\"Duplicate parameter keys have been submitted: [\\'num_boost_round\\']. Please ensure the request contains only one param value per param key.\")]')]\n",
      "2023/11/16 03:27:58 WARNING mlflow.utils.requirements_utils: Found datatable version (1.1.0a0+build.1695691407.jauriberamirez) contains a local version label (+build.1695691407.jauriberamirez). MLflow logged a pip requirement for this package as 'datatable==1.1.0a0' without the local version label to make it installable from PyPI. To specify pip requirements containing local version labels, please use `conda_env` or `pip_requirements`.\n",
      "2023/11/16 03:27:58 WARNING mlflow.utils.requirements_utils: Found lz4 version (3.1.3+dfsg) contains a local version label (+dfsg). MLflow logged a pip requirement for this package as 'lz4==3.1.3' without the local version label to make it installable from PyPI. To specify pip requirements containing local version labels, please use `conda_env` or `pip_requirements`.\n",
      "2023/11/16 03:27:58 WARNING mlflow.models.model: Logging model metadata to the tracking server has failed. The model artifacts have been logged successfully under /home/jauriberamirez/DMEyF_Estabilidad_Modelos/mlruns/2/170731a7a0d249ac8dae6b8e330e58f6/artifacts. Set logging level to DEBUG via `logging.getLogger(\"mlflow\").setLevel(logging.DEBUG)` to see the full traceback.\n",
      "2023/11/16 03:28:02 WARNING mlflow.utils.requirements_utils: Found datatable version (1.1.0a0+build.1695691407.jauriberamirez) contains a local version label (+build.1695691407.jauriberamirez). MLflow logged a pip requirement for this package as 'datatable==1.1.0a0' without the local version label to make it installable from PyPI. To specify pip requirements containing local version labels, please use `conda_env` or `pip_requirements`.\n",
      "2023/11/16 03:28:02 WARNING mlflow.utils.requirements_utils: Found lz4 version (3.1.3+dfsg) contains a local version label (+dfsg). MLflow logged a pip requirement for this package as 'lz4==3.1.3' without the local version label to make it installable from PyPI. To specify pip requirements containing local version labels, please use `conda_env` or `pip_requirements`.\n",
      "2023/11/16 03:28:03 WARNING mlflow.models.model: Logging model metadata to the tracking server has failed. The model artifacts have been logged successfully under /home/jauriberamirez/DMEyF_Estabilidad_Modelos/mlruns/2/170731a7a0d249ac8dae6b8e330e58f6/artifacts. Set logging level to DEBUG via `logging.getLogger(\"mlflow\").setLevel(logging.DEBUG)` to see the full traceback.\n",
      "2023/11/16 03:28:09 INFO mlflow.models.evaluation.base: Evaluating the model with the default evaluator.\n",
      "2023/11/16 03:28:09 INFO mlflow.models.evaluation.default_evaluator: Computing model predictions.\n",
      "2023/11/16 03:28:11 INFO mlflow.models.evaluation.default_evaluator: The evaluation dataset is inferred as binary dataset, positive label is 1, negative label is 0.\n",
      "2023/11/16 03:28:11 INFO mlflow.models.evaluation.default_evaluator: Testing metrics on first row...\n",
      "2023/11/16 03:28:19 INFO mlflow.models.evaluation.base: Evaluating the model with the default evaluator.\n",
      "2023/11/16 03:28:19 INFO mlflow.models.evaluation.default_evaluator: Computing model predictions.\n",
      "2023/11/16 03:28:21 INFO mlflow.models.evaluation.default_evaluator: The evaluation dataset is inferred as binary dataset, positive label is 1, negative label is 0.\n",
      "2023/11/16 03:28:21 INFO mlflow.models.evaluation.default_evaluator: Testing metrics on first row...\n"
     ]
    },
    {
     "name": "stdout",
     "output_type": "stream",
     "text": [
      "Ganancia 202107 21080420.805758704\n",
      "Pred month: 202108\n",
      "Training months: [202105 202104 202010 202103 202007 202011 202012 202106 202102 202009\n",
      " 202008 202101]\n"
     ]
    },
    {
     "name": "stderr",
     "output_type": "stream",
     "text": [
      "2023/11/16 03:31:30 WARNING mlflow.utils.autologging_utils: Encountered unexpected error during lightgbm autologging: The following failures occurred while performing one or more logging operations: [MlflowException('Failed to perform one or more operations on the run with ID 57b99db202b74eb786bd97364ffe3675. Failed operations: [MlflowException(\"Duplicate parameter keys have been submitted: [\\'num_boost_round\\']. Please ensure the request contains only one param value per param key.\")]')]\n",
      "2023/11/16 03:31:32 WARNING mlflow.utils.requirements_utils: Found datatable version (1.1.0a0+build.1695691407.jauriberamirez) contains a local version label (+build.1695691407.jauriberamirez). MLflow logged a pip requirement for this package as 'datatable==1.1.0a0' without the local version label to make it installable from PyPI. To specify pip requirements containing local version labels, please use `conda_env` or `pip_requirements`.\n",
      "2023/11/16 03:31:32 WARNING mlflow.utils.requirements_utils: Found lz4 version (3.1.3+dfsg) contains a local version label (+dfsg). MLflow logged a pip requirement for this package as 'lz4==3.1.3' without the local version label to make it installable from PyPI. To specify pip requirements containing local version labels, please use `conda_env` or `pip_requirements`.\n",
      "2023/11/16 03:31:33 WARNING mlflow.models.model: Logging model metadata to the tracking server has failed. The model artifacts have been logged successfully under /home/jauriberamirez/DMEyF_Estabilidad_Modelos/mlruns/2/57b99db202b74eb786bd97364ffe3675/artifacts. Set logging level to DEBUG via `logging.getLogger(\"mlflow\").setLevel(logging.DEBUG)` to see the full traceback.\n",
      "2023/11/16 03:31:36 WARNING mlflow.utils.requirements_utils: Found datatable version (1.1.0a0+build.1695691407.jauriberamirez) contains a local version label (+build.1695691407.jauriberamirez). MLflow logged a pip requirement for this package as 'datatable==1.1.0a0' without the local version label to make it installable from PyPI. To specify pip requirements containing local version labels, please use `conda_env` or `pip_requirements`.\n",
      "2023/11/16 03:31:36 WARNING mlflow.utils.requirements_utils: Found lz4 version (3.1.3+dfsg) contains a local version label (+dfsg). MLflow logged a pip requirement for this package as 'lz4==3.1.3' without the local version label to make it installable from PyPI. To specify pip requirements containing local version labels, please use `conda_env` or `pip_requirements`.\n",
      "2023/11/16 03:31:37 WARNING mlflow.models.model: Logging model metadata to the tracking server has failed. The model artifacts have been logged successfully under /home/jauriberamirez/DMEyF_Estabilidad_Modelos/mlruns/2/57b99db202b74eb786bd97364ffe3675/artifacts. Set logging level to DEBUG via `logging.getLogger(\"mlflow\").setLevel(logging.DEBUG)` to see the full traceback.\n"
     ]
    },
    {
     "name": "stdout",
     "output_type": "stream",
     "text": [
      "Ganancia 202108 0.0\n",
      "Pred month: 202109\n",
      "Training months: [202105 202104 202010 202103 202007 202011 202012 202106 202102 202107\n",
      " 202009 202008 202101]\n"
     ]
    },
    {
     "name": "stderr",
     "output_type": "stream",
     "text": [
      "2023/11/16 03:34:59 WARNING mlflow.utils.autologging_utils: Encountered unexpected error during lightgbm autologging: The following failures occurred while performing one or more logging operations: [MlflowException('Failed to perform one or more operations on the run with ID 9aef653dfa4c46c899c455685bde4517. Failed operations: [MlflowException(\"Duplicate parameter keys have been submitted: [\\'num_boost_round\\']. Please ensure the request contains only one param value per param key.\")]')]\n",
      "2023/11/16 03:35:01 WARNING mlflow.utils.requirements_utils: Found datatable version (1.1.0a0+build.1695691407.jauriberamirez) contains a local version label (+build.1695691407.jauriberamirez). MLflow logged a pip requirement for this package as 'datatable==1.1.0a0' without the local version label to make it installable from PyPI. To specify pip requirements containing local version labels, please use `conda_env` or `pip_requirements`.\n",
      "2023/11/16 03:35:01 WARNING mlflow.utils.requirements_utils: Found lz4 version (3.1.3+dfsg) contains a local version label (+dfsg). MLflow logged a pip requirement for this package as 'lz4==3.1.3' without the local version label to make it installable from PyPI. To specify pip requirements containing local version labels, please use `conda_env` or `pip_requirements`.\n",
      "2023/11/16 03:35:02 WARNING mlflow.models.model: Logging model metadata to the tracking server has failed. The model artifacts have been logged successfully under /home/jauriberamirez/DMEyF_Estabilidad_Modelos/mlruns/2/9aef653dfa4c46c899c455685bde4517/artifacts. Set logging level to DEBUG via `logging.getLogger(\"mlflow\").setLevel(logging.DEBUG)` to see the full traceback.\n",
      "2023/11/16 03:35:05 WARNING mlflow.utils.requirements_utils: Found datatable version (1.1.0a0+build.1695691407.jauriberamirez) contains a local version label (+build.1695691407.jauriberamirez). MLflow logged a pip requirement for this package as 'datatable==1.1.0a0' without the local version label to make it installable from PyPI. To specify pip requirements containing local version labels, please use `conda_env` or `pip_requirements`.\n",
      "2023/11/16 03:35:05 WARNING mlflow.utils.requirements_utils: Found lz4 version (3.1.3+dfsg) contains a local version label (+dfsg). MLflow logged a pip requirement for this package as 'lz4==3.1.3' without the local version label to make it installable from PyPI. To specify pip requirements containing local version labels, please use `conda_env` or `pip_requirements`.\n",
      "2023/11/16 03:35:06 WARNING mlflow.models.model: Logging model metadata to the tracking server has failed. The model artifacts have been logged successfully under /home/jauriberamirez/DMEyF_Estabilidad_Modelos/mlruns/2/9aef653dfa4c46c899c455685bde4517/artifacts. Set logging level to DEBUG via `logging.getLogger(\"mlflow\").setLevel(logging.DEBUG)` to see the full traceback.\n"
     ]
    },
    {
     "name": "stdout",
     "output_type": "stream",
     "text": [
      "Ganancia 202109 0.0\n"
     ]
    },
    {
     "data": {
      "text/plain": [
       "<Figure size 1050x700 with 0 Axes>"
      ]
     },
     "metadata": {},
     "output_type": "display_data"
    }
   ],
   "source": [
    "for month in MONTHS_INFERENCE:\n",
    "    print(\"Pred month:\", month)\n",
    "    tags_monthly = {\n",
    "        'stage': 'monthly_sin_foto_mes',\n",
    "        'last_month': month,\n",
    "    }\n",
    "\n",
    "    \n",
    "    df[\"clase_binaria\"] = df[f\"clase_ternaria_{month}\"].map({\"BAJA+2\":1, \"BAJA+1\":1, \"CONTINUA\":0})\n",
    "    \n",
    "    df_test = df[df[\"foto_mes\"].isin([month])].copy()\n",
    "    df_train = df[df[\"foto_mes\"] <= int(month - 2)].copy()\n",
    "\n",
    "    print(\"Training months:\", df_train[\"foto_mes\"].unique())\n",
    "    \n",
    "    df_test = df_test.reset_index(drop=True)\n",
    "    df_train = df_train.reset_index(drop=True)\n",
    "    \n",
    "    X_train = df_train.drop(columns=drop_cols, axis=1).copy()\n",
    "    X_test = df_test.drop(columns=drop_cols, axis=1).copy()\n",
    "    \n",
    "    y_train_binaria = df_train[\"clase_binaria\"].copy()\n",
    "    \n",
    "    y_real_ternaria = df_test[\"clase_ternaria_202109\"].copy().map({\"BAJA+2\":1, \"BAJA+1\":0, \"CONTINUA\":0})\n",
    "    y_real_binaria = df_test[\"clase_ternaria_202109\"].copy().map({\"BAJA+2\":1, \"BAJA+1\":1, \"CONTINUA\":0})\n",
    "\n",
    "    if month < 202108:\n",
    "        model = train_model(X_train, y_train_binaria, X_test, y_real_ternaria, y_real_binaria, \"monthly\", PARAMS, tags_monthly)\n",
    "    else:\n",
    "        model = train_model(X_train, y_train_binaria, None, None, None, \"monthly\", PARAMS, tags_monthly)\n",
    "\n",
    "    preds = X_test.copy()\n",
    "    preds[\"foto_mes\"] = month\n",
    "    preds = preds[[\"numero_de_cliente\", \"foto_mes\"]]\n",
    "    preds[\"prediction\"] = predict_month(model, X_test)\n",
    "    preds = preds.merge(ground_truth, on=[\"numero_de_cliente\", \"foto_mes\"])\n",
    "    \n",
    "    preds = preds.sort_values([\"prediction\"], ascending=False)\n",
    "    \n",
    "    gan_mes = preds[\"prediction\"] * preds[\"ganancia\"]\n",
    "    print(\"Ganancia\", month, gan_mes.sum())\n",
    "    \n",
    "    preds.to_csv(f\"~/buckets/b1/exp_colab/datasets/processed/predictions/monthly/preds_{month}_sin_foto_mes.csv\", index=False)"
   ]
  },
  {
   "cell_type": "code",
   "execution_count": null,
   "id": "0b1ae944-457e-40ec-ab03-383fc72351b0",
   "metadata": {},
   "outputs": [],
   "source": []
  }
 ],
 "metadata": {
  "kernelspec": {
   "display_name": "Python 3 (ipykernel)",
   "language": "python",
   "name": "python3"
  },
  "language_info": {
   "codemirror_mode": {
    "name": "ipython",
    "version": 3
   },
   "file_extension": ".py",
   "mimetype": "text/x-python",
   "name": "python",
   "nbconvert_exporter": "python",
   "pygments_lexer": "ipython3",
   "version": "3.10.12"
  }
 },
 "nbformat": 4,
 "nbformat_minor": 5
}
