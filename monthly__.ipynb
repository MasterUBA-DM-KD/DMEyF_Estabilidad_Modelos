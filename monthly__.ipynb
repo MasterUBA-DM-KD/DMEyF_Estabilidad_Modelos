{
 "cells": [
  {
   "cell_type": "code",
   "execution_count": 12,
   "id": "initial_id",
   "metadata": {
    "collapsed": true,
    "ExecuteTime": {
     "end_time": "2023-11-13T23:36:53.666799Z",
     "start_time": "2023-11-13T23:36:53.662794Z"
    }
   },
   "outputs": [],
   "source": [
    "import duckdb\n",
    "import pandas as pd\n",
    "from src.constants import PATH_DATABASE"
   ]
  },
  {
   "cell_type": "code",
   "execution_count": 13,
   "outputs": [],
   "source": [
    "\n",
    "\n",
    "con = duckdb.connect(database=PATH_DATABASE, read_only=False)"
   ],
   "metadata": {
    "collapsed": false,
    "ExecuteTime": {
     "end_time": "2023-11-13T23:36:53.829974Z",
     "start_time": "2023-11-13T23:36:53.828013Z"
    }
   },
   "id": "4fa80eb44bb4ee62"
  },
  {
   "cell_type": "code",
   "execution_count": 14,
   "outputs": [],
   "source": [
    "df = con.sql(\n",
    "    \"\"\"\n",
    "    SELECT\n",
    "        *\n",
    "    FROM competencia_03\n",
    "    \"\"\"\n",
    ").to_df()"
   ],
   "metadata": {
    "collapsed": false,
    "ExecuteTime": {
     "end_time": "2023-11-13T23:36:53.983302Z",
     "start_time": "2023-11-13T23:36:53.976055Z"
    }
   },
   "id": "ab935ba3cc41927a"
  },
  {
   "cell_type": "code",
   "execution_count": 15,
   "outputs": [],
   "source": [
    "df.to_parquet(\"datasets/processed/competencia_03.parquet\")"
   ],
   "metadata": {
    "collapsed": false,
    "ExecuteTime": {
     "end_time": "2023-11-13T23:36:54.157551Z",
     "start_time": "2023-11-13T23:36:54.153231Z"
    }
   },
   "id": "98ab216aefd95bec"
  },
  {
   "cell_type": "code",
   "execution_count": 16,
   "outputs": [],
   "source": [
    "con.close()"
   ],
   "metadata": {
    "collapsed": false,
    "ExecuteTime": {
     "end_time": "2023-11-13T23:36:55.165861Z",
     "start_time": "2023-11-13T23:36:55.163927Z"
    }
   },
   "id": "8a827607643fa1b5"
  },
  {
   "cell_type": "code",
   "execution_count": null,
   "outputs": [],
   "source": [],
   "metadata": {
    "collapsed": false
   },
   "id": "3cd01c9a74d68cfb"
  }
 ],
 "metadata": {
  "kernelspec": {
   "display_name": "Python 3",
   "language": "python",
   "name": "python3"
  },
  "language_info": {
   "codemirror_mode": {
    "name": "ipython",
    "version": 2
   },
   "file_extension": ".py",
   "mimetype": "text/x-python",
   "name": "python",
   "nbconvert_exporter": "python",
   "pygments_lexer": "ipython2",
   "version": "2.7.6"
  }
 },
 "nbformat": 4,
 "nbformat_minor": 5
}
