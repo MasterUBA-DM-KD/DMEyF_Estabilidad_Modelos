{
 "cells": [
  {
   "cell_type": "code",
   "execution_count": 1,
   "id": "f8e58b5b-5b3d-4485-a5f9-e19a8e22742b",
   "metadata": {},
   "outputs": [],
   "source": [
    "import duckdb\n",
    "import matplotlib.pyplot as plt\n",
    "import numpy as np\n",
    "from src.constants import PATH_FINAL, PATH_DATABASE, PATH_MAX_GAN"
   ]
  },
  {
   "cell_type": "code",
   "execution_count": 2,
   "id": "e9b02ca0-c3da-4ab6-a5e6-4f1cedad9f8a",
   "metadata": {},
   "outputs": [],
   "source": [
    "con = duckdb.connect(\":memory:\", read_only=False)"
   ]
  },
  {
   "cell_type": "code",
   "execution_count": 3,
   "id": "71100288-f544-484b-bab5-e4726492d49c",
   "metadata": {},
   "outputs": [
    {
     "data": {
      "application/vnd.jupyter.widget-view+json": {
       "model_id": "950f888480534fcab30dd4db4738a32f",
       "version_major": 2,
       "version_minor": 0
      },
      "text/plain": [
       "FloatProgress(value=0.0, layout=Layout(width='auto'), style=ProgressStyle(bar_color='black'))"
      ]
     },
     "metadata": {},
     "output_type": "display_data"
    }
   ],
   "source": [
    "con.sql(\n",
    "    f\"\"\"\n",
    "    CREATE OR REPLACE TABLE ganancia_maxima AS (\n",
    "        SELECT\n",
    "            *\n",
    "        FROM read_parquet('{PATH_FINAL}')\n",
    "    )\n",
    "    \"\"\"\n",
    ")"
   ]
  },
  {
   "cell_type": "code",
   "execution_count": 4,
   "id": "7e93d10b-e84e-4a37-866b-18d94ca717ab",
   "metadata": {},
   "outputs": [
    {
     "data": {
      "text/plain": [
       "┌───────────────────┬──────────┬────────────────┬───┬──────────────────────┬──────────────────────┐\n",
       "│ numero_de_cliente │ foto_mes │ active_quarter │ … │ clase_ternaria_202…  │ clase_ternaria_202…  │\n",
       "│       int64       │  int64   │     int64      │   │       varchar        │       varchar        │\n",
       "├───────────────────┼──────────┼────────────────┼───┼──────────────────────┼──────────────────────┤\n",
       "│          87372554 │   202106 │              1 │ … │ CONTINUA             │ CONTINUA             │\n",
       "│          87372956 │   202106 │              1 │ … │ CONTINUA             │ CONTINUA             │\n",
       "│          87377576 │   202106 │              1 │ … │ CONTINUA             │ CONTINUA             │\n",
       "│          87377857 │   202106 │              1 │ … │ CONTINUA             │ CONTINUA             │\n",
       "│          87381598 │   202106 │              0 │ … │ CONTINUA             │ CONTINUA             │\n",
       "│          87383391 │   202106 │              1 │ … │ CONTINUA             │ CONTINUA             │\n",
       "│          87384356 │   202106 │              1 │ … │ CONTINUA             │ CONTINUA             │\n",
       "│          87390402 │   202106 │              1 │ … │ CONTINUA             │ CONTINUA             │\n",
       "│          87391120 │   202106 │              1 │ … │ CONTINUA             │ CONTINUA             │\n",
       "│          87393622 │   202106 │              1 │ … │ CONTINUA             │ CONTINUA             │\n",
       "├───────────────────┴──────────┴────────────────┴───┴──────────────────────┴──────────────────────┤\n",
       "│ 10 rows                                                                   160 columns (5 shown) │\n",
       "└─────────────────────────────────────────────────────────────────────────────────────────────────┘"
      ]
     },
     "execution_count": 4,
     "metadata": {},
     "output_type": "execute_result"
    }
   ],
   "source": [
    "con.sql(\n",
    "    \"\"\"\n",
    "    SELECT\n",
    "        *\n",
    "    FROM ganancia_maxima\n",
    "    LIMIT 10\n",
    "    \"\"\"\n",
    ")"
   ]
  },
  {
   "cell_type": "code",
   "execution_count": 5,
   "id": "e4ca0117-5b41-4dfd-8d87-e7b6418ad042",
   "metadata": {},
   "outputs": [],
   "source": [
    "con.sql(\n",
    "    \"\"\"\n",
    "    CREATE OR REPLACE TABLE ganancia_maxima AS (\n",
    "        SELECT\n",
    "            *,\n",
    "            CASE \n",
    "                WHEN clase_ternaria_202109 = 'BAJA+2' THEN 270000\n",
    "                ELSE 0\n",
    "            END AS weights\n",
    "        FROM ganancia_maxima\n",
    "    )\n",
    "    \"\"\"\n",
    ")"
   ]
  },
  {
   "cell_type": "code",
   "execution_count": 6,
   "id": "c150b082-ee00-4558-a634-9a569cd0a704",
   "metadata": {},
   "outputs": [
    {
     "data": {
      "text/plain": [
       "┌───────────────────┬──────────┬────────────────┬───┬──────────────────────┬──────────────────────┬─────────┐\n",
       "│ numero_de_cliente │ foto_mes │ active_quarter │ … │ clase_ternaria_202…  │ clase_ternaria_202…  │ weights │\n",
       "│       int64       │  int64   │     int64      │   │       varchar        │       varchar        │  int32  │\n",
       "├───────────────────┼──────────┼────────────────┼───┼──────────────────────┼──────────────────────┼─────────┤\n",
       "│          87372554 │   202106 │              1 │ … │ CONTINUA             │ CONTINUA             │       0 │\n",
       "│          87372956 │   202106 │              1 │ … │ CONTINUA             │ CONTINUA             │       0 │\n",
       "│          87377576 │   202106 │              1 │ … │ CONTINUA             │ CONTINUA             │       0 │\n",
       "│          87377857 │   202106 │              1 │ … │ CONTINUA             │ CONTINUA             │       0 │\n",
       "│          87381598 │   202106 │              0 │ … │ CONTINUA             │ CONTINUA             │       0 │\n",
       "│          87383391 │   202106 │              1 │ … │ CONTINUA             │ CONTINUA             │       0 │\n",
       "│          87384356 │   202106 │              1 │ … │ CONTINUA             │ CONTINUA             │       0 │\n",
       "│          87390402 │   202106 │              1 │ … │ CONTINUA             │ CONTINUA             │       0 │\n",
       "│          87391120 │   202106 │              1 │ … │ CONTINUA             │ CONTINUA             │       0 │\n",
       "│          87393622 │   202106 │              1 │ … │ CONTINUA             │ CONTINUA             │       0 │\n",
       "├───────────────────┴──────────┴────────────────┴───┴──────────────────────┴──────────────────────┴─────────┤\n",
       "│ 10 rows                                                                             161 columns (6 shown) │\n",
       "└───────────────────────────────────────────────────────────────────────────────────────────────────────────┘"
      ]
     },
     "execution_count": 6,
     "metadata": {},
     "output_type": "execute_result"
    }
   ],
   "source": [
    "con.sql(\n",
    "    \"\"\"\n",
    "    SELECT\n",
    "        *\n",
    "    FROM ganancia_maxima\n",
    "    LIMIT 10\n",
    "    \"\"\"\n",
    ")"
   ]
  },
  {
   "cell_type": "code",
   "execution_count": 7,
   "id": "5ddbfd6e-14d9-4a89-a4fa-7311eefd2884",
   "metadata": {},
   "outputs": [],
   "source": [
    "con.sql(\n",
    "    \"\"\"\n",
    "    CREATE OR REPLACE TABLE ganancia_maxima AS (\n",
    "    SELECT\n",
    "        foto_mes,\n",
    "        (SUBSTR(foto_mes, 1, 4) || '-' || SUBSTR(foto_mes, 5, 2) || '-01')::DATE AS foto_mes_date,\n",
    "        SUM(weights) AS ganancia_max\n",
    "    FROM ganancia_maxima\n",
    "    GROUP BY\n",
    "        foto_mes\n",
    "    )\n",
    "    \"\"\"\n",
    ")"
   ]
  },
  {
   "cell_type": "code",
   "execution_count": 8,
   "id": "499fc1e9-0937-465b-ba94-9b28dfd4910e",
   "metadata": {},
   "outputs": [],
   "source": [
    "con.sql(\n",
    "    \"\"\"\n",
    "    UPDATE ganancia_maxima\n",
    "    SET ganancia_max = NULL\n",
    "    WHERE foto_mes >= 202108\n",
    "    \"\"\"\n",
    ")"
   ]
  },
  {
   "cell_type": "code",
   "execution_count": 9,
   "id": "572f63a0-1ce8-4cd2-b616-ced32ef81f40",
   "metadata": {},
   "outputs": [],
   "source": [
    "df = con.sql(\n",
    "    \"\"\"\n",
    "    SELECT * FROM ganancia_maxima\n",
    "    \"\"\"\n",
    ").to_df()"
   ]
  },
  {
   "cell_type": "code",
   "execution_count": 10,
   "id": "7dd0a1ef-52bc-4d39-b90e-437864d72841",
   "metadata": {},
   "outputs": [
    {
     "data": {
      "text/html": [
       "<div>\n",
       "<style scoped>\n",
       "    .dataframe tbody tr th:only-of-type {\n",
       "        vertical-align: middle;\n",
       "    }\n",
       "\n",
       "    .dataframe tbody tr th {\n",
       "        vertical-align: top;\n",
       "    }\n",
       "\n",
       "    .dataframe thead th {\n",
       "        text-align: right;\n",
       "    }\n",
       "</style>\n",
       "<table border=\"1\" class=\"dataframe\">\n",
       "  <thead>\n",
       "    <tr style=\"text-align: right;\">\n",
       "      <th></th>\n",
       "      <th>foto_mes</th>\n",
       "      <th>foto_mes_date</th>\n",
       "      <th>ganancia_max</th>\n",
       "    </tr>\n",
       "  </thead>\n",
       "  <tbody>\n",
       "    <tr>\n",
       "      <th>0</th>\n",
       "      <td>202007</td>\n",
       "      <td>2020-07-01</td>\n",
       "      <td>144450000.0</td>\n",
       "    </tr>\n",
       "    <tr>\n",
       "      <th>1</th>\n",
       "      <td>202008</td>\n",
       "      <td>2020-08-01</td>\n",
       "      <td>125550000.0</td>\n",
       "    </tr>\n",
       "    <tr>\n",
       "      <th>2</th>\n",
       "      <td>202009</td>\n",
       "      <td>2020-09-01</td>\n",
       "      <td>148770000.0</td>\n",
       "    </tr>\n",
       "    <tr>\n",
       "      <th>3</th>\n",
       "      <td>202010</td>\n",
       "      <td>2020-10-01</td>\n",
       "      <td>140940000.0</td>\n",
       "    </tr>\n",
       "    <tr>\n",
       "      <th>4</th>\n",
       "      <td>202011</td>\n",
       "      <td>2020-11-01</td>\n",
       "      <td>163890000.0</td>\n",
       "    </tr>\n",
       "  </tbody>\n",
       "</table>\n",
       "</div>"
      ],
      "text/plain": [
       "   foto_mes foto_mes_date  ganancia_max\n",
       "0    202007    2020-07-01   144450000.0\n",
       "1    202008    2020-08-01   125550000.0\n",
       "2    202009    2020-09-01   148770000.0\n",
       "3    202010    2020-10-01   140940000.0\n",
       "4    202011    2020-11-01   163890000.0"
      ]
     },
     "execution_count": 10,
     "metadata": {},
     "output_type": "execute_result"
    }
   ],
   "source": [
    "df.head()"
   ]
  },
  {
   "cell_type": "code",
   "execution_count": 11,
   "id": "6a51ccd8-bca1-4b32-9e66-1da36a2f49c8",
   "metadata": {},
   "outputs": [
    {
     "data": {
      "text/plain": [
       "<DatetimeArray>\n",
       "['2020-07-01 00:00:00', '2020-08-01 00:00:00', '2020-09-01 00:00:00',\n",
       " '2020-10-01 00:00:00', '2020-11-01 00:00:00', '2020-12-01 00:00:00',\n",
       " '2021-01-01 00:00:00', '2021-02-01 00:00:00', '2021-03-01 00:00:00',\n",
       " '2021-04-01 00:00:00', '2021-05-01 00:00:00', '2021-06-01 00:00:00',\n",
       " '2021-07-01 00:00:00', '2021-08-01 00:00:00', '2021-09-01 00:00:00']\n",
       "Length: 15, dtype: datetime64[ns]"
      ]
     },
     "execution_count": 11,
     "metadata": {},
     "output_type": "execute_result"
    }
   ],
   "source": [
    "df[\"foto_mes_date\"].unique()"
   ]
  },
  {
   "cell_type": "code",
   "execution_count": 12,
   "id": "79b8abc9-9d04-4c9e-a1ed-ddd621080e58",
   "metadata": {},
   "outputs": [
    {
     "data": {
      "text/plain": [
       "foto_mes         0\n",
       "foto_mes_date    0\n",
       "ganancia_max     2\n",
       "dtype: int64"
      ]
     },
     "execution_count": 12,
     "metadata": {},
     "output_type": "execute_result"
    }
   ],
   "source": [
    "df.isnull().sum()"
   ]
  },
  {
   "cell_type": "code",
   "execution_count": 13,
   "id": "15739d52-fc84-4001-8a32-e5974ec7b911",
   "metadata": {},
   "outputs": [
    {
     "data": {
      "image/png": "[encoded data removed]",
      "text/plain": [
       "<Figure size 1152x648 with 1 Axes>"
      ]
     },
     "metadata": {
      "needs_background": "light"
     },
     "output_type": "display_data"
    }
   ],
   "source": [
    "plt.figure(figsize=(16,9))\n",
    "plt.plot(df[\"foto_mes_date\"].values,df[\"ganancia_max\"].values/1000000, 'o--')\n",
    "plt.xlabel(\"Foto Mes\")\n",
    "plt.ylabel(\"Ganancia Máxima [M]\")\n",
    "plt.tight_layout()\n",
    "plt.show()"
   ]
  },
  {
   "cell_type": "code",
   "execution_count": 14,
   "id": "d92c68eb-6c63-4f5b-b78d-efeca109a340",
   "metadata": {},
   "outputs": [],
   "source": [
    "df.to_parquet(PATH_MAX_GAN)"
   ]
  },
  {
   "cell_type": "code",
   "execution_count": null,
   "id": "4a267bc18022d4dc",
   "metadata": {
    "collapsed": false,
    "jupyter": {
     "outputs_hidden": false
    }
   },
   "outputs": [],
   "source": []
  }
 ],
 "metadata": {
  "kernelspec": {
   "display_name": "Python 3 (ipykernel)",
   "language": "python",
   "name": "python3"
  },
  "language_info": {
   "codemirror_mode": {
    "name": "ipython",
    "version": 3
   },
   "file_extension": ".py",
   "mimetype": "text/x-python",
   "name": "python",
   "nbconvert_exporter": "python",
   "pygments_lexer": "ipython3",
   "version": "3.10.12"
  }
 },
 "nbformat": 4,
 "nbformat_minor": 5
}
