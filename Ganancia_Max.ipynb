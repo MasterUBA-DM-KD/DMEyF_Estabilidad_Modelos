{
 "cells": [
  {
   "cell_type": "code",
   "execution_count": 40,
   "id": "f8e58b5b-5b3d-4485-a5f9-e19a8e22742b",
   "metadata": {},
   "outputs": [],
   "source": [
    "import duckdb\n",
    "import matplotlib.pyplot as plt\n",
    "import numpy as np"
   ]
  },
  {
   "cell_type": "code",
   "execution_count": 2,
   "id": "e9b02ca0-c3da-4ab6-a5e6-4f1cedad9f8a",
   "metadata": {},
   "outputs": [],
   "source": [
    "con = duckdb.connect(\":memory:\", read_only=False)"
   ]
  },
  {
   "cell_type": "code",
   "execution_count": 4,
   "id": "71100288-f544-484b-bab5-e4726492d49c",
   "metadata": {},
   "outputs": [
    {
     "data": {
      "application/vnd.jupyter.widget-view+json": {
       "model_id": "b19b8a24a35e4729893ce793a6193e0e",
       "version_major": 2,
       "version_minor": 0
      },
      "text/plain": [
       "FloatProgress(value=0.0, layout=Layout(width='auto'), style=ProgressStyle(bar_color='black'))"
      ]
     },
     "metadata": {},
     "output_type": "display_data"
    }
   ],
   "source": [
    "con.sql(\n",
    "    \"\"\"\n",
    "    CREATE OR REPLACE TABLE ganancia_maxima AS (\n",
    "    SELECT\n",
    "        foto_mes,\n",
    "        numero_de_cliente,\n",
    "        clase_ternaria\n",
    "    FROM read_parquet('buckets/b1/datasets/processed/competencia_03_crudo.parquet')\n",
    "    WHERE foto_mes <= 202107\n",
    "    )\n",
    "    \"\"\"\n",
    ")"
   ]
  },
  {
   "cell_type": "code",
   "execution_count": 7,
   "id": "7e93d10b-e84e-4a37-866b-18d94ca717ab",
   "metadata": {},
   "outputs": [
    {
     "data": {
      "text/plain": [
       "┌──────────┬───────────────────┬────────────────┐\n",
       "│ foto_mes │ numero_de_cliente │ clase_ternaria │\n",
       "│  int64   │       int64       │    varchar     │\n",
       "├──────────┼───────────────────┼────────────────┤\n",
       "│   201901 │          29183981 │ CONTINUA       │\n",
       "│   201902 │          29183981 │ CONTINUA       │\n",
       "│   201903 │          29183981 │ CONTINUA       │\n",
       "│   201904 │          29183981 │ CONTINUA       │\n",
       "│   201905 │          29183981 │ CONTINUA       │\n",
       "│   201906 │          29183981 │ CONTINUA       │\n",
       "│   201907 │          29183981 │ CONTINUA       │\n",
       "│   201908 │          29183981 │ CONTINUA       │\n",
       "│   201909 │          29183981 │ CONTINUA       │\n",
       "│   201910 │          29183981 │ CONTINUA       │\n",
       "├──────────┴───────────────────┴────────────────┤\n",
       "│ 10 rows                             3 columns │\n",
       "└───────────────────────────────────────────────┘"
      ]
     },
     "execution_count": 7,
     "metadata": {},
     "output_type": "execute_result"
    }
   ],
   "source": [
    "con.sql(\n",
    "    \"\"\"\n",
    "    SELECT\n",
    "        *\n",
    "    FROM ganancia_maxima\n",
    "    LIMIT 10\n",
    "    \"\"\"\n",
    ")"
   ]
  },
  {
   "cell_type": "code",
   "execution_count": 8,
   "id": "e4ca0117-5b41-4dfd-8d87-e7b6418ad042",
   "metadata": {},
   "outputs": [],
   "source": [
    "con.sql(\n",
    "    \"\"\"\n",
    "    CREATE OR REPLACE TABLE ganancia_maxima AS (\n",
    "        SELECT\n",
    "            *,\n",
    "            CASE \n",
    "                WHEN clase_ternaria = 'BAJA+2' THEN 270000\n",
    "                ELSE 0\n",
    "            END AS weights\n",
    "        FROM ganancia_maxima\n",
    "    )\n",
    "    \"\"\"\n",
    ")"
   ]
  },
  {
   "cell_type": "code",
   "execution_count": 9,
   "id": "c150b082-ee00-4558-a634-9a569cd0a704",
   "metadata": {},
   "outputs": [
    {
     "data": {
      "text/plain": [
       "┌──────────┬───────────────────┬────────────────┬─────────┐\n",
       "│ foto_mes │ numero_de_cliente │ clase_ternaria │ weights │\n",
       "│  int64   │       int64       │    varchar     │  int32  │\n",
       "├──────────┼───────────────────┼────────────────┼─────────┤\n",
       "│   201901 │          29183981 │ CONTINUA       │       0 │\n",
       "│   201902 │          29183981 │ CONTINUA       │       0 │\n",
       "│   201903 │          29183981 │ CONTINUA       │       0 │\n",
       "│   201904 │          29183981 │ CONTINUA       │       0 │\n",
       "│   201905 │          29183981 │ CONTINUA       │       0 │\n",
       "│   201906 │          29183981 │ CONTINUA       │       0 │\n",
       "│   201907 │          29183981 │ CONTINUA       │       0 │\n",
       "│   201908 │          29183981 │ CONTINUA       │       0 │\n",
       "│   201909 │          29183981 │ CONTINUA       │       0 │\n",
       "│   201910 │          29183981 │ CONTINUA       │       0 │\n",
       "├──────────┴───────────────────┴────────────────┴─────────┤\n",
       "│ 10 rows                                       4 columns │\n",
       "└─────────────────────────────────────────────────────────┘"
      ]
     },
     "execution_count": 9,
     "metadata": {},
     "output_type": "execute_result"
    }
   ],
   "source": [
    "con.sql(\n",
    "    \"\"\"\n",
    "    SELECT\n",
    "        *\n",
    "    FROM ganancia_maxima\n",
    "    LIMIT 10\n",
    "    \"\"\"\n",
    ")"
   ]
  },
  {
   "cell_type": "code",
   "execution_count": 16,
   "id": "5ddbfd6e-14d9-4a89-a4fa-7311eefd2884",
   "metadata": {},
   "outputs": [],
   "source": [
    "df = con.sql(\n",
    "    \"\"\"\n",
    "    SELECT\n",
    "        foto_mes,\n",
    "        SUM(weights) AS ganancia_maxima\n",
    "    FROM ganancia_maxima\n",
    "    GROUP BY\n",
    "        foto_mes\n",
    "    \"\"\"\n",
    ").to_df()"
   ]
  },
  {
   "cell_type": "code",
   "execution_count": 35,
   "id": "7dd0a1ef-52bc-4d39-b90e-437864d72841",
   "metadata": {},
   "outputs": [
    {
     "data": {
      "text/html": [
       "<div>\n",
       "<style scoped>\n",
       "    .dataframe tbody tr th:only-of-type {\n",
       "        vertical-align: middle;\n",
       "    }\n",
       "\n",
       "    .dataframe tbody tr th {\n",
       "        vertical-align: top;\n",
       "    }\n",
       "\n",
       "    .dataframe thead th {\n",
       "        text-align: right;\n",
       "    }\n",
       "</style>\n",
       "<table border=\"1\" class=\"dataframe\">\n",
       "  <thead>\n",
       "    <tr style=\"text-align: right;\">\n",
       "      <th></th>\n",
       "      <th>foto_mes</th>\n",
       "      <th>ganancia_maxima</th>\n",
       "    </tr>\n",
       "  </thead>\n",
       "  <tbody>\n",
       "    <tr>\n",
       "      <th>0</th>\n",
       "      <td>201901</td>\n",
       "      <td>193050000.0</td>\n",
       "    </tr>\n",
       "    <tr>\n",
       "      <th>1</th>\n",
       "      <td>201902</td>\n",
       "      <td>184680000.0</td>\n",
       "    </tr>\n",
       "    <tr>\n",
       "      <th>2</th>\n",
       "      <td>201903</td>\n",
       "      <td>196830000.0</td>\n",
       "    </tr>\n",
       "    <tr>\n",
       "      <th>3</th>\n",
       "      <td>201904</td>\n",
       "      <td>139860000.0</td>\n",
       "    </tr>\n",
       "    <tr>\n",
       "      <th>4</th>\n",
       "      <td>201905</td>\n",
       "      <td>183600000.0</td>\n",
       "    </tr>\n",
       "  </tbody>\n",
       "</table>\n",
       "</div>"
      ],
      "text/plain": [
       "   foto_mes  ganancia_maxima\n",
       "0    201901      193050000.0\n",
       "1    201902      184680000.0\n",
       "2    201903      196830000.0\n",
       "3    201904      139860000.0\n",
       "4    201905      183600000.0"
      ]
     },
     "execution_count": 35,
     "metadata": {},
     "output_type": "execute_result"
    }
   ],
   "source": [
    "df.head()"
   ]
  },
  {
   "cell_type": "code",
   "execution_count": 29,
   "id": "5b7a2b3f-a99d-4f7d-aa3f-a7988e069bad",
   "metadata": {},
   "outputs": [],
   "source": [
    "df = df.fillna(np.nan)"
   ]
  },
  {
   "cell_type": "code",
   "execution_count": 30,
   "id": "6a51ccd8-bca1-4b32-9e66-1da36a2f49c8",
   "metadata": {},
   "outputs": [
    {
     "data": {
      "text/plain": [
       "array([201901, 201902, 201903, 201904, 201905, 201906, 201907, 201908,\n",
       "       201909, 201910, 201911, 201912, 202001, 202002, 202003, 202004,\n",
       "       202005, 202006, 202007, 202008, 202009, 202010, 202011, 202012,\n",
       "       202101, 202102, 202103, 202104, 202105, 202106, 202107])"
      ]
     },
     "execution_count": 30,
     "metadata": {},
     "output_type": "execute_result"
    }
   ],
   "source": [
    "df[\"foto_mes\"].unique()"
   ]
  },
  {
   "cell_type": "code",
   "execution_count": 33,
   "id": "79b8abc9-9d04-4c9e-a1ed-ddd621080e58",
   "metadata": {},
   "outputs": [
    {
     "data": {
      "text/plain": [
       "foto_mes           0\n",
       "ganancia_maxima    0\n",
       "dtype: int64"
      ]
     },
     "execution_count": 33,
     "metadata": {},
     "output_type": "execute_result"
    }
   ],
   "source": [
    "df.isnull().sum()"
   ]
  },
  {
   "cell_type": "code",
   "execution_count": 50,
   "id": "15739d52-fc84-4001-8a32-e5974ec7b911",
   "metadata": {},
   "outputs": [
    {
     "data": {
      "image/png": "[encoded data removed]",
      "text/plain": [
       "<Figure size 1152x648 with 1 Axes>"
      ]
     },
     "metadata": {
      "needs_background": "light"
     },
     "output_type": "display_data"
    }
   ],
   "source": [
    "plt.figure(figsize=(16,9))\n",
    "plt.plot(df[\"foto_mes\"].values,df[\"ganancia_maxima\"].values/1000000, 'o--')\n",
    "plt.xlabel(\"Foto Mes\")\n",
    "plt.xticks(df[\"foto_mes\"].values)\n",
    "plt.ylabel(\"Ganancia Máxima [M]\")\n",
    "plt.tight_layout()\n",
    "plt.show()"
   ]
  },
  {
   "cell_type": "code",
   "execution_count": null,
   "id": "d92c68eb-6c63-4f5b-b78d-efeca109a340",
   "metadata": {},
   "outputs": [],
   "source": [
    "df.to_parquet(\"buckets/b1/processed/ganancia_maxima.parquet\")"
   ]
  },
  {
   "cell_type": "code",
   "execution_count": null,
   "outputs": [],
   "source": [],
   "metadata": {
    "collapsed": false
   },
   "id": "4a267bc18022d4dc"
  }
 ],
 "metadata": {
  "kernelspec": {
   "display_name": "Python 3 (ipykernel)",
   "language": "python",
   "name": "python3"
  },
  "language_info": {
   "codemirror_mode": {
    "name": "ipython",
    "version": 3
   },
   "file_extension": ".py",
   "mimetype": "text/x-python",
   "name": "python",
   "nbconvert_exporter": "python",
   "pygments_lexer": "ipython3",
   "version": "3.10.12"
  }
 },
 "nbformat": 4,
 "nbformat_minor": 5
}
