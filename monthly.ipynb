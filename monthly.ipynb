{
 "cells": [
  {
   "cell_type": "code",
   "execution_count": 9,
   "id": "initial_id",
   "metadata": {
    "collapsed": true,
    "ExecuteTime": {
     "end_time": "2023-11-14T20:15:48.177656Z",
     "start_time": "2023-11-14T20:15:48.172642Z"
    }
   },
   "outputs": [],
   "source": [
    "import duckdb\n",
    "import pandas as pd\n",
    "from src.model.utils import train_model\n",
    "from src.preprocess.etl import get_dataframe\n",
    "from src.model.inference import predict_month\n",
    "from src.constants import PATH_DATABASE, MONTHS_BASELINE, MONTHS_INFERENCE, PARAMS\n",
    "\n",
    "\n",
    "import warnings\n",
    "\n",
    "warnings.filterwarnings(\"ignore\")\n"
   ]
  },
  {
   "cell_type": "code",
   "execution_count": 11,
   "outputs": [],
   "source": [
    "con = duckdb.connect(database=PATH_DATABASE, read_only=True)"
   ],
   "metadata": {
    "collapsed": false,
    "ExecuteTime": {
     "end_time": "2023-11-14T20:15:48.553829Z",
     "start_time": "2023-11-14T20:15:48.550112Z"
    }
   },
   "id": "aa1f133145f969e0"
  },
  {
   "cell_type": "code",
   "execution_count": 12,
   "outputs": [
    {
     "data": {
      "text/plain": "    numero_de_cliente  foto_mes clase_ternaria_202108 clase_ternaria_202109\n0                   4    202007              CONTINUA              CONTINUA\n1                   4    202008              CONTINUA              CONTINUA\n2                   4    202009              CONTINUA              CONTINUA\n3                   4    202010              CONTINUA              CONTINUA\n4                   4    202011              CONTINUA              CONTINUA\n..                ...       ...                   ...                   ...\n82          494389234    202105              CONTINUA              CONTINUA\n83          494389234    202106              CONTINUA              CONTINUA\n84          494389234    202107                BAJA+2              CONTINUA\n85          494389234    202108                BAJA+1                BAJA+2\n86          494389234    202109                  None                BAJA+1\n\n[87 rows x 4 columns]",
      "text/html": "<div>\n<style scoped>\n    .dataframe tbody tr th:only-of-type {\n        vertical-align: middle;\n    }\n\n    .dataframe tbody tr th {\n        vertical-align: top;\n    }\n\n    .dataframe thead th {\n        text-align: right;\n    }\n</style>\n<table border=\"1\" class=\"dataframe\">\n  <thead>\n    <tr style=\"text-align: right;\">\n      <th></th>\n      <th>numero_de_cliente</th>\n      <th>foto_mes</th>\n      <th>clase_ternaria_202108</th>\n      <th>clase_ternaria_202109</th>\n    </tr>\n  </thead>\n  <tbody>\n    <tr>\n      <th>0</th>\n      <td>4</td>\n      <td>202007</td>\n      <td>CONTINUA</td>\n      <td>CONTINUA</td>\n    </tr>\n    <tr>\n      <th>1</th>\n      <td>4</td>\n      <td>202008</td>\n      <td>CONTINUA</td>\n      <td>CONTINUA</td>\n    </tr>\n    <tr>\n      <th>2</th>\n      <td>4</td>\n      <td>202009</td>\n      <td>CONTINUA</td>\n      <td>CONTINUA</td>\n    </tr>\n    <tr>\n      <th>3</th>\n      <td>4</td>\n      <td>202010</td>\n      <td>CONTINUA</td>\n      <td>CONTINUA</td>\n    </tr>\n    <tr>\n      <th>4</th>\n      <td>4</td>\n      <td>202011</td>\n      <td>CONTINUA</td>\n      <td>CONTINUA</td>\n    </tr>\n    <tr>\n      <th>...</th>\n      <td>...</td>\n      <td>...</td>\n      <td>...</td>\n      <td>...</td>\n    </tr>\n    <tr>\n      <th>82</th>\n      <td>494389234</td>\n      <td>202105</td>\n      <td>CONTINUA</td>\n      <td>CONTINUA</td>\n    </tr>\n    <tr>\n      <th>83</th>\n      <td>494389234</td>\n      <td>202106</td>\n      <td>CONTINUA</td>\n      <td>CONTINUA</td>\n    </tr>\n    <tr>\n      <th>84</th>\n      <td>494389234</td>\n      <td>202107</td>\n      <td>BAJA+2</td>\n      <td>CONTINUA</td>\n    </tr>\n    <tr>\n      <th>85</th>\n      <td>494389234</td>\n      <td>202108</td>\n      <td>BAJA+1</td>\n      <td>BAJA+2</td>\n    </tr>\n    <tr>\n      <th>86</th>\n      <td>494389234</td>\n      <td>202109</td>\n      <td>None</td>\n      <td>BAJA+1</td>\n    </tr>\n  </tbody>\n</table>\n<p>87 rows × 4 columns</p>\n</div>"
     },
     "execution_count": 12,
     "metadata": {},
     "output_type": "execute_result"
    }
   ],
   "source": [
    "con.sql(\n",
    "    \"\"\"\n",
    "    SELECT\n",
    "        numero_de_cliente,\n",
    "        foto_mes,\n",
    "        clase_ternaria_202108,\n",
    "        clase_ternaria_202109\n",
    "    FROM competencia_03\n",
    "    ORDER BY \n",
    "        numero_de_cliente,\n",
    "        foto_mes\n",
    "    \"\"\"\n",
    ").to_df().head(10000)"
   ],
   "metadata": {
    "collapsed": false,
    "ExecuteTime": {
     "end_time": "2023-11-14T20:15:48.853730Z",
     "start_time": "2023-11-14T20:15:48.840919Z"
    }
   },
   "id": "d3906bbb471b039f"
  },
  {
   "cell_type": "code",
   "execution_count": 14,
   "outputs": [],
   "source": [
    "all_months = MONTHS_BASELINE + MONTHS_INFERENCE\n",
    "all_months = [str(month) for month in all_months]\n",
    "where_clause = \", \".join(all_months)"
   ],
   "metadata": {
    "collapsed": false,
    "ExecuteTime": {
     "end_time": "2023-11-14T20:15:53.675943Z",
     "start_time": "2023-11-14T20:15:53.666724Z"
    }
   },
   "id": "2fb775af5dca372a"
  },
  {
   "cell_type": "code",
   "execution_count": 15,
   "outputs": [
    {
     "data": {
      "text/plain": "'202007, 202008, 202009, 202010, 202011, 202012, 202101, 202102, 202103, 202104, 202105, 202106, 202107, 202108, 202109'"
     },
     "execution_count": 15,
     "metadata": {},
     "output_type": "execute_result"
    }
   ],
   "source": [
    "where_clause"
   ],
   "metadata": {
    "collapsed": false,
    "ExecuteTime": {
     "end_time": "2023-11-14T20:15:54.465019Z",
     "start_time": "2023-11-14T20:15:54.456711Z"
    }
   },
   "id": "153b27978299900f"
  },
  {
   "cell_type": "code",
   "execution_count": 16,
   "outputs": [],
   "source": [
    "df = get_dataframe(con, where_clause)"
   ],
   "metadata": {
    "collapsed": false,
    "ExecuteTime": {
     "end_time": "2023-11-14T20:15:54.991120Z",
     "start_time": "2023-11-14T20:15:54.985250Z"
    }
   },
   "id": "b29fa15c002093a9"
  },
  {
   "cell_type": "code",
   "execution_count": 17,
   "outputs": [
    {
     "data": {
      "text/plain": "   numero_de_cliente  foto_mes  active_quarter  cliente_vip  internet  \\\n0            4231431    202007               0            0         1   \n1            4231431    202008               0            0         1   \n2            4231431    202009               0            0         1   \n3            4231431    202012               1            0         0   \n4            4231431    202101               1            0         0   \n\n   cliente_edad  cliente_antiguedad  mrentabilidad  mrentabilidad_annual  \\\n0            51                  47        2685.87              49834.16   \n1            51                  48        2264.82              45425.09   \n2            51                  49        2044.97              41781.22   \n3            51                  52        2522.09              35592.87   \n4            52                  53        3016.56              34162.13   \n\n   mcomisiones  ...  mautoservicio  ctarjeta_visa  \\\n0      2130.01  ...            0.0              1   \n1      1981.17  ...            0.0              1   \n2      1812.01  ...            0.0              1   \n3      1857.05  ...            0.0              1   \n4      2714.54  ...            0.0              1   \n\n   ctarjeta_visa_transacciones  mtarjeta_visa_consumo  clase_ternaria_202104  \\\n0                            1               11810.23               CONTINUA   \n1                            1               12565.02               CONTINUA   \n2                            1               12564.98               CONTINUA   \n3                            1               12564.98               CONTINUA   \n4                            1               12564.98               CONTINUA   \n\n   clase_ternaria_202105  clase_ternaria_202106  clase_ternaria_202107  \\\n0               CONTINUA               CONTINUA               CONTINUA   \n1               CONTINUA               CONTINUA               CONTINUA   \n2               CONTINUA               CONTINUA               CONTINUA   \n3               CONTINUA               CONTINUA               CONTINUA   \n4               CONTINUA               CONTINUA               CONTINUA   \n\n   clase_ternaria_202108  clase_ternaria_202109  \n0               CONTINUA               CONTINUA  \n1               CONTINUA               CONTINUA  \n2               CONTINUA               CONTINUA  \n3               CONTINUA               CONTINUA  \n4               CONTINUA               CONTINUA  \n\n[5 rows x 35 columns]",
      "text/html": "<div>\n<style scoped>\n    .dataframe tbody tr th:only-of-type {\n        vertical-align: middle;\n    }\n\n    .dataframe tbody tr th {\n        vertical-align: top;\n    }\n\n    .dataframe thead th {\n        text-align: right;\n    }\n</style>\n<table border=\"1\" class=\"dataframe\">\n  <thead>\n    <tr style=\"text-align: right;\">\n      <th></th>\n      <th>numero_de_cliente</th>\n      <th>foto_mes</th>\n      <th>active_quarter</th>\n      <th>cliente_vip</th>\n      <th>internet</th>\n      <th>cliente_edad</th>\n      <th>cliente_antiguedad</th>\n      <th>mrentabilidad</th>\n      <th>mrentabilidad_annual</th>\n      <th>mcomisiones</th>\n      <th>...</th>\n      <th>mautoservicio</th>\n      <th>ctarjeta_visa</th>\n      <th>ctarjeta_visa_transacciones</th>\n      <th>mtarjeta_visa_consumo</th>\n      <th>clase_ternaria_202104</th>\n      <th>clase_ternaria_202105</th>\n      <th>clase_ternaria_202106</th>\n      <th>clase_ternaria_202107</th>\n      <th>clase_ternaria_202108</th>\n      <th>clase_ternaria_202109</th>\n    </tr>\n  </thead>\n  <tbody>\n    <tr>\n      <th>0</th>\n      <td>4231431</td>\n      <td>202007</td>\n      <td>0</td>\n      <td>0</td>\n      <td>1</td>\n      <td>51</td>\n      <td>47</td>\n      <td>2685.87</td>\n      <td>49834.16</td>\n      <td>2130.01</td>\n      <td>...</td>\n      <td>0.0</td>\n      <td>1</td>\n      <td>1</td>\n      <td>11810.23</td>\n      <td>CONTINUA</td>\n      <td>CONTINUA</td>\n      <td>CONTINUA</td>\n      <td>CONTINUA</td>\n      <td>CONTINUA</td>\n      <td>CONTINUA</td>\n    </tr>\n    <tr>\n      <th>1</th>\n      <td>4231431</td>\n      <td>202008</td>\n      <td>0</td>\n      <td>0</td>\n      <td>1</td>\n      <td>51</td>\n      <td>48</td>\n      <td>2264.82</td>\n      <td>45425.09</td>\n      <td>1981.17</td>\n      <td>...</td>\n      <td>0.0</td>\n      <td>1</td>\n      <td>1</td>\n      <td>12565.02</td>\n      <td>CONTINUA</td>\n      <td>CONTINUA</td>\n      <td>CONTINUA</td>\n      <td>CONTINUA</td>\n      <td>CONTINUA</td>\n      <td>CONTINUA</td>\n    </tr>\n    <tr>\n      <th>2</th>\n      <td>4231431</td>\n      <td>202009</td>\n      <td>0</td>\n      <td>0</td>\n      <td>1</td>\n      <td>51</td>\n      <td>49</td>\n      <td>2044.97</td>\n      <td>41781.22</td>\n      <td>1812.01</td>\n      <td>...</td>\n      <td>0.0</td>\n      <td>1</td>\n      <td>1</td>\n      <td>12564.98</td>\n      <td>CONTINUA</td>\n      <td>CONTINUA</td>\n      <td>CONTINUA</td>\n      <td>CONTINUA</td>\n      <td>CONTINUA</td>\n      <td>CONTINUA</td>\n    </tr>\n    <tr>\n      <th>3</th>\n      <td>4231431</td>\n      <td>202012</td>\n      <td>1</td>\n      <td>0</td>\n      <td>0</td>\n      <td>51</td>\n      <td>52</td>\n      <td>2522.09</td>\n      <td>35592.87</td>\n      <td>1857.05</td>\n      <td>...</td>\n      <td>0.0</td>\n      <td>1</td>\n      <td>1</td>\n      <td>12564.98</td>\n      <td>CONTINUA</td>\n      <td>CONTINUA</td>\n      <td>CONTINUA</td>\n      <td>CONTINUA</td>\n      <td>CONTINUA</td>\n      <td>CONTINUA</td>\n    </tr>\n    <tr>\n      <th>4</th>\n      <td>4231431</td>\n      <td>202101</td>\n      <td>1</td>\n      <td>0</td>\n      <td>0</td>\n      <td>52</td>\n      <td>53</td>\n      <td>3016.56</td>\n      <td>34162.13</td>\n      <td>2714.54</td>\n      <td>...</td>\n      <td>0.0</td>\n      <td>1</td>\n      <td>1</td>\n      <td>12564.98</td>\n      <td>CONTINUA</td>\n      <td>CONTINUA</td>\n      <td>CONTINUA</td>\n      <td>CONTINUA</td>\n      <td>CONTINUA</td>\n      <td>CONTINUA</td>\n    </tr>\n  </tbody>\n</table>\n<p>5 rows × 35 columns</p>\n</div>"
     },
     "execution_count": 17,
     "metadata": {},
     "output_type": "execute_result"
    }
   ],
   "source": [
    "df.head()"
   ],
   "metadata": {
    "collapsed": false,
    "ExecuteTime": {
     "end_time": "2023-11-14T20:15:55.590833Z",
     "start_time": "2023-11-14T20:15:55.588187Z"
    }
   },
   "id": "c469b865c2fe079f"
  },
  {
   "cell_type": "code",
   "execution_count": 18,
   "outputs": [
    {
     "data": {
      "text/plain": "['clase_ternaria_202104',\n 'clase_ternaria_202105',\n 'clase_ternaria_202106',\n 'clase_ternaria_202107',\n 'clase_ternaria_202108',\n 'clase_ternaria_202109']"
     },
     "execution_count": 18,
     "metadata": {},
     "output_type": "execute_result"
    }
   ],
   "source": [
    "drop_cols = [f\"clase_ternaria_{i}\" for i in MONTHS_INFERENCE]\n",
    "drop_cols"
   ],
   "metadata": {
    "collapsed": false,
    "ExecuteTime": {
     "end_time": "2023-11-14T20:15:56.439073Z",
     "start_time": "2023-11-14T20:15:56.432604Z"
    }
   },
   "id": "bb83e4a687b3274a"
  },
  {
   "cell_type": "code",
   "execution_count": 19,
   "outputs": [
    {
     "data": {
      "text/plain": "    numero_de_cliente  foto_mes clase_ternaria_202109\n0             4231431    202007              CONTINUA\n1             4231431    202008              CONTINUA\n2             4231431    202009              CONTINUA\n3             4231431    202012              CONTINUA\n4             4231431    202101              CONTINUA\n..                ...       ...                   ...\n71                  6    202107              CONTINUA\n72                  7    202107              CONTINUA\n83                  5    202007              CONTINUA\n84          494389234    202007              CONTINUA\n85          494389234    202012              CONTINUA\n\n[76 rows x 3 columns]",
      "text/html": "<div>\n<style scoped>\n    .dataframe tbody tr th:only-of-type {\n        vertical-align: middle;\n    }\n\n    .dataframe tbody tr th {\n        vertical-align: top;\n    }\n\n    .dataframe thead th {\n        text-align: right;\n    }\n</style>\n<table border=\"1\" class=\"dataframe\">\n  <thead>\n    <tr style=\"text-align: right;\">\n      <th></th>\n      <th>numero_de_cliente</th>\n      <th>foto_mes</th>\n      <th>clase_ternaria_202109</th>\n    </tr>\n  </thead>\n  <tbody>\n    <tr>\n      <th>0</th>\n      <td>4231431</td>\n      <td>202007</td>\n      <td>CONTINUA</td>\n    </tr>\n    <tr>\n      <th>1</th>\n      <td>4231431</td>\n      <td>202008</td>\n      <td>CONTINUA</td>\n    </tr>\n    <tr>\n      <th>2</th>\n      <td>4231431</td>\n      <td>202009</td>\n      <td>CONTINUA</td>\n    </tr>\n    <tr>\n      <th>3</th>\n      <td>4231431</td>\n      <td>202012</td>\n      <td>CONTINUA</td>\n    </tr>\n    <tr>\n      <th>4</th>\n      <td>4231431</td>\n      <td>202101</td>\n      <td>CONTINUA</td>\n    </tr>\n    <tr>\n      <th>...</th>\n      <td>...</td>\n      <td>...</td>\n      <td>...</td>\n    </tr>\n    <tr>\n      <th>71</th>\n      <td>6</td>\n      <td>202107</td>\n      <td>CONTINUA</td>\n    </tr>\n    <tr>\n      <th>72</th>\n      <td>7</td>\n      <td>202107</td>\n      <td>CONTINUA</td>\n    </tr>\n    <tr>\n      <th>83</th>\n      <td>5</td>\n      <td>202007</td>\n      <td>CONTINUA</td>\n    </tr>\n    <tr>\n      <th>84</th>\n      <td>494389234</td>\n      <td>202007</td>\n      <td>CONTINUA</td>\n    </tr>\n    <tr>\n      <th>85</th>\n      <td>494389234</td>\n      <td>202012</td>\n      <td>CONTINUA</td>\n    </tr>\n  </tbody>\n</table>\n<p>76 rows × 3 columns</p>\n</div>"
     },
     "execution_count": 19,
     "metadata": {},
     "output_type": "execute_result"
    }
   ],
   "source": [
    "ground_truth = df[[\"numero_de_cliente\",\"foto_mes\", \"clase_ternaria_202109\"]]\n",
    "ground_truth = ground_truth[ground_truth[\"foto_mes\"]<=202107]\n",
    "ground_truth"
   ],
   "metadata": {
    "collapsed": false,
    "ExecuteTime": {
     "end_time": "2023-11-14T20:15:57.136874Z",
     "start_time": "2023-11-14T20:15:57.133885Z"
    }
   },
   "id": "eb4c7e799799cd02"
  },
  {
   "cell_type": "code",
   "execution_count": 21,
   "outputs": [
    {
     "data": {
      "text/plain": "270000"
     },
     "execution_count": 21,
     "metadata": {},
     "output_type": "execute_result"
    }
   ],
   "source": [
    "ground_truth[\"ganancia\"] = ground_truth[\"clase_ternaria_202109\"].map({\"BAJA+2\":270000, \"BAJA+1\":0, \"CONTINUA\":0})\n",
    "ground_truth[\"ganancia\"].sum()"
   ],
   "metadata": {
    "collapsed": false,
    "ExecuteTime": {
     "end_time": "2023-11-14T20:16:10.797748Z",
     "start_time": "2023-11-14T20:16:10.793165Z"
    }
   },
   "id": "f93b43d34e4bd21b"
  },
  {
   "cell_type": "code",
   "execution_count": 30,
   "outputs": [
    {
     "name": "stderr",
     "output_type": "stream",
     "text": [
      "2023/11/13 21:51:44 WARNING mlflow.utils.autologging_utils: Encountered unexpected error during lightgbm autologging: The following failures occurred while performing one or more logging operations: [MlflowException('Failed to perform one or more operations on the run with ID 6fb7a3b173d74111b7ec9edde4b675a1. Failed operations: [MlflowException(\"Duplicate parameter keys have been submitted: [\\'num_boost_round\\']. Please ensure the request contains only one param value per param key.\")]')]\n",
      "2023/11/13 21:51:45 WARNING mlflow.utils.autologging_utils: Encountered unexpected error during lightgbm autologging: The following failures occurred while performing one or more logging operations: [MlflowException('Failed to perform one or more operations on the run with ID a42b2fff32b74461ba40692f995faf7c. Failed operations: [MlflowException(\"Duplicate parameter keys have been submitted: [\\'num_boost_round\\']. Please ensure the request contains only one param value per param key.\")]')]\n",
      "2023/11/13 21:51:47 WARNING mlflow.utils.autologging_utils: Encountered unexpected error during lightgbm autologging: The following failures occurred while performing one or more logging operations: [MlflowException('Failed to perform one or more operations on the run with ID 473f91435af54b1e9f5aa61e721e4378. Failed operations: [MlflowException(\"Duplicate parameter keys have been submitted: [\\'num_boost_round\\']. Please ensure the request contains only one param value per param key.\")]')]\n",
      "2023/11/13 21:51:48 WARNING mlflow.utils.autologging_utils: Encountered unexpected error during lightgbm autologging: The following failures occurred while performing one or more logging operations: [MlflowException('Failed to perform one or more operations on the run with ID 87ea492cad08457fbc4f8cc9a00241c3. Failed operations: [MlflowException(\"Duplicate parameter keys have been submitted: [\\'num_boost_round\\']. Please ensure the request contains only one param value per param key.\")]')]\n",
      "2023/11/13 21:51:50 WARNING mlflow.utils.autologging_utils: Encountered unexpected error during lightgbm autologging: The following failures occurred while performing one or more logging operations: [MlflowException('Failed to perform one or more operations on the run with ID 4376700eaf0745c59311c1e60d094a18. Failed operations: [MlflowException(\"Duplicate parameter keys have been submitted: [\\'num_boost_round\\']. Please ensure the request contains only one param value per param key.\")]')]\n",
      "2023/11/13 21:51:51 WARNING mlflow.utils.autologging_utils: Encountered unexpected error during lightgbm autologging: The following failures occurred while performing one or more logging operations: [MlflowException('Failed to perform one or more operations on the run with ID 040273ce363c4a5aa6cda51cebe4b323. Failed operations: [MlflowException(\"Duplicate parameter keys have been submitted: [\\'num_boost_round\\']. Please ensure the request contains only one param value per param key.\")]')]\n"
     ]
    }
   ],
   "source": [
    "for month in MONTHS_INFERENCE:\n",
    "    df[\"clase_binaria\"] = df[f\"clase_ternaria_{month}\"].map({\"BAJA+2\":1, \"BAJA+1\":1, \"CONTINUA\":0})\n",
    "    \n",
    "    df_test = df[df[\"foto_mes\"].isin([month])].copy()\n",
    "    df_train = df[df[\"foto_mes\"] <= int(month - 2)].copy()\n",
    "    \n",
    "    df_test = df_test.reset_index(drop=True)\n",
    "    df_train = df_train.reset_index(drop=True)\n",
    "    \n",
    "    X_train = df_train.drop(columns=drop_cols, axis=1).copy()\n",
    "    X_test = df_test.drop(columns=drop_cols, axis=1).copy()\n",
    "    \n",
    "    y_train = df_train[\"clase_binaria\"].copy()\n",
    "    \n",
    "    tags = {\n",
    "        'stage': 'monthly',\n",
    "        'last_month': month,\n",
    "    }\n",
    "    \n",
    "    model = train_model(X_train, y_train, PARAMS, tags)\n",
    "    \n",
    "    preds = X_test[[\"numero_de_cliente\", \"foto_mes\"]].copy()\n",
    "    preds[\"prediction\"] = predict_month(model, X_test)\n",
    "    preds = preds.merge(ground_truth, on=[\"numero_de_cliente\", \"foto_mes\"])\n",
    "    \n",
    "    preds.to_csv(f\"datasets/processed/predictions/preds_{month}.csv\", index=False)"
   ],
   "metadata": {
    "collapsed": false,
    "ExecuteTime": {
     "end_time": "2023-11-14T00:51:52.454823Z",
     "start_time": "2023-11-14T00:51:43.442717Z"
    }
   },
   "id": "dde25ad26afff396"
  },
  {
   "cell_type": "code",
   "execution_count": 9,
   "outputs": [],
   "source": [
    "\n"
   ],
   "metadata": {
    "collapsed": false,
    "ExecuteTime": {
     "end_time": "2023-11-14T00:27:45.392046Z",
     "start_time": "2023-11-14T00:27:45.368403Z"
    }
   },
   "id": "45286ca5029fe65d"
  }
 ],
 "metadata": {
  "kernelspec": {
   "display_name": "Python 3",
   "language": "python",
   "name": "python3"
  },
  "language_info": {
   "codemirror_mode": {
    "name": "ipython",
    "version": 2
   },
   "file_extension": ".py",
   "mimetype": "text/x-python",
   "name": "python",
   "nbconvert_exporter": "python",
   "pygments_lexer": "ipython2",
   "version": "2.7.6"
  }
 },
 "nbformat": 4,
 "nbformat_minor": 5
}
