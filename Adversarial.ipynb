{
 "cells": [
  {
   "cell_type": "code",
   "execution_count": 26,
   "id": "initial_id",
   "metadata": {
    "ExecuteTime": {
     "end_time": "2023-11-14T20:15:48.177656Z",
     "start_time": "2023-11-14T20:15:48.172642Z"
    }
   },
   "outputs": [],
   "source": [
    "import duckdb\n",
    "import pandas as pd\n",
    "import numpy as np\n",
    "from src.preprocess.etl import get_dataframe\n",
    "from src.monitoring.adversarial import train_adversarial\n",
    "from src.constants import PATH_DATABASE, MONTHS_BASELINE, MONTHS_INFERENCE, PARAMS\n",
    "\n",
    "\n",
    "import warnings\n",
    "\n",
    "warnings.filterwarnings(\"ignore\")"
   ]
  },
  {
   "cell_type": "code",
   "execution_count": 27,
   "id": "b3e004a2709babbf",
   "metadata": {
    "collapsed": false
   },
   "outputs": [
    {
     "name": "stdout",
     "output_type": "stream",
     "text": [
      "The autoreload extension is already loaded. To reload it, use:\n",
      "  %reload_ext autoreload\n"
     ]
    }
   ],
   "source": [
    "%load_ext autoreload\n",
    "%autoreload 2"
   ]
  },
  {
   "cell_type": "code",
   "execution_count": 3,
   "id": "aa1f133145f969e0",
   "metadata": {
    "ExecuteTime": {
     "end_time": "2023-11-14T20:15:48.553829Z",
     "start_time": "2023-11-14T20:15:48.550112Z"
    },
    "collapsed": false
   },
   "outputs": [],
   "source": [
    "con = duckdb.connect(database=PATH_DATABASE, read_only=True)"
   ]
  },
  {
   "cell_type": "code",
   "execution_count": 4,
   "id": "d3906bbb471b039f",
   "metadata": {
    "ExecuteTime": {
     "end_time": "2023-11-14T20:15:48.853730Z",
     "start_time": "2023-11-14T20:15:48.840919Z"
    },
    "collapsed": false
   },
   "outputs": [
    {
     "data": {
      "text/plain": [
       "'202007, 202008, 202009, 202010, 202011, 202012, 202101, 202102, 202103, 202104, 202105, 202106, 202107, 202108, 202109'"
      ]
     },
     "execution_count": 4,
     "metadata": {},
     "output_type": "execute_result"
    }
   ],
   "source": [
    "all_months = MONTHS_BASELINE + MONTHS_INFERENCE\n",
    "all_months = [str(month) for month in all_months]\n",
    "where_clause = \", \".join(all_months)\n",
    "where_clause"
   ]
  },
  {
   "cell_type": "code",
   "execution_count": 5,
   "id": "2fb775af5dca372a",
   "metadata": {
    "ExecuteTime": {
     "end_time": "2023-11-14T20:15:53.675943Z",
     "start_time": "2023-11-14T20:15:53.666724Z"
    },
    "collapsed": false
   },
   "outputs": [],
   "source": [
    "df = con.sql(\n",
    "    f\"\"\"\n",
    "    SELECT\n",
    "        *\n",
    "    FROM competencia_03\n",
    "    WHERE foto_mes IN ({where_clause})\n",
    "    \"\"\"\n",
    ").to_df()"
   ]
  },
  {
   "cell_type": "code",
   "execution_count": 6,
   "id": "153b27978299900f",
   "metadata": {
    "ExecuteTime": {
     "end_time": "2023-11-14T20:15:54.465019Z",
     "start_time": "2023-11-14T20:15:54.456711Z"
    },
    "collapsed": false
   },
   "outputs": [
    {
     "data": {
      "text/html": [
       "<div>\n",
       "<style scoped>\n",
       "    .dataframe tbody tr th:only-of-type {\n",
       "        vertical-align: middle;\n",
       "    }\n",
       "\n",
       "    .dataframe tbody tr th {\n",
       "        vertical-align: top;\n",
       "    }\n",
       "\n",
       "    .dataframe thead th {\n",
       "        text-align: right;\n",
       "    }\n",
       "</style>\n",
       "<table border=\"1\" class=\"dataframe\">\n",
       "  <thead>\n",
       "    <tr style=\"text-align: right;\">\n",
       "      <th></th>\n",
       "      <th>numero_de_cliente</th>\n",
       "      <th>foto_mes</th>\n",
       "      <th>active_quarter</th>\n",
       "      <th>cliente_vip</th>\n",
       "      <th>internet</th>\n",
       "      <th>cliente_edad</th>\n",
       "      <th>cliente_antiguedad</th>\n",
       "      <th>mrentabilidad</th>\n",
       "      <th>mrentabilidad_annual</th>\n",
       "      <th>mcomisiones</th>\n",
       "      <th>...</th>\n",
       "      <th>Visa_mconsumototal</th>\n",
       "      <th>Visa_cconsumos</th>\n",
       "      <th>Visa_cadelantosefectivo</th>\n",
       "      <th>Visa_mpagominimo</th>\n",
       "      <th>clase_ternaria_202104</th>\n",
       "      <th>clase_ternaria_202105</th>\n",
       "      <th>clase_ternaria_202106</th>\n",
       "      <th>clase_ternaria_202107</th>\n",
       "      <th>clase_ternaria_202108</th>\n",
       "      <th>clase_ternaria_202109</th>\n",
       "    </tr>\n",
       "  </thead>\n",
       "  <tbody>\n",
       "    <tr>\n",
       "      <th>0</th>\n",
       "      <td>39895473</td>\n",
       "      <td>202010</td>\n",
       "      <td>1</td>\n",
       "      <td>0</td>\n",
       "      <td>0</td>\n",
       "      <td>86</td>\n",
       "      <td>317</td>\n",
       "      <td>3890.92</td>\n",
       "      <td>102614.40</td>\n",
       "      <td>3504.48</td>\n",
       "      <td>...</td>\n",
       "      <td>83776.04</td>\n",
       "      <td>13.0</td>\n",
       "      <td>0.0</td>\n",
       "      <td>3343.05</td>\n",
       "      <td>CONTINUA</td>\n",
       "      <td>CONTINUA</td>\n",
       "      <td>CONTINUA</td>\n",
       "      <td>CONTINUA</td>\n",
       "      <td>CONTINUA</td>\n",
       "      <td>CONTINUA</td>\n",
       "    </tr>\n",
       "    <tr>\n",
       "      <th>1</th>\n",
       "      <td>39897650</td>\n",
       "      <td>202010</td>\n",
       "      <td>1</td>\n",
       "      <td>0</td>\n",
       "      <td>0</td>\n",
       "      <td>78</td>\n",
       "      <td>287</td>\n",
       "      <td>2596.92</td>\n",
       "      <td>23324.65</td>\n",
       "      <td>2519.66</td>\n",
       "      <td>...</td>\n",
       "      <td>NaN</td>\n",
       "      <td>NaN</td>\n",
       "      <td>NaN</td>\n",
       "      <td>0.00</td>\n",
       "      <td>CONTINUA</td>\n",
       "      <td>CONTINUA</td>\n",
       "      <td>CONTINUA</td>\n",
       "      <td>CONTINUA</td>\n",
       "      <td>CONTINUA</td>\n",
       "      <td>CONTINUA</td>\n",
       "    </tr>\n",
       "    <tr>\n",
       "      <th>2</th>\n",
       "      <td>39898154</td>\n",
       "      <td>202010</td>\n",
       "      <td>1</td>\n",
       "      <td>0</td>\n",
       "      <td>0</td>\n",
       "      <td>50</td>\n",
       "      <td>173</td>\n",
       "      <td>25485.94</td>\n",
       "      <td>220085.90</td>\n",
       "      <td>2880.73</td>\n",
       "      <td>...</td>\n",
       "      <td>23068.12</td>\n",
       "      <td>9.0</td>\n",
       "      <td>0.0</td>\n",
       "      <td>1489.71</td>\n",
       "      <td>CONTINUA</td>\n",
       "      <td>CONTINUA</td>\n",
       "      <td>CONTINUA</td>\n",
       "      <td>CONTINUA</td>\n",
       "      <td>CONTINUA</td>\n",
       "      <td>CONTINUA</td>\n",
       "    </tr>\n",
       "    <tr>\n",
       "      <th>3</th>\n",
       "      <td>39899418</td>\n",
       "      <td>202010</td>\n",
       "      <td>1</td>\n",
       "      <td>0</td>\n",
       "      <td>1</td>\n",
       "      <td>60</td>\n",
       "      <td>287</td>\n",
       "      <td>2972.55</td>\n",
       "      <td>27917.00</td>\n",
       "      <td>927.91</td>\n",
       "      <td>...</td>\n",
       "      <td>NaN</td>\n",
       "      <td>NaN</td>\n",
       "      <td>NaN</td>\n",
       "      <td>NaN</td>\n",
       "      <td>BAJA+1</td>\n",
       "      <td>BAJA+1</td>\n",
       "      <td>BAJA+1</td>\n",
       "      <td>BAJA+1</td>\n",
       "      <td>BAJA+1</td>\n",
       "      <td>BAJA+1</td>\n",
       "    </tr>\n",
       "    <tr>\n",
       "      <th>4</th>\n",
       "      <td>39899785</td>\n",
       "      <td>202010</td>\n",
       "      <td>1</td>\n",
       "      <td>0</td>\n",
       "      <td>1</td>\n",
       "      <td>56</td>\n",
       "      <td>270</td>\n",
       "      <td>2441.04</td>\n",
       "      <td>13305.49</td>\n",
       "      <td>323.99</td>\n",
       "      <td>...</td>\n",
       "      <td>4973.52</td>\n",
       "      <td>2.0</td>\n",
       "      <td>0.0</td>\n",
       "      <td>10498.35</td>\n",
       "      <td>CONTINUA</td>\n",
       "      <td>CONTINUA</td>\n",
       "      <td>CONTINUA</td>\n",
       "      <td>CONTINUA</td>\n",
       "      <td>CONTINUA</td>\n",
       "      <td>CONTINUA</td>\n",
       "    </tr>\n",
       "  </tbody>\n",
       "</table>\n",
       "<p>5 rows × 160 columns</p>\n",
       "</div>"
      ],
      "text/plain": [
       "   numero_de_cliente  foto_mes  active_quarter  cliente_vip  internet  \\\n",
       "0           39895473    202010               1            0         0   \n",
       "1           39897650    202010               1            0         0   \n",
       "2           39898154    202010               1            0         0   \n",
       "3           39899418    202010               1            0         1   \n",
       "4           39899785    202010               1            0         1   \n",
       "\n",
       "   cliente_edad  cliente_antiguedad  mrentabilidad  mrentabilidad_annual  \\\n",
       "0            86                 317        3890.92             102614.40   \n",
       "1            78                 287        2596.92              23324.65   \n",
       "2            50                 173       25485.94             220085.90   \n",
       "3            60                 287        2972.55              27917.00   \n",
       "4            56                 270        2441.04              13305.49   \n",
       "\n",
       "   mcomisiones  ...  Visa_mconsumototal  Visa_cconsumos  \\\n",
       "0      3504.48  ...            83776.04            13.0   \n",
       "1      2519.66  ...                 NaN             NaN   \n",
       "2      2880.73  ...            23068.12             9.0   \n",
       "3       927.91  ...                 NaN             NaN   \n",
       "4       323.99  ...             4973.52             2.0   \n",
       "\n",
       "   Visa_cadelantosefectivo  Visa_mpagominimo  clase_ternaria_202104  \\\n",
       "0                      0.0           3343.05               CONTINUA   \n",
       "1                      NaN              0.00               CONTINUA   \n",
       "2                      0.0           1489.71               CONTINUA   \n",
       "3                      NaN               NaN                 BAJA+1   \n",
       "4                      0.0          10498.35               CONTINUA   \n",
       "\n",
       "   clase_ternaria_202105  clase_ternaria_202106  clase_ternaria_202107  \\\n",
       "0               CONTINUA               CONTINUA               CONTINUA   \n",
       "1               CONTINUA               CONTINUA               CONTINUA   \n",
       "2               CONTINUA               CONTINUA               CONTINUA   \n",
       "3                 BAJA+1                 BAJA+1                 BAJA+1   \n",
       "4               CONTINUA               CONTINUA               CONTINUA   \n",
       "\n",
       "   clase_ternaria_202108  clase_ternaria_202109  \n",
       "0               CONTINUA               CONTINUA  \n",
       "1               CONTINUA               CONTINUA  \n",
       "2               CONTINUA               CONTINUA  \n",
       "3                 BAJA+1                 BAJA+1  \n",
       "4               CONTINUA               CONTINUA  \n",
       "\n",
       "[5 rows x 160 columns]"
      ]
     },
     "execution_count": 6,
     "metadata": {},
     "output_type": "execute_result"
    }
   ],
   "source": [
    "df.head()"
   ]
  },
  {
   "cell_type": "code",
   "execution_count": 7,
   "id": "7852b315-e1de-48fc-b4d5-f504dbbbbc75",
   "metadata": {},
   "outputs": [
    {
     "data": {
      "text/plain": [
       "array([202007, 202008, 202009, 202010, 202011, 202012, 202101, 202102,\n",
       "       202103, 202104, 202105, 202106, 202107, 202108, 202109])"
      ]
     },
     "execution_count": 7,
     "metadata": {},
     "output_type": "execute_result"
    }
   ],
   "source": [
    "np.sort(df[\"foto_mes\"].unique())"
   ]
  },
  {
   "cell_type": "code",
   "execution_count": 24,
   "id": "b29fa15c002093a9",
   "metadata": {
    "ExecuteTime": {
     "end_time": "2023-11-14T20:15:54.991120Z",
     "start_time": "2023-11-14T20:15:54.985250Z"
    },
    "collapsed": false
   },
   "outputs": [
    {
     "data": {
      "text/plain": [
       "['clase_ternaria_202104',\n",
       " 'clase_ternaria_202105',\n",
       " 'clase_ternaria_202106',\n",
       " 'clase_ternaria_202107',\n",
       " 'clase_ternaria_202108',\n",
       " 'clase_ternaria_202109']"
      ]
     },
     "execution_count": 24,
     "metadata": {},
     "output_type": "execute_result"
    }
   ],
   "source": [
    "drop_cols = [f\"clase_ternaria_{i}\" for i in MONTHS_INFERENCE]\n",
    "drop_cols"
   ]
  },
  {
   "cell_type": "code",
   "execution_count": 9,
   "id": "c469b865c2fe079f",
   "metadata": {
    "ExecuteTime": {
     "end_time": "2023-11-14T20:15:55.590833Z",
     "start_time": "2023-11-14T20:15:55.588187Z"
    },
    "collapsed": false
   },
   "outputs": [
    {
     "data": {
      "text/html": [
       "<div>\n",
       "<style scoped>\n",
       "    .dataframe tbody tr th:only-of-type {\n",
       "        vertical-align: middle;\n",
       "    }\n",
       "\n",
       "    .dataframe tbody tr th {\n",
       "        vertical-align: top;\n",
       "    }\n",
       "\n",
       "    .dataframe thead th {\n",
       "        text-align: right;\n",
       "    }\n",
       "</style>\n",
       "<table border=\"1\" class=\"dataframe\">\n",
       "  <thead>\n",
       "    <tr style=\"text-align: right;\">\n",
       "      <th></th>\n",
       "      <th>numero_de_cliente</th>\n",
       "      <th>foto_mes</th>\n",
       "      <th>clase_ternaria_202109</th>\n",
       "    </tr>\n",
       "  </thead>\n",
       "  <tbody>\n",
       "    <tr>\n",
       "      <th>0</th>\n",
       "      <td>39895473</td>\n",
       "      <td>202010</td>\n",
       "      <td>CONTINUA</td>\n",
       "    </tr>\n",
       "    <tr>\n",
       "      <th>1</th>\n",
       "      <td>39897650</td>\n",
       "      <td>202010</td>\n",
       "      <td>CONTINUA</td>\n",
       "    </tr>\n",
       "    <tr>\n",
       "      <th>2</th>\n",
       "      <td>39898154</td>\n",
       "      <td>202010</td>\n",
       "      <td>CONTINUA</td>\n",
       "    </tr>\n",
       "    <tr>\n",
       "      <th>3</th>\n",
       "      <td>39899418</td>\n",
       "      <td>202010</td>\n",
       "      <td>BAJA+1</td>\n",
       "    </tr>\n",
       "    <tr>\n",
       "      <th>4</th>\n",
       "      <td>39899785</td>\n",
       "      <td>202010</td>\n",
       "      <td>CONTINUA</td>\n",
       "    </tr>\n",
       "    <tr>\n",
       "      <th>...</th>\n",
       "      <td>...</td>\n",
       "      <td>...</td>\n",
       "      <td>...</td>\n",
       "    </tr>\n",
       "    <tr>\n",
       "      <th>2425602</th>\n",
       "      <td>80867796</td>\n",
       "      <td>202106</td>\n",
       "      <td>CONTINUA</td>\n",
       "    </tr>\n",
       "    <tr>\n",
       "      <th>2425603</th>\n",
       "      <td>80868026</td>\n",
       "      <td>202106</td>\n",
       "      <td>CONTINUA</td>\n",
       "    </tr>\n",
       "    <tr>\n",
       "      <th>2425604</th>\n",
       "      <td>80868240</td>\n",
       "      <td>202106</td>\n",
       "      <td>CONTINUA</td>\n",
       "    </tr>\n",
       "    <tr>\n",
       "      <th>2425605</th>\n",
       "      <td>80869734</td>\n",
       "      <td>202106</td>\n",
       "      <td>CONTINUA</td>\n",
       "    </tr>\n",
       "    <tr>\n",
       "      <th>2425606</th>\n",
       "      <td>80870443</td>\n",
       "      <td>202106</td>\n",
       "      <td>CONTINUA</td>\n",
       "    </tr>\n",
       "  </tbody>\n",
       "</table>\n",
       "<p>2095389 rows × 3 columns</p>\n",
       "</div>"
      ],
      "text/plain": [
       "         numero_de_cliente  foto_mes clase_ternaria_202109\n",
       "0                 39895473    202010              CONTINUA\n",
       "1                 39897650    202010              CONTINUA\n",
       "2                 39898154    202010              CONTINUA\n",
       "3                 39899418    202010                BAJA+1\n",
       "4                 39899785    202010              CONTINUA\n",
       "...                    ...       ...                   ...\n",
       "2425602           80867796    202106              CONTINUA\n",
       "2425603           80868026    202106              CONTINUA\n",
       "2425604           80868240    202106              CONTINUA\n",
       "2425605           80869734    202106              CONTINUA\n",
       "2425606           80870443    202106              CONTINUA\n",
       "\n",
       "[2095389 rows x 3 columns]"
      ]
     },
     "execution_count": 9,
     "metadata": {},
     "output_type": "execute_result"
    }
   ],
   "source": [
    "ground_truth = df[[\"numero_de_cliente\",\"foto_mes\", \"clase_ternaria_202109\"]]\n",
    "ground_truth = ground_truth[ground_truth[\"foto_mes\"]<=202107]\n",
    "ground_truth"
   ]
  },
  {
   "cell_type": "code",
   "execution_count": 10,
   "id": "bb83e4a687b3274a",
   "metadata": {
    "ExecuteTime": {
     "end_time": "2023-11-14T20:15:56.439073Z",
     "start_time": "2023-11-14T20:15:56.432604Z"
    },
    "collapsed": false
   },
   "outputs": [
    {
     "data": {
      "text/html": [
       "<div>\n",
       "<style scoped>\n",
       "    .dataframe tbody tr th:only-of-type {\n",
       "        vertical-align: middle;\n",
       "    }\n",
       "\n",
       "    .dataframe tbody tr th {\n",
       "        vertical-align: top;\n",
       "    }\n",
       "\n",
       "    .dataframe thead th {\n",
       "        text-align: right;\n",
       "    }\n",
       "</style>\n",
       "<table border=\"1\" class=\"dataframe\">\n",
       "  <thead>\n",
       "    <tr style=\"text-align: right;\">\n",
       "      <th></th>\n",
       "      <th>numero_de_cliente</th>\n",
       "      <th>foto_mes</th>\n",
       "      <th>clase_ternaria_202109</th>\n",
       "      <th>ganancia</th>\n",
       "    </tr>\n",
       "  </thead>\n",
       "  <tbody>\n",
       "    <tr>\n",
       "      <th>0</th>\n",
       "      <td>39895473</td>\n",
       "      <td>202010</td>\n",
       "      <td>CONTINUA</td>\n",
       "      <td>-7000</td>\n",
       "    </tr>\n",
       "    <tr>\n",
       "      <th>1</th>\n",
       "      <td>39897650</td>\n",
       "      <td>202010</td>\n",
       "      <td>CONTINUA</td>\n",
       "      <td>-7000</td>\n",
       "    </tr>\n",
       "    <tr>\n",
       "      <th>2</th>\n",
       "      <td>39898154</td>\n",
       "      <td>202010</td>\n",
       "      <td>CONTINUA</td>\n",
       "      <td>-7000</td>\n",
       "    </tr>\n",
       "    <tr>\n",
       "      <th>3</th>\n",
       "      <td>39899418</td>\n",
       "      <td>202010</td>\n",
       "      <td>BAJA+1</td>\n",
       "      <td>-7000</td>\n",
       "    </tr>\n",
       "    <tr>\n",
       "      <th>4</th>\n",
       "      <td>39899785</td>\n",
       "      <td>202010</td>\n",
       "      <td>CONTINUA</td>\n",
       "      <td>-7000</td>\n",
       "    </tr>\n",
       "  </tbody>\n",
       "</table>\n",
       "</div>"
      ],
      "text/plain": [
       "   numero_de_cliente  foto_mes clase_ternaria_202109  ganancia\n",
       "0           39895473    202010              CONTINUA     -7000\n",
       "1           39897650    202010              CONTINUA     -7000\n",
       "2           39898154    202010              CONTINUA     -7000\n",
       "3           39899418    202010                BAJA+1     -7000\n",
       "4           39899785    202010              CONTINUA     -7000"
      ]
     },
     "execution_count": 10,
     "metadata": {},
     "output_type": "execute_result"
    }
   ],
   "source": [
    "ground_truth[\"ganancia\"] = ground_truth[\"clase_ternaria_202109\"].map({\"BAJA+2\":270000, \"BAJA+1\":-7000, \"CONTINUA\":-7000})\n",
    "ground_truth.head()"
   ]
  },
  {
   "cell_type": "code",
   "execution_count": 18,
   "id": "26bfb670-9b5f-4e11-9b27-9b36c2afdfc6",
   "metadata": {},
   "outputs": [],
   "source": [
    "test_months = []\n",
    "training_months = sorted(MONTHS_BASELINE)\n",
    "training_months = training_months[0:-1]"
   ]
  },
  {
   "cell_type": "code",
   "execution_count": 28,
   "id": "eb4c7e799799cd02",
   "metadata": {
    "ExecuteTime": {
     "end_time": "2023-11-14T20:15:57.136874Z",
     "start_time": "2023-11-14T20:15:57.133885Z"
    },
    "collapsed": false
   },
   "outputs": [
    {
     "name": "stdout",
     "output_type": "stream",
     "text": [
      "Last month: 202104\n",
      "Training months: [202010 202012 202101 202011 202008 202009 202102 202007]\n",
      "Testing months: [202108 202105 202104 202106 202107 202109]\n"
     ]
    },
    {
     "name": "stderr",
     "output_type": "stream",
     "text": [
      "2023/11/15 21:15:53 WARNING mlflow.models.model: Logging model metadata to the tracking server has failed. The model artifacts have been logged successfully under /home/jauriberamirez/DMEyF_Estabilidad_Modelos/mlruns/1/6d5c745ee131468daee113b4dddbabc9/artifacts. Set logging level to DEBUG via `logging.getLogger(\"mlflow\").setLevel(logging.DEBUG)` to see the full traceback.\n"
     ]
    },
    {
     "name": "stdout",
     "output_type": "stream",
     "text": [
      "Last month: 202105\n",
      "Training months: [202010 202012 202101 202011 202008 202009 202102 202007]\n",
      "Testing months: [202108 202105 202104 202106 202107 202109]\n"
     ]
    },
    {
     "name": "stderr",
     "output_type": "stream",
     "text": [
      "2023/11/15 21:16:43 WARNING mlflow.models.model: Logging model metadata to the tracking server has failed. The model artifacts have been logged successfully under /home/jauriberamirez/DMEyF_Estabilidad_Modelos/mlruns/1/676ad3c52dca4eafb6d63dcc73088072/artifacts. Set logging level to DEBUG via `logging.getLogger(\"mlflow\").setLevel(logging.DEBUG)` to see the full traceback.\n"
     ]
    },
    {
     "name": "stdout",
     "output_type": "stream",
     "text": [
      "Last month: 202106\n",
      "Training months: [202010 202012 202101 202011 202008 202009 202102 202007]\n",
      "Testing months: [202108 202105 202104 202106 202107 202109]\n"
     ]
    },
    {
     "name": "stderr",
     "output_type": "stream",
     "text": [
      "2023/11/15 21:17:34 WARNING mlflow.models.model: Logging model metadata to the tracking server has failed. The model artifacts have been logged successfully under /home/jauriberamirez/DMEyF_Estabilidad_Modelos/mlruns/1/4f052ea1ee3c42ad98e2db05830e8261/artifacts. Set logging level to DEBUG via `logging.getLogger(\"mlflow\").setLevel(logging.DEBUG)` to see the full traceback.\n"
     ]
    },
    {
     "name": "stdout",
     "output_type": "stream",
     "text": [
      "Last month: 202107\n",
      "Training months: [202010 202012 202101 202011 202008 202009 202102 202007]\n",
      "Testing months: [202108 202105 202104 202106 202107 202109]\n"
     ]
    },
    {
     "name": "stderr",
     "output_type": "stream",
     "text": [
      "2023/11/15 21:18:27 WARNING mlflow.models.model: Logging model metadata to the tracking server has failed. The model artifacts have been logged successfully under /home/jauriberamirez/DMEyF_Estabilidad_Modelos/mlruns/1/6579eacb9d5e4d6b9e308fa94f57a106/artifacts. Set logging level to DEBUG via `logging.getLogger(\"mlflow\").setLevel(logging.DEBUG)` to see the full traceback.\n"
     ]
    },
    {
     "name": "stdout",
     "output_type": "stream",
     "text": [
      "Last month: 202108\n",
      "Training months: [202010 202012 202101 202011 202008 202009 202102 202007]\n",
      "Testing months: [202108 202105 202104 202106 202107 202109]\n"
     ]
    },
    {
     "name": "stderr",
     "output_type": "stream",
     "text": [
      "2023/11/15 21:19:17 WARNING mlflow.models.model: Logging model metadata to the tracking server has failed. The model artifacts have been logged successfully under /home/jauriberamirez/DMEyF_Estabilidad_Modelos/mlruns/1/c15b76e8fee8493da18d476e022c965a/artifacts. Set logging level to DEBUG via `logging.getLogger(\"mlflow\").setLevel(logging.DEBUG)` to see the full traceback.\n"
     ]
    },
    {
     "name": "stdout",
     "output_type": "stream",
     "text": [
      "Last month: 202109\n",
      "Training months: [202010 202012 202101 202011 202008 202009 202102 202007]\n",
      "Testing months: [202108 202105 202104 202106 202107 202109]\n"
     ]
    },
    {
     "name": "stderr",
     "output_type": "stream",
     "text": [
      "2023/11/15 21:20:07 WARNING mlflow.models.model: Logging model metadata to the tracking server has failed. The model artifacts have been logged successfully under /home/jauriberamirez/DMEyF_Estabilidad_Modelos/mlruns/1/6156869ec4524893a4eb38be84aab5b5/artifacts. Set logging level to DEBUG via `logging.getLogger(\"mlflow\").setLevel(logging.DEBUG)` to see the full traceback.\n"
     ]
    }
   ],
   "source": [
    "for month in MONTHS_INFERENCE:\n",
    "    print(\"Last month:\", month)\n",
    "    tags_adv = {\n",
    "        'stage': 'adversarial',\n",
    "        'last_month': month,\n",
    "    }\n",
    "    test_months.append(month)\n",
    "    \n",
    "    df_test = df[df[\"foto_mes\"].isin(test_months)].copy()\n",
    "    df_train = df[df[\"foto_mes\"].isin(training_months)].copy()\n",
    "\n",
    "    print(\"Training months:\", df_train[\"foto_mes\"].unique())\n",
    "    print(\"Testing months:\", df_test[\"foto_mes\"].unique())\n",
    "    \n",
    "    df_test = df_test.reset_index(drop=True)\n",
    "    df_train = df_train.reset_index(drop=True)\n",
    "    \n",
    "    X_train = df_train.drop(columns=drop_cols, axis=1).copy()\n",
    "    X_test = df_test.drop(columns=drop_cols, axis=1).copy()\n",
    "\n",
    "    model = train_adversarial(X_train, X_test, \"adversarial\", tags_adv)\n",
    "    "
   ]
  },
  {
   "cell_type": "code",
   "execution_count": null,
   "id": "45286ca5029fe65d",
   "metadata": {
    "ExecuteTime": {
     "end_time": "2023-11-14T00:27:45.392046Z",
     "start_time": "2023-11-14T00:27:45.368403Z"
    },
    "collapsed": false
   },
   "outputs": [],
   "source": []
  },
  {
   "cell_type": "code",
   "execution_count": null,
   "id": "3c66d15a-d746-43e6-a938-7b6b63a7d75b",
   "metadata": {},
   "outputs": [],
   "source": []
  }
 ],
 "metadata": {
  "kernelspec": {
   "display_name": "Python 3 (ipykernel)",
   "language": "python",
   "name": "python3"
  },
  "language_info": {
   "codemirror_mode": {
    "name": "ipython",
    "version": 3
   },
   "file_extension": ".py",
   "mimetype": "text/x-python",
   "name": "python",
   "nbconvert_exporter": "python",
   "pygments_lexer": "ipython3",
   "version": "3.10.12"
  }
 },
 "nbformat": 4,
 "nbformat_minor": 5
}
