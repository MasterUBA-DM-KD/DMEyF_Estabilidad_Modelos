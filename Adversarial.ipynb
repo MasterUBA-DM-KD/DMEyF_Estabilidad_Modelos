{
 "cells": [
  {
   "cell_type": "code",
   "execution_count": 1,
   "id": "initial_id",
   "metadata": {
    "ExecuteTime": {
     "end_time": "2023-11-14T20:15:48.177656Z",
     "start_time": "2023-11-14T20:15:48.172642Z"
    }
   },
   "outputs": [],
   "source": [
    "import duckdb\n",
    "import pandas as pd\n",
    "import numpy as np\n",
    "from src.preprocess.etl import get_dataframe\n",
    "from src.monitoring.adversarial import train_adversarial\n",
    "from src.constants import PATH_DATABASE, MONTHS_BASELINE, MONTHS_INFERENCE, PARAMS\n",
    "\n",
    "\n",
    "import warnings\n",
    "\n",
    "warnings.filterwarnings(\"ignore\")"
   ]
  },
  {
   "cell_type": "code",
   "execution_count": 2,
   "id": "b3e004a2709babbf",
   "metadata": {
    "collapsed": false,
    "jupyter": {
     "outputs_hidden": false
    }
   },
   "outputs": [],
   "source": [
    "%load_ext autoreload\n",
    "%autoreload 2"
   ]
  },
  {
   "cell_type": "code",
   "execution_count": 3,
   "id": "aa1f133145f969e0",
   "metadata": {
    "ExecuteTime": {
     "end_time": "2023-11-14T20:15:48.553829Z",
     "start_time": "2023-11-14T20:15:48.550112Z"
    },
    "collapsed": false,
    "jupyter": {
     "outputs_hidden": false
    }
   },
   "outputs": [],
   "source": [
    "con = duckdb.connect(database=PATH_DATABASE, read_only=True)"
   ]
  },
  {
   "cell_type": "code",
   "execution_count": 4,
   "id": "d3906bbb471b039f",
   "metadata": {
    "ExecuteTime": {
     "end_time": "2023-11-14T20:15:48.853730Z",
     "start_time": "2023-11-14T20:15:48.840919Z"
    },
    "collapsed": false,
    "jupyter": {
     "outputs_hidden": false
    }
   },
   "outputs": [
    {
     "data": {
      "text/plain": [
       "'202007, 202008, 202009, 202010, 202011, 202012, 202101, 202102, 202103, 202104, 202105, 202106, 202107, 202108, 202109'"
      ]
     },
     "execution_count": 4,
     "metadata": {},
     "output_type": "execute_result"
    }
   ],
   "source": [
    "all_months = MONTHS_BASELINE + MONTHS_INFERENCE\n",
    "all_months = [str(month) for month in all_months]\n",
    "where_clause = \", \".join(all_months)\n",
    "where_clause"
   ]
  },
  {
   "cell_type": "code",
   "execution_count": 5,
   "id": "2fb775af5dca372a",
   "metadata": {
    "ExecuteTime": {
     "end_time": "2023-11-14T20:15:53.675943Z",
     "start_time": "2023-11-14T20:15:53.666724Z"
    },
    "collapsed": false,
    "jupyter": {
     "outputs_hidden": false
    }
   },
   "outputs": [],
   "source": [
    "df = con.sql(\n",
    "    f\"\"\"\n",
    "    SELECT\n",
    "        *\n",
    "    FROM competencia_03\n",
    "    WHERE foto_mes IN ({where_clause})\n",
    "    \"\"\"\n",
    ").to_df()"
   ]
  },
  {
   "cell_type": "code",
   "execution_count": 6,
   "id": "34c308f9-c432-49fe-b33b-78dd681650ef",
   "metadata": {},
   "outputs": [
    {
     "name": "stdout",
     "output_type": "stream",
     "text": [
      "<class 'pandas.core.frame.DataFrame'>\n",
      "RangeIndex: 2425607 entries, 0 to 2425606\n",
      "Columns: 160 entries, numero_de_cliente to clase_ternaria_202109\n",
      "dtypes: float64(91), int64(63), object(6)\n",
      "memory usage: 2.9+ GB\n"
     ]
    }
   ],
   "source": [
    "df.info()"
   ]
  },
  {
   "cell_type": "code",
   "execution_count": 7,
   "id": "153b27978299900f",
   "metadata": {
    "ExecuteTime": {
     "end_time": "2023-11-14T20:15:54.465019Z",
     "start_time": "2023-11-14T20:15:54.456711Z"
    },
    "collapsed": false,
    "jupyter": {
     "outputs_hidden": false
    }
   },
   "outputs": [
    {
     "data": {
      "text/html": [
       "<div>\n",
       "<style scoped>\n",
       "    .dataframe tbody tr th:only-of-type {\n",
       "        vertical-align: middle;\n",
       "    }\n",
       "\n",
       "    .dataframe tbody tr th {\n",
       "        vertical-align: top;\n",
       "    }\n",
       "\n",
       "    .dataframe thead th {\n",
       "        text-align: right;\n",
       "    }\n",
       "</style>\n",
       "<table border=\"1\" class=\"dataframe\">\n",
       "  <thead>\n",
       "    <tr style=\"text-align: right;\">\n",
       "      <th></th>\n",
       "      <th>numero_de_cliente</th>\n",
       "      <th>foto_mes</th>\n",
       "      <th>active_quarter</th>\n",
       "      <th>cliente_vip</th>\n",
       "      <th>internet</th>\n",
       "      <th>cliente_edad</th>\n",
       "      <th>cliente_antiguedad</th>\n",
       "      <th>mrentabilidad</th>\n",
       "      <th>mrentabilidad_annual</th>\n",
       "      <th>mcomisiones</th>\n",
       "      <th>...</th>\n",
       "      <th>Visa_mconsumototal</th>\n",
       "      <th>Visa_cconsumos</th>\n",
       "      <th>Visa_cadelantosefectivo</th>\n",
       "      <th>Visa_mpagominimo</th>\n",
       "      <th>clase_ternaria_202104</th>\n",
       "      <th>clase_ternaria_202105</th>\n",
       "      <th>clase_ternaria_202106</th>\n",
       "      <th>clase_ternaria_202107</th>\n",
       "      <th>clase_ternaria_202108</th>\n",
       "      <th>clase_ternaria_202109</th>\n",
       "    </tr>\n",
       "  </thead>\n",
       "  <tbody>\n",
       "    <tr>\n",
       "      <th>0</th>\n",
       "      <td>170787102</td>\n",
       "      <td>202104</td>\n",
       "      <td>1</td>\n",
       "      <td>0</td>\n",
       "      <td>0</td>\n",
       "      <td>37</td>\n",
       "      <td>20</td>\n",
       "      <td>-2288.11</td>\n",
       "      <td>-10051.97</td>\n",
       "      <td>185.33</td>\n",
       "      <td>...</td>\n",
       "      <td>18379.95</td>\n",
       "      <td>3.0</td>\n",
       "      <td>0.0</td>\n",
       "      <td>3155.37</td>\n",
       "      <td>BAJA+1</td>\n",
       "      <td>BAJA+2</td>\n",
       "      <td>CONTINUA</td>\n",
       "      <td>CONTINUA</td>\n",
       "      <td>CONTINUA</td>\n",
       "      <td>CONTINUA</td>\n",
       "    </tr>\n",
       "    <tr>\n",
       "      <th>1</th>\n",
       "      <td>170791577</td>\n",
       "      <td>202104</td>\n",
       "      <td>1</td>\n",
       "      <td>0</td>\n",
       "      <td>0</td>\n",
       "      <td>72</td>\n",
       "      <td>20</td>\n",
       "      <td>996.44</td>\n",
       "      <td>17159.47</td>\n",
       "      <td>1.58</td>\n",
       "      <td>...</td>\n",
       "      <td>NaN</td>\n",
       "      <td>NaN</td>\n",
       "      <td>NaN</td>\n",
       "      <td>0.00</td>\n",
       "      <td>BAJA+1</td>\n",
       "      <td>BAJA+2</td>\n",
       "      <td>CONTINUA</td>\n",
       "      <td>CONTINUA</td>\n",
       "      <td>CONTINUA</td>\n",
       "      <td>CONTINUA</td>\n",
       "    </tr>\n",
       "    <tr>\n",
       "      <th>2</th>\n",
       "      <td>170792123</td>\n",
       "      <td>202104</td>\n",
       "      <td>1</td>\n",
       "      <td>0</td>\n",
       "      <td>0</td>\n",
       "      <td>59</td>\n",
       "      <td>17</td>\n",
       "      <td>-3416.25</td>\n",
       "      <td>-3341.44</td>\n",
       "      <td>1726.09</td>\n",
       "      <td>...</td>\n",
       "      <td>16051.84</td>\n",
       "      <td>2.0</td>\n",
       "      <td>0.0</td>\n",
       "      <td>914.94</td>\n",
       "      <td>BAJA+1</td>\n",
       "      <td>BAJA+2</td>\n",
       "      <td>CONTINUA</td>\n",
       "      <td>CONTINUA</td>\n",
       "      <td>CONTINUA</td>\n",
       "      <td>CONTINUA</td>\n",
       "    </tr>\n",
       "    <tr>\n",
       "      <th>3</th>\n",
       "      <td>170794566</td>\n",
       "      <td>202104</td>\n",
       "      <td>1</td>\n",
       "      <td>0</td>\n",
       "      <td>0</td>\n",
       "      <td>49</td>\n",
       "      <td>19</td>\n",
       "      <td>650.32</td>\n",
       "      <td>6127.41</td>\n",
       "      <td>271.77</td>\n",
       "      <td>...</td>\n",
       "      <td>0.00</td>\n",
       "      <td>0.0</td>\n",
       "      <td>0.0</td>\n",
       "      <td>1372.41</td>\n",
       "      <td>BAJA+1</td>\n",
       "      <td>BAJA+2</td>\n",
       "      <td>CONTINUA</td>\n",
       "      <td>CONTINUA</td>\n",
       "      <td>CONTINUA</td>\n",
       "      <td>CONTINUA</td>\n",
       "    </tr>\n",
       "    <tr>\n",
       "      <th>4</th>\n",
       "      <td>170794754</td>\n",
       "      <td>202104</td>\n",
       "      <td>1</td>\n",
       "      <td>0</td>\n",
       "      <td>3</td>\n",
       "      <td>32</td>\n",
       "      <td>19</td>\n",
       "      <td>-367.77</td>\n",
       "      <td>-2522.09</td>\n",
       "      <td>455.45</td>\n",
       "      <td>...</td>\n",
       "      <td>38210.47</td>\n",
       "      <td>6.0</td>\n",
       "      <td>3.0</td>\n",
       "      <td>21735.69</td>\n",
       "      <td>BAJA+1</td>\n",
       "      <td>BAJA+2</td>\n",
       "      <td>CONTINUA</td>\n",
       "      <td>CONTINUA</td>\n",
       "      <td>CONTINUA</td>\n",
       "      <td>CONTINUA</td>\n",
       "    </tr>\n",
       "  </tbody>\n",
       "</table>\n",
       "<p>5 rows × 160 columns</p>\n",
       "</div>"
      ],
      "text/plain": [
       "   numero_de_cliente  foto_mes  active_quarter  cliente_vip  internet  \\\n",
       "0          170787102    202104               1            0         0   \n",
       "1          170791577    202104               1            0         0   \n",
       "2          170792123    202104               1            0         0   \n",
       "3          170794566    202104               1            0         0   \n",
       "4          170794754    202104               1            0         3   \n",
       "\n",
       "   cliente_edad  cliente_antiguedad  mrentabilidad  mrentabilidad_annual  \\\n",
       "0            37                  20       -2288.11             -10051.97   \n",
       "1            72                  20         996.44              17159.47   \n",
       "2            59                  17       -3416.25              -3341.44   \n",
       "3            49                  19         650.32               6127.41   \n",
       "4            32                  19        -367.77              -2522.09   \n",
       "\n",
       "   mcomisiones  ...  Visa_mconsumototal  Visa_cconsumos  \\\n",
       "0       185.33  ...            18379.95             3.0   \n",
       "1         1.58  ...                 NaN             NaN   \n",
       "2      1726.09  ...            16051.84             2.0   \n",
       "3       271.77  ...                0.00             0.0   \n",
       "4       455.45  ...            38210.47             6.0   \n",
       "\n",
       "   Visa_cadelantosefectivo  Visa_mpagominimo  clase_ternaria_202104  \\\n",
       "0                      0.0           3155.37                 BAJA+1   \n",
       "1                      NaN              0.00                 BAJA+1   \n",
       "2                      0.0            914.94                 BAJA+1   \n",
       "3                      0.0           1372.41                 BAJA+1   \n",
       "4                      3.0          21735.69                 BAJA+1   \n",
       "\n",
       "   clase_ternaria_202105  clase_ternaria_202106  clase_ternaria_202107  \\\n",
       "0                 BAJA+2               CONTINUA               CONTINUA   \n",
       "1                 BAJA+2               CONTINUA               CONTINUA   \n",
       "2                 BAJA+2               CONTINUA               CONTINUA   \n",
       "3                 BAJA+2               CONTINUA               CONTINUA   \n",
       "4                 BAJA+2               CONTINUA               CONTINUA   \n",
       "\n",
       "   clase_ternaria_202108  clase_ternaria_202109  \n",
       "0               CONTINUA               CONTINUA  \n",
       "1               CONTINUA               CONTINUA  \n",
       "2               CONTINUA               CONTINUA  \n",
       "3               CONTINUA               CONTINUA  \n",
       "4               CONTINUA               CONTINUA  \n",
       "\n",
       "[5 rows x 160 columns]"
      ]
     },
     "execution_count": 7,
     "metadata": {},
     "output_type": "execute_result"
    }
   ],
   "source": [
    "df.head()"
   ]
  },
  {
   "cell_type": "code",
   "execution_count": 8,
   "id": "7852b315-e1de-48fc-b4d5-f504dbbbbc75",
   "metadata": {},
   "outputs": [
    {
     "data": {
      "text/plain": [
       "array([202007, 202008, 202009, 202010, 202011, 202012, 202101, 202102,\n",
       "       202103, 202104, 202105, 202106, 202107, 202108, 202109])"
      ]
     },
     "execution_count": 8,
     "metadata": {},
     "output_type": "execute_result"
    }
   ],
   "source": [
    "np.sort(df[\"foto_mes\"].unique())"
   ]
  },
  {
   "cell_type": "code",
   "execution_count": 9,
   "id": "b29fa15c002093a9",
   "metadata": {
    "ExecuteTime": {
     "end_time": "2023-11-14T20:15:54.991120Z",
     "start_time": "2023-11-14T20:15:54.985250Z"
    },
    "collapsed": false,
    "jupyter": {
     "outputs_hidden": false
    }
   },
   "outputs": [
    {
     "data": {
      "text/plain": [
       "['clase_ternaria_202104',\n",
       " 'clase_ternaria_202105',\n",
       " 'clase_ternaria_202106',\n",
       " 'clase_ternaria_202107',\n",
       " 'clase_ternaria_202108',\n",
       " 'clase_ternaria_202109']"
      ]
     },
     "execution_count": 9,
     "metadata": {},
     "output_type": "execute_result"
    }
   ],
   "source": [
    "drop_cols = [f\"clase_ternaria_{i}\" for i in MONTHS_INFERENCE]\n",
    "drop_cols"
   ]
  },
  {
   "cell_type": "code",
   "execution_count": 10,
   "id": "c469b865c2fe079f",
   "metadata": {
    "ExecuteTime": {
     "end_time": "2023-11-14T20:15:55.590833Z",
     "start_time": "2023-11-14T20:15:55.588187Z"
    },
    "collapsed": false,
    "jupyter": {
     "outputs_hidden": false
    }
   },
   "outputs": [
    {
     "data": {
      "text/html": [
       "<div>\n",
       "<style scoped>\n",
       "    .dataframe tbody tr th:only-of-type {\n",
       "        vertical-align: middle;\n",
       "    }\n",
       "\n",
       "    .dataframe tbody tr th {\n",
       "        vertical-align: top;\n",
       "    }\n",
       "\n",
       "    .dataframe thead th {\n",
       "        text-align: right;\n",
       "    }\n",
       "</style>\n",
       "<table border=\"1\" class=\"dataframe\">\n",
       "  <thead>\n",
       "    <tr style=\"text-align: right;\">\n",
       "      <th></th>\n",
       "      <th>numero_de_cliente</th>\n",
       "      <th>foto_mes</th>\n",
       "      <th>clase_ternaria_202109</th>\n",
       "    </tr>\n",
       "  </thead>\n",
       "  <tbody>\n",
       "    <tr>\n",
       "      <th>0</th>\n",
       "      <td>170787102</td>\n",
       "      <td>202104</td>\n",
       "      <td>CONTINUA</td>\n",
       "    </tr>\n",
       "    <tr>\n",
       "      <th>1</th>\n",
       "      <td>170791577</td>\n",
       "      <td>202104</td>\n",
       "      <td>CONTINUA</td>\n",
       "    </tr>\n",
       "    <tr>\n",
       "      <th>2</th>\n",
       "      <td>170792123</td>\n",
       "      <td>202104</td>\n",
       "      <td>CONTINUA</td>\n",
       "    </tr>\n",
       "    <tr>\n",
       "      <th>3</th>\n",
       "      <td>170794566</td>\n",
       "      <td>202104</td>\n",
       "      <td>CONTINUA</td>\n",
       "    </tr>\n",
       "    <tr>\n",
       "      <th>4</th>\n",
       "      <td>170794754</td>\n",
       "      <td>202104</td>\n",
       "      <td>CONTINUA</td>\n",
       "    </tr>\n",
       "    <tr>\n",
       "      <th>...</th>\n",
       "      <td>...</td>\n",
       "      <td>...</td>\n",
       "      <td>...</td>\n",
       "    </tr>\n",
       "    <tr>\n",
       "      <th>2425602</th>\n",
       "      <td>68284360</td>\n",
       "      <td>202010</td>\n",
       "      <td>CONTINUA</td>\n",
       "    </tr>\n",
       "    <tr>\n",
       "      <th>2425603</th>\n",
       "      <td>69736551</td>\n",
       "      <td>202010</td>\n",
       "      <td>CONTINUA</td>\n",
       "    </tr>\n",
       "    <tr>\n",
       "      <th>2425604</th>\n",
       "      <td>69184218</td>\n",
       "      <td>202010</td>\n",
       "      <td>CONTINUA</td>\n",
       "    </tr>\n",
       "    <tr>\n",
       "      <th>2425605</th>\n",
       "      <td>69341118</td>\n",
       "      <td>202010</td>\n",
       "      <td>CONTINUA</td>\n",
       "    </tr>\n",
       "    <tr>\n",
       "      <th>2425606</th>\n",
       "      <td>70018071</td>\n",
       "      <td>202010</td>\n",
       "      <td>CONTINUA</td>\n",
       "    </tr>\n",
       "  </tbody>\n",
       "</table>\n",
       "<p>2095389 rows × 3 columns</p>\n",
       "</div>"
      ],
      "text/plain": [
       "         numero_de_cliente  foto_mes clase_ternaria_202109\n",
       "0                170787102    202104              CONTINUA\n",
       "1                170791577    202104              CONTINUA\n",
       "2                170792123    202104              CONTINUA\n",
       "3                170794566    202104              CONTINUA\n",
       "4                170794754    202104              CONTINUA\n",
       "...                    ...       ...                   ...\n",
       "2425602           68284360    202010              CONTINUA\n",
       "2425603           69736551    202010              CONTINUA\n",
       "2425604           69184218    202010              CONTINUA\n",
       "2425605           69341118    202010              CONTINUA\n",
       "2425606           70018071    202010              CONTINUA\n",
       "\n",
       "[2095389 rows x 3 columns]"
      ]
     },
     "execution_count": 10,
     "metadata": {},
     "output_type": "execute_result"
    }
   ],
   "source": [
    "ground_truth = df[[\"numero_de_cliente\",\"foto_mes\", \"clase_ternaria_202109\"]]\n",
    "ground_truth = ground_truth[ground_truth[\"foto_mes\"]<=202107]\n",
    "ground_truth"
   ]
  },
  {
   "cell_type": "code",
   "execution_count": 11,
   "id": "bb83e4a687b3274a",
   "metadata": {
    "ExecuteTime": {
     "end_time": "2023-11-14T20:15:56.439073Z",
     "start_time": "2023-11-14T20:15:56.432604Z"
    },
    "collapsed": false,
    "jupyter": {
     "outputs_hidden": false
    }
   },
   "outputs": [
    {
     "data": {
      "text/html": [
       "<div>\n",
       "<style scoped>\n",
       "    .dataframe tbody tr th:only-of-type {\n",
       "        vertical-align: middle;\n",
       "    }\n",
       "\n",
       "    .dataframe tbody tr th {\n",
       "        vertical-align: top;\n",
       "    }\n",
       "\n",
       "    .dataframe thead th {\n",
       "        text-align: right;\n",
       "    }\n",
       "</style>\n",
       "<table border=\"1\" class=\"dataframe\">\n",
       "  <thead>\n",
       "    <tr style=\"text-align: right;\">\n",
       "      <th></th>\n",
       "      <th>numero_de_cliente</th>\n",
       "      <th>foto_mes</th>\n",
       "      <th>clase_ternaria_202109</th>\n",
       "      <th>ganancia</th>\n",
       "    </tr>\n",
       "  </thead>\n",
       "  <tbody>\n",
       "    <tr>\n",
       "      <th>0</th>\n",
       "      <td>170787102</td>\n",
       "      <td>202104</td>\n",
       "      <td>CONTINUA</td>\n",
       "      <td>-7000</td>\n",
       "    </tr>\n",
       "    <tr>\n",
       "      <th>1</th>\n",
       "      <td>170791577</td>\n",
       "      <td>202104</td>\n",
       "      <td>CONTINUA</td>\n",
       "      <td>-7000</td>\n",
       "    </tr>\n",
       "    <tr>\n",
       "      <th>2</th>\n",
       "      <td>170792123</td>\n",
       "      <td>202104</td>\n",
       "      <td>CONTINUA</td>\n",
       "      <td>-7000</td>\n",
       "    </tr>\n",
       "    <tr>\n",
       "      <th>3</th>\n",
       "      <td>170794566</td>\n",
       "      <td>202104</td>\n",
       "      <td>CONTINUA</td>\n",
       "      <td>-7000</td>\n",
       "    </tr>\n",
       "    <tr>\n",
       "      <th>4</th>\n",
       "      <td>170794754</td>\n",
       "      <td>202104</td>\n",
       "      <td>CONTINUA</td>\n",
       "      <td>-7000</td>\n",
       "    </tr>\n",
       "  </tbody>\n",
       "</table>\n",
       "</div>"
      ],
      "text/plain": [
       "   numero_de_cliente  foto_mes clase_ternaria_202109  ganancia\n",
       "0          170787102    202104              CONTINUA     -7000\n",
       "1          170791577    202104              CONTINUA     -7000\n",
       "2          170792123    202104              CONTINUA     -7000\n",
       "3          170794566    202104              CONTINUA     -7000\n",
       "4          170794754    202104              CONTINUA     -7000"
      ]
     },
     "execution_count": 11,
     "metadata": {},
     "output_type": "execute_result"
    }
   ],
   "source": [
    "ground_truth[\"ganancia\"] = ground_truth[\"clase_ternaria_202109\"].map({\"BAJA+2\":270000, \"BAJA+1\":-7000, \"CONTINUA\":-7000})\n",
    "ground_truth.head()"
   ]
  },
  {
   "cell_type": "code",
   "execution_count": 12,
   "id": "26bfb670-9b5f-4e11-9b27-9b36c2afdfc6",
   "metadata": {},
   "outputs": [],
   "source": [
    "test_months = []\n",
    "training_months = sorted(MONTHS_BASELINE)\n",
    "training_months = training_months[0:-1]"
   ]
  },
  {
   "cell_type": "code",
   "execution_count": 13,
   "id": "eb4c7e799799cd02",
   "metadata": {
    "ExecuteTime": {
     "end_time": "2023-11-14T20:15:57.136874Z",
     "start_time": "2023-11-14T20:15:57.133885Z"
    },
    "collapsed": false,
    "jupyter": {
     "outputs_hidden": false
    },
    "scrolled": true
   },
   "outputs": [],
   "source": [
    "for month in MONTHS_INFERENCE:\n",
    "    print(\"Last month:\", month)\n",
    "    tags_adv = {\n",
    "        'stage': 'adversarial',\n",
    "        'last_month': month,\n",
    "    }\n",
    "    test_months.append(month)\n",
    "    \n",
    "    df_test = df[df[\"foto_mes\"].isin(test_months)].copy()\n",
    "    df_train = df[df[\"foto_mes\"].isin(training_months)].copy()\n",
    "\n",
    "    print(\"Training months:\", df_train[\"foto_mes\"].unique())\n",
    "    print(\"Testing months:\", df_test[\"foto_mes\"].unique())\n",
    "    \n",
    "    df_test = df_test.reset_index(drop=True)\n",
    "    df_train = df_train.reset_index(drop=True)\n",
    "    \n",
    "    X_train = df_train.drop(columns=drop_cols, axis=1).copy()\n",
    "    X_test = df_test.drop(columns=drop_cols, axis=1).copy()\n",
    "\n",
    "    model = train_adversarial(X_train, X_test, \"adversarial\", tags_adv)\n",
    "    "
   ]
  },
  {
   "cell_type": "markdown",
   "id": "5046c315-2223-464e-884f-32ac6ef62571",
   "metadata": {},
   "source": [
    "foto_mes es la variable que siempre queda en primer lugar, y si la eliminamos?"
   ]
  },
  {
   "cell_type": "code",
   "execution_count": 14,
   "id": "6c998416-7793-4519-ab5d-24ddc5340e75",
   "metadata": {},
   "outputs": [],
   "source": [
    "if True:\n",
    "    drop_cols.append(\"foto_mes\")"
   ]
  },
  {
   "cell_type": "code",
   "execution_count": 15,
   "id": "02a55d24-7651-4dec-9adb-9f38c86c1465",
   "metadata": {},
   "outputs": [
    {
     "name": "stdout",
     "output_type": "stream",
     "text": [
      "Last month: 202104\n",
      "Training months: [202007 202008 202012 202010 202102 202011 202009 202101]\n",
      "Testing months: [202104]\n"
     ]
    },
    {
     "name": "stderr",
     "output_type": "stream",
     "text": [
      "/home/jauriberamirez/.local/lib/python3.10/site-packages/sklearn/linear_model/_logistic.py:460: ConvergenceWarning: lbfgs failed to converge (status=1):\n",
      "STOP: TOTAL NO. of ITERATIONS REACHED LIMIT.\n",
      "\n",
      "Increase the number of iterations (max_iter) or scale the data as shown in:\n",
      "    https://scikit-learn.org/stable/modules/preprocessing.html\n",
      "Please also refer to the documentation for alternative solver options:\n",
      "    https://scikit-learn.org/stable/modules/linear_model.html#logistic-regression\n",
      "  n_iter_i = _check_optimize_result(\n",
      "2023/11/16 02:13:24 WARNING mlflow.utils.requirements_utils: Found lz4 version (3.1.3+dfsg) contains a local version label (+dfsg). MLflow logged a pip requirement for this package as 'lz4==3.1.3' without the local version label to make it installable from PyPI. To specify pip requirements containing local version labels, please use `conda_env` or `pip_requirements`.\n",
      "2023/11/16 02:13:24 WARNING mlflow.models.model: Logging model metadata to the tracking server has failed. The model artifacts have been logged successfully under /home/jauriberamirez/DMEyF_Estabilidad_Modelos/mlruns/1/1fa93c441d73430a90564e2808782c7f/artifacts. Set logging level to DEBUG via `logging.getLogger(\"mlflow\").setLevel(logging.DEBUG)` to see the full traceback.\n"
     ]
    },
    {
     "name": "stdout",
     "output_type": "stream",
     "text": [
      "Last month: 202105\n",
      "Training months: [202007 202008 202012 202010 202102 202011 202009 202101]\n",
      "Testing months: [202104 202105]\n"
     ]
    },
    {
     "name": "stderr",
     "output_type": "stream",
     "text": [
      "/home/jauriberamirez/.local/lib/python3.10/site-packages/sklearn/linear_model/_logistic.py:460: ConvergenceWarning: lbfgs failed to converge (status=1):\n",
      "STOP: TOTAL NO. of ITERATIONS REACHED LIMIT.\n",
      "\n",
      "Increase the number of iterations (max_iter) or scale the data as shown in:\n",
      "    https://scikit-learn.org/stable/modules/preprocessing.html\n",
      "Please also refer to the documentation for alternative solver options:\n",
      "    https://scikit-learn.org/stable/modules/linear_model.html#logistic-regression\n",
      "  n_iter_i = _check_optimize_result(\n",
      "2023/11/16 02:14:51 WARNING mlflow.utils.requirements_utils: Found lz4 version (3.1.3+dfsg) contains a local version label (+dfsg). MLflow logged a pip requirement for this package as 'lz4==3.1.3' without the local version label to make it installable from PyPI. To specify pip requirements containing local version labels, please use `conda_env` or `pip_requirements`.\n",
      "2023/11/16 02:14:51 WARNING mlflow.models.model: Logging model metadata to the tracking server has failed. The model artifacts have been logged successfully under /home/jauriberamirez/DMEyF_Estabilidad_Modelos/mlruns/1/1dc2e437ceed490cb5c8725728986f1a/artifacts. Set logging level to DEBUG via `logging.getLogger(\"mlflow\").setLevel(logging.DEBUG)` to see the full traceback.\n"
     ]
    },
    {
     "name": "stdout",
     "output_type": "stream",
     "text": [
      "Last month: 202106\n",
      "Training months: [202007 202008 202012 202010 202102 202011 202009 202101]\n",
      "Testing months: [202104 202105 202106]\n"
     ]
    },
    {
     "name": "stderr",
     "output_type": "stream",
     "text": [
      "/home/jauriberamirez/.local/lib/python3.10/site-packages/sklearn/linear_model/_logistic.py:460: ConvergenceWarning: lbfgs failed to converge (status=1):\n",
      "STOP: TOTAL NO. of ITERATIONS REACHED LIMIT.\n",
      "\n",
      "Increase the number of iterations (max_iter) or scale the data as shown in:\n",
      "    https://scikit-learn.org/stable/modules/preprocessing.html\n",
      "Please also refer to the documentation for alternative solver options:\n",
      "    https://scikit-learn.org/stable/modules/linear_model.html#logistic-regression\n",
      "  n_iter_i = _check_optimize_result(\n",
      "2023/11/16 02:16:29 WARNING mlflow.utils.requirements_utils: Found lz4 version (3.1.3+dfsg) contains a local version label (+dfsg). MLflow logged a pip requirement for this package as 'lz4==3.1.3' without the local version label to make it installable from PyPI. To specify pip requirements containing local version labels, please use `conda_env` or `pip_requirements`.\n",
      "2023/11/16 02:16:29 WARNING mlflow.models.model: Logging model metadata to the tracking server has failed. The model artifacts have been logged successfully under /home/jauriberamirez/DMEyF_Estabilidad_Modelos/mlruns/1/2a6c649d43b4453cbac45c8964fd02da/artifacts. Set logging level to DEBUG via `logging.getLogger(\"mlflow\").setLevel(logging.DEBUG)` to see the full traceback.\n"
     ]
    },
    {
     "name": "stdout",
     "output_type": "stream",
     "text": [
      "Last month: 202107\n",
      "Training months: [202007 202008 202012 202010 202102 202011 202009 202101]\n",
      "Testing months: [202104 202105 202106 202107]\n"
     ]
    },
    {
     "name": "stderr",
     "output_type": "stream",
     "text": [
      "/home/jauriberamirez/.local/lib/python3.10/site-packages/sklearn/linear_model/_logistic.py:460: ConvergenceWarning: lbfgs failed to converge (status=1):\n",
      "STOP: TOTAL NO. of ITERATIONS REACHED LIMIT.\n",
      "\n",
      "Increase the number of iterations (max_iter) or scale the data as shown in:\n",
      "    https://scikit-learn.org/stable/modules/preprocessing.html\n",
      "Please also refer to the documentation for alternative solver options:\n",
      "    https://scikit-learn.org/stable/modules/linear_model.html#logistic-regression\n",
      "  n_iter_i = _check_optimize_result(\n",
      "2023/11/16 02:18:10 WARNING mlflow.utils.requirements_utils: Found lz4 version (3.1.3+dfsg) contains a local version label (+dfsg). MLflow logged a pip requirement for this package as 'lz4==3.1.3' without the local version label to make it installable from PyPI. To specify pip requirements containing local version labels, please use `conda_env` or `pip_requirements`.\n",
      "2023/11/16 02:18:10 WARNING mlflow.models.model: Logging model metadata to the tracking server has failed. The model artifacts have been logged successfully under /home/jauriberamirez/DMEyF_Estabilidad_Modelos/mlruns/1/47e58413f00a4c36b8de74eab5aaa755/artifacts. Set logging level to DEBUG via `logging.getLogger(\"mlflow\").setLevel(logging.DEBUG)` to see the full traceback.\n"
     ]
    },
    {
     "name": "stdout",
     "output_type": "stream",
     "text": [
      "Last month: 202108\n",
      "Training months: [202007 202008 202012 202010 202102 202011 202009 202101]\n",
      "Testing months: [202104 202105 202106 202107 202108]\n"
     ]
    },
    {
     "name": "stderr",
     "output_type": "stream",
     "text": [
      "2023/11/16 02:20:07 WARNING mlflow.utils.requirements_utils: Found lz4 version (3.1.3+dfsg) contains a local version label (+dfsg). MLflow logged a pip requirement for this package as 'lz4==3.1.3' without the local version label to make it installable from PyPI. To specify pip requirements containing local version labels, please use `conda_env` or `pip_requirements`.\n",
      "2023/11/16 02:20:07 WARNING mlflow.models.model: Logging model metadata to the tracking server has failed. The model artifacts have been logged successfully under /home/jauriberamirez/DMEyF_Estabilidad_Modelos/mlruns/1/a3db69159dc448e6a786d12c3de497aa/artifacts. Set logging level to DEBUG via `logging.getLogger(\"mlflow\").setLevel(logging.DEBUG)` to see the full traceback.\n"
     ]
    },
    {
     "name": "stdout",
     "output_type": "stream",
     "text": [
      "Last month: 202109\n",
      "Training months: [202007 202008 202012 202010 202102 202011 202009 202101]\n",
      "Testing months: [202104 202105 202106 202107 202108 202109]\n"
     ]
    },
    {
     "name": "stderr",
     "output_type": "stream",
     "text": [
      "2023/11/16 02:22:09 WARNING mlflow.utils.requirements_utils: Found lz4 version (3.1.3+dfsg) contains a local version label (+dfsg). MLflow logged a pip requirement for this package as 'lz4==3.1.3' without the local version label to make it installable from PyPI. To specify pip requirements containing local version labels, please use `conda_env` or `pip_requirements`.\n",
      "2023/11/16 02:22:10 WARNING mlflow.models.model: Logging model metadata to the tracking server has failed. The model artifacts have been logged successfully under /home/jauriberamirez/DMEyF_Estabilidad_Modelos/mlruns/1/24f89479e11f4c28afb368d94e608625/artifacts. Set logging level to DEBUG via `logging.getLogger(\"mlflow\").setLevel(logging.DEBUG)` to see the full traceback.\n"
     ]
    }
   ],
   "source": [
    "for month in MONTHS_INFERENCE:\n",
    "    print(\"Last month:\", month)\n",
    "    tags_adv = {\n",
    "        'stage': 'adversarial_sin_foto_mes',\n",
    "        'last_month': month,\n",
    "    }\n",
    "    test_months.append(month)\n",
    "    \n",
    "    df_test = df[df[\"foto_mes\"].isin(test_months)].copy()\n",
    "    df_train = df[df[\"foto_mes\"].isin(training_months)].copy()\n",
    "\n",
    "    print(\"Training months:\", df_train[\"foto_mes\"].unique())\n",
    "    print(\"Testing months:\", df_test[\"foto_mes\"].unique())\n",
    "    \n",
    "    df_test = df_test.reset_index(drop=True)\n",
    "    df_train = df_train.reset_index(drop=True)\n",
    "    \n",
    "    X_train = df_train.drop(columns=drop_cols, axis=1).copy()\n",
    "    X_test = df_test.drop(columns=drop_cols, axis=1).copy()\n",
    "\n",
    "    model = train_adversarial(X_train, X_test, \"adversarial\", tags_adv)\n",
    "    "
   ]
  }
 ],
 "metadata": {
  "kernelspec": {
   "display_name": "Python 3 (ipykernel)",
   "language": "python",
   "name": "python3"
  },
  "language_info": {
   "codemirror_mode": {
    "name": "ipython",
    "version": 3
   },
   "file_extension": ".py",
   "mimetype": "text/x-python",
   "name": "python",
   "nbconvert_exporter": "python",
   "pygments_lexer": "ipython3",
   "version": "3.10.12"
  }
 },
 "nbformat": 4,
 "nbformat_minor": 5
}
